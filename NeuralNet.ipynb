{
 "cells": [
  {
   "cell_type": "markdown",
   "metadata": {},
   "source": [
    "<img src='http://www-scf.usc.edu/~ghasemig/images/sharif.png' alt=\"SUT logo\" width=200 height=200 align=left class=\"saturate\" >\n",
    "\n",
    "<br>\n",
    "<font face=\"Times New Roman\">\n",
    "<div dir=ltr align=center>\n",
    "<font color=0F5298 size=7>\n",
    "    Introduction to Machine Learning <br>\n",
    "<font color=2565AE size=5>\n",
    "    Computer Engineering Department <br>\n",
    "    Fall 2022<br>\n",
    "<font color=3C99D size=5>\n",
    "    Homework 3: Practical - Neural Network <br>\n",
    "<font color=696880 size=4>\n",
    "    Javad Hezareh \n",
    "    \n",
    "    \n",
    "____\n"
   ]
  },
  {
   "cell_type": "markdown",
   "metadata": {},
   "source": [
    "### Full Name : MohammadMehdi Zare\n",
    "### Student Number : 98100431\n",
    "___"
   ]
  },
  {
   "cell_type": "markdown",
   "metadata": {},
   "source": [
    "# Problem\n",
    "In this assignment our goal is to develop a framework for simple neural networks, multi layer perceptrons. We are going to use only `numpy` and no other packages to build our own classes and network."
   ]
  },
  {
   "cell_type": "markdown",
   "metadata": {},
   "source": [
    "# Setup"
   ]
  },
  {
   "cell_type": "code",
   "execution_count": 1,
   "metadata": {
    "pycharm": {
     "name": "#%%\n"
    }
   },
   "outputs": [],
   "source": [
    "###################################\n",
    "#  Do Not Add any other packages  #\n",
    "###################################\n",
    "\n",
    "import numpy as np\n",
    "import seaborn as sn\n",
    "import matplotlib.pyplot as plt\n",
    "import tqdm\n",
    "import copy\n",
    "from utils import *\n",
    "\n",
    "plt.style.use('ggplot')"
   ]
  },
  {
   "cell_type": "markdown",
   "metadata": {},
   "source": [
    "# Section 1: Modules implementation (65 Points)\n",
    "We are going to implement required modules for a neural net. Each of this modules must implement the neccessery functions, `_forward` and `backward`. In the following parts, we will implement `LinearLayer`, `ReLU` and `SoftMax` layers."
   ]
  },
  {
   "cell_type": "markdown",
   "metadata": {},
   "source": [
    "## Layers"
   ]
  },
  {
   "cell_type": "markdown",
   "metadata": {},
   "source": [
    "#### Linear Layer (10 Points)"
   ]
  },
  {
   "cell_type": "code",
   "execution_count": 2,
   "metadata": {
    "pycharm": {
     "name": "#%%\n"
    }
   },
   "outputs": [],
   "source": [
    "class LinearLayer(Module):\n",
    "    \"\"\"\n",
    "    A linear layer module which calculate (Wx + b).\n",
    "    \"\"\"\n",
    "\n",
    "    def __init__(self, dim_in, dim_out, initializer, reg, alpha):\n",
    "        \"\"\"\n",
    "        Args:\n",
    "            - dim_in: input dimension,\n",
    "            - dim_out: output dimension,\n",
    "            - initializer: a function which get (dim_in, dim_out) and initialize\n",
    "                a [dim_in x dim_out] matrix,\n",
    "            - reg: L2-regularization flag\n",
    "            - alpha: L2-regularization coefficient\n",
    "        \"\"\"\n",
    "        self.dim_in = dim_in\n",
    "        self.dim_out = dim_out\n",
    "        self.alpha=alpha\n",
    "        self.reg=reg\n",
    "        self.params = {\n",
    "            #########################################\n",
    "            ##          Initialize parameters      ##\n",
    "            ##              Your Code              ##\n",
    "            #########################################\n",
    "            'W':initializer( dim_in , dim_out ),\n",
    "            'b': np.zeros(dim_out),\n",
    "            \n",
    "        }\n",
    "        self.grads = dict()\n",
    "        self.cache = dict()\n",
    "\n",
    "    def _forward(self, x):\n",
    "        \"\"\"\n",
    "        linear forward function, calculate Wx+b for a batch of data\n",
    "\n",
    "        Args:\n",
    "            x : a batch of data\n",
    "\n",
    "        Note:\n",
    "            you need to store some values in cache to be able to\n",
    "            calculate backward path.\n",
    "        \"\"\"\n",
    "        #########################################\n",
    "        ##              Your Code              ##\n",
    "        #########################################\n",
    "        \n",
    "        y = np.dot(x , self.params[\"W\"].T ) + self.params[\"b\"]\n",
    "        self.cache[\"x\"]=x\n",
    "        return y\n",
    "\n",
    "    def backward(self, upstream):\n",
    "        \"\"\"\n",
    "        get upstream gradient and returns downstream gradient\n",
    "\n",
    "        Args:\n",
    "            upstream : upstream gradient of loss w.r.t module output\n",
    "\n",
    "        Note:\n",
    "            you need to calculate gradient of loss w.r.t module input\n",
    "            and parameters and store them in grads.\n",
    "        \"\"\"\n",
    "        #########################################\n",
    "        ##              Your Code              ##\n",
    "        #########################################\n",
    "    \n",
    "        grad_b = upstream.sum(axis=0)\n",
    "        grad_w = np.dot(upstream.T, self.cache['x'])\n",
    "        grad_x = np.dot(upstream,self.params[\"W\"])\n",
    "        grad_reg = 2*self.alpha* self.params[\"W\"]\n",
    "\n",
    "        \n",
    "        \n",
    "        self.grads = {\n",
    "            'W': grad_w,\n",
    "            'b': grad_b,\n",
    "            'x': grad_x,\n",
    "            'reg': grad_reg\n",
    "        }\n"
   ]
  },
  {
   "cell_type": "code",
   "execution_count": 3,
   "metadata": {
    "pycharm": {
     "name": "#%%\n"
    }
   },
   "outputs": [
    {
     "name": "stdout",
     "output_type": "stream",
     "text": [
      "Gradient of loss w.r.t output:\n",
      "[[0.82955535 0.21114721 0.29056745 0.76196253 0.48381119 0.26313752\n",
      "  0.17058744 0.68924104 0.14521547 0.36108282]\n",
      " [0.17969557 0.61131998 0.90547691 0.09465278 0.04351438 0.82898441\n",
      "  0.53347611 0.25746229 0.83709683 0.91589097]\n",
      " [0.95338569 0.53886974 0.68147718 0.14543317 0.36605854 0.25725115\n",
      "  0.64065521 0.99467217 0.84735271 0.6116583 ]\n",
      " [0.6585274  0.09264464 0.55180917 0.84839143 0.74920247 0.66146217\n",
      "  0.48228694 0.96546312 0.48159736 0.23890255]\n",
      " [0.62490249 0.71391215 0.39654666 0.08349731 0.25206548 0.14235356\n",
      "  0.84943899 0.30579129 0.18025764 0.72632517]\n",
      " [0.07006783 0.77688796 0.90754448 0.97929669 0.15398316 0.39885902\n",
      "  0.85437948 0.42579468 0.34963434 0.91473698]\n",
      " [0.92071169 0.33599422 0.31872931 0.63541889 0.58434891 0.17077758\n",
      "  0.11395208 0.59733395 0.64102327 0.2976854 ]\n",
      " [0.36232214 0.94163488 0.10551311 0.04220206 0.55321597 0.03134844\n",
      "  0.82945429 0.71557495 0.4421455  0.89943093]\n",
      " [0.15358404 0.01888662 0.93738637 0.70363497 0.25615749 0.52405876\n",
      "  0.07851757 0.82801702 0.82128155 0.6839097 ]\n",
      " [0.43418109 0.88647521 0.26329912 0.97095353 0.84626562 0.99043451\n",
      "  0.17365826 0.97193332 0.63421181 0.30386288]]\n",
      "Gradient of loss w.r.t input:\n",
      "[[-2.83540312  2.22911871  0.06641726  0.30589363  0.59741216]\n",
      " [-3.45865527  0.020349    2.2020171   1.70938504 -2.07894974]\n",
      " [-4.84276621  0.87204465  0.20129657  0.25010907 -0.56484589]\n",
      " [-4.15425322  1.50994329  0.67685669 -0.40759201  0.15041607]\n",
      " [-3.05255843  0.27132684  0.45635443  0.8830991  -1.59700324]\n",
      " [-3.52311634  0.83384355  1.30727307  2.14818652 -1.39591457]\n",
      " [-2.94622805  2.64290432  0.01350985 -0.37017925  1.16468439]\n",
      " [-3.61358982  0.00645956  0.29375412  0.90073874 -1.01836811]\n",
      " [-3.33335957  1.07316379  1.46174918  0.78559554  0.02896111]\n",
      " [-4.274753    2.50772322  1.36807522  1.55088036  0.5636692 ]]\n",
      "Gradient of loss w.r.t W:\n",
      "[[-0.07413355  0.8180963  -1.73793658 -0.45139637  3.23746074]\n",
      " [ 1.38987484  1.75706974  1.70546404  1.23489814  0.52410581]\n",
      " [ 0.00630421  1.9269733   0.60665643 -0.28003495  1.57116444]\n",
      " [-1.30000989  2.46883827 -2.94957165 -1.16933264  2.30895259]\n",
      " [-0.69867041  0.79617667 -1.6757166  -0.78370106  2.21580388]\n",
      " [-0.00371523  0.94336928  0.06701201 -1.82406556  1.88801468]\n",
      " [ 0.77006194  1.73546778  1.20094719  0.88269164  1.55779322]\n",
      " [-1.75200249  2.33289953 -2.01195638 -0.91585754  3.49752565]\n",
      " [ 0.08158199  0.8489505   0.76333291 -0.2555532   1.17878441]\n",
      " [ 1.07245762  2.17299004  2.54049985  1.16759882  0.44437057]]\n",
      "Gradient of loss w.r.t b:\n",
      "[5.18693329 5.12777261 5.35834976 5.26544336 4.28862321 4.26866713\n",
      " 4.72640636 6.75128384 5.37981648 5.9534857 ]\n",
      "Relative error of delta-loss (for linear unit):\n",
      "1.8754863853510806e-05\n",
      "Relative error of delta-loss (for regularization):\n",
      "5.656126674182773e-05\n"
     ]
    }
   ],
   "source": [
    "# sanity check, output must be from o(e-5)\n",
    "initializer = lambda x, y: np.random.normal(size=(y, x))\n",
    "linear = LinearLayer(5, 10, initializer, reg=True, alpha=1)\n",
    "check_gradient_linear(linear, h=0.00001)"
   ]
  },
  {
   "cell_type": "markdown",
   "metadata": {},
   "source": [
    "#### ReLU Layer (5 Points)"
   ]
  },
  {
   "cell_type": "code",
   "execution_count": 4,
   "metadata": {
    "pycharm": {
     "name": "#%%\n"
    }
   },
   "outputs": [],
   "source": [
    "class ReLU(Module):\n",
    "    \"\"\"\n",
    "    Rectified Linear Unit function\n",
    "    \"\"\"\n",
    "\n",
    "    def __init__(self):\n",
    "        self.cache = dict()\n",
    "        self.grads = dict()\n",
    "\n",
    "    def _forward(self, x):\n",
    "        \"\"\"\n",
    "        applies relu function on x\n",
    "\n",
    "        Args:\n",
    "            x : a batch of data\n",
    "\n",
    "        Returns:\n",
    "            y : relu of input\n",
    "        \"\"\"\n",
    "        #########################################\n",
    "        ##              Your Code              ##\n",
    "        #########################################\n",
    "        y = np.maximum(0, x)\n",
    "        self.cache[\"y\"]=y\n",
    "        return y\n",
    "\n",
    "    def backward(self, upstream):\n",
    "        \"\"\"\n",
    "        calculate and store gradient of loss w.r.t module input\n",
    "\n",
    "        Args:\n",
    "            upstream : gradient of loss w.r.t modele output\n",
    "        \"\"\"\n",
    "        #########################################\n",
    "        ##              Your Code              ##\n",
    "        #########################################\n",
    "        a=self.cache[\"y\"]\n",
    "        grad_x = upstream*(a>0).astype(a.dtype)\n",
    "\n",
    "        self.grads['x'] = grad_x\n"
   ]
  },
  {
   "cell_type": "code",
   "execution_count": 5,
   "metadata": {
    "pycharm": {
     "name": "#%%\n"
    }
   },
   "outputs": [
    {
     "name": "stdout",
     "output_type": "stream",
     "text": [
      "Gradient of loss w.r.t output:\n",
      "[[0.0584373  0.88325126 0.26846461 0.89464548 0.50320908]\n",
      " [0.09177401 0.38804983 0.72265477 0.53096799 0.3455338 ]\n",
      " [0.24378035 0.21950653 0.93640053 0.87820106 0.33644566]\n",
      " [0.87531923 0.36254974 0.54245228 0.95475059 0.96677731]\n",
      " [0.52121319 0.0189511  0.32733035 0.67793154 0.20010495]\n",
      " [0.7436883  0.46844046 0.26309046 0.4595906  0.83244012]\n",
      " [0.62944357 0.72287473 0.73348264 0.21539666 0.77413853]\n",
      " [0.20357441 0.51746258 0.75884962 0.6687436  0.51406511]\n",
      " [0.71992879 0.77988594 0.72842911 0.12522849 0.8795159 ]\n",
      " [0.64932805 0.24568954 0.25430494 0.42654584 0.25253977]]\n",
      "Gradient of loss w.r.t input:\n",
      "[[0.         0.88325126 0.         0.         0.        ]\n",
      " [0.         0.         0.         0.         0.        ]\n",
      " [0.         0.         0.93640053 0.         0.33644566]\n",
      " [0.87531923 0.36254974 0.         0.         0.96677731]\n",
      " [0.52121319 0.0189511  0.         0.67793154 0.20010495]\n",
      " [0.         0.46844046 0.26309046 0.         0.        ]\n",
      " [0.62944357 0.         0.         0.21539666 0.        ]\n",
      " [0.20357441 0.         0.75884962 0.         0.51406511]\n",
      " [0.         0.         0.72842911 0.         0.        ]\n",
      " [0.64932805 0.24568954 0.25430494 0.42654584 0.25253977]]\n",
      "Relative error of delta-loss:\n",
      "2.484727903125079e-14\n"
     ]
    }
   ],
   "source": [
    "# sanity check - output must be from o(e-8)\n",
    "relu = ReLU()\n",
    "check_gradient_relu(relu)"
   ]
  },
  {
   "cell_type": "markdown",
   "metadata": {},
   "source": [
    "#### SoftMax Layer (15 Points)\n",
    "\n",
    "We could have a layer that calculate softmax for us. In other word, for input $x\\in\\mathcal{R}^N$ it would return $y\\in\\mathcal{R}^n$ where $y_i = \\frac{e^{x_i}}{\\sum e^{x_i}}$. But this method is not numerical stable because $e^{x_i}$ in this formulation can get very large easly and return `nan`. Instead of that we will implement a logarithmic version of softmax which instead of calculating $\\frac{e^{x_i}}{\\sum e^{x_i}}$, we will calculate $\\log\\left(\\frac{e^{x_i}}{\\sum e^{x_i}}\\right) = x_i - \\log\\sum e^{x_i}$. In order to calculate second term you can use `np.logaddexp` but this function only works on two input. For more than two input, fill in the following function to be able to calculate log sum exp of an array of shape (b,n). `axis=1` means sum over columns and `axis=0` sum over rows."
   ]
  },
  {
   "cell_type": "code",
   "execution_count": 6,
   "metadata": {
    "pycharm": {
     "name": "#%%\n"
    }
   },
   "outputs": [],
   "source": [
    "import math\n",
    "def logsumexp(array, axis=1):\n",
    "    \"\"\"\n",
    "    calculate log(sum(exp(array))) using np.logaddexp\n",
    "\n",
    "    Args:\n",
    "        array : input array\n",
    "        axis : reduce axis, 1 means columns and 0 means rows\n",
    "    \"\"\"\n",
    "    \n",
    "    assert len(array) >= 2  \n",
    "    \n",
    "    res=np.zeros((array.shape))\n",
    "    for i in range (array.shape[0]):\n",
    "        y=np.logaddexp(array[i,0],array[i,1])\n",
    "        for j in range(2,array.shape[1]):\n",
    "            y=np.logaddexp(y,array[i,j])\n",
    "        res[i,:]=y;\n",
    "\n",
    "    return res"
   ]
  },
  {
   "cell_type": "code",
   "execution_count": 7,
   "metadata": {
    "pycharm": {
     "name": "#%%\n"
    }
   },
   "outputs": [],
   "source": [
    "class LogSoftMax(Module):\n",
    "    def __init__(self):\n",
    "        self.cache = dict()\n",
    "        self.grads = dict()\n",
    "\n",
    "    def _forward(self, x):\n",
    "        \"\"\"\n",
    "        get x and calculate softmax of that.\n",
    "\n",
    "        Args:\n",
    "            x : batch of data with shape (b,m)\n",
    "\n",
    "        Returns:\n",
    "            y : log softmax of x with shape (b,m)\n",
    "        \"\"\"\n",
    "        #########################################\n",
    "        ##              Your Code              ##\n",
    "        #########################################\n",
    "#         print(\"x is: \" , x)\n",
    "        lse = logsumexp(x, axis=0);\n",
    "        temp=np.ones_like(x)\n",
    "        for i in range(len(lse)):\n",
    "            temp[i]=lse[i]*temp[i]\n",
    "#         print(\"temp is: \" , temp)\n",
    "        y=x-temp\n",
    "#         y=x - lse\n",
    "        self.cache[\"y\"]=y\n",
    "        self.cache[\"x\"]=x\n",
    "#         print(\"y is :\" , y)\n",
    "        return y\n",
    "\n",
    "    def backward(self, upstream):\n",
    "        \"\"\"\n",
    "        calculate gradient of loss w.r.t module input and save that in grads.\n",
    "\n",
    "        Args:\n",
    "            upstream : gradient of loss w.r.t module output with sahpe (b,m)\n",
    "        \"\"\"\n",
    "        #########################################\n",
    "        ##              Your Code              ##\n",
    "        #########################################\n",
    "        softmax=np.exp(self.cache['y'])\n",
    "        s_dim=softmax.shape[1]\n",
    "        grad_x=np.zeros_like(upstream)\n",
    "        for b in range(self.cache['y'].shape[0]):\n",
    "            jac=np.eye(s_dim) - softmax[b,np.newaxis]\n",
    "            grad_x[b] = np.dot(upstream[b], jac)\n",
    "\n",
    "        self.grads['x'] = grad_x\n"
   ]
  },
  {
   "cell_type": "code",
   "execution_count": 8,
   "metadata": {
    "pycharm": {
     "name": "#%%\n"
    }
   },
   "outputs": [
    {
     "name": "stdout",
     "output_type": "stream",
     "text": [
      "Gradient of loss w.r.t output:\n",
      "[[0.1630331  0.13488387 0.64710355 0.267412   0.38909318]\n",
      " [0.17558247 0.28087961 0.28324271 0.94903849 0.49365313]\n",
      " [0.66110396 0.48183119 0.81942941 0.72267524 0.05972474]\n",
      " [0.23687506 0.58419898 0.63517021 0.34454597 0.22345524]\n",
      " [0.88441083 0.96840966 0.22989379 0.11408372 0.45871137]\n",
      " [0.00832097 0.74025973 0.43923602 0.0739073  0.96269913]\n",
      " [0.17190485 0.1383921  0.6479173  0.88009471 0.35911365]\n",
      " [0.42453736 0.08015594 0.24649505 0.0371008  0.95956135]\n",
      " [0.14149331 0.25348514 0.93081829 0.36581357 0.52428419]\n",
      " [0.23683714 0.9252707  0.18926396 0.4527474  0.47814843]]\n",
      "Gradient of loss w.r.t input:\n",
      "[[-0.25543381 -0.14106689  0.41398    -0.12588516  0.10840584]\n",
      " [-0.20376161 -0.15868754 -0.08018071  0.43744502  0.00518484]\n",
      " [ 0.11956483  0.16874444  0.31243645 -0.01058303 -0.59016269]\n",
      " [-0.09121993  0.20407432  0.31101343  0.00085981 -0.42472763]\n",
      " [ 0.28037124  0.35101985 -0.11664377 -0.4851247  -0.02962261]\n",
      " [-0.29306479  0.21679663 -0.12605471 -0.46330875  0.66563162]\n",
      " [-0.403257   -0.28535296  0.22465089  0.32906213  0.13489695]\n",
      " [ 0.02977464 -0.26441952 -0.26649578 -0.19206979  0.69321045]\n",
      " [-0.37287508 -0.16202289  0.67216183 -0.13421601 -0.00304785]\n",
      " [-0.1331356   0.33035269 -0.14465495 -0.06388172  0.01131958]]\n",
      "Relative error of delta-loss:\n",
      "1.3117735989094712e-07\n"
     ]
    }
   ],
   "source": [
    "\n",
    "sm = LogSoftMax()\n",
    "check_gradient_softmax(sm)"
   ]
  },
  {
   "cell_type": "markdown",
   "metadata": {},
   "source": [
    "## Model (10 Points)\n",
    "We need a model class which gathers our layers togather and performs forward and backward on all of them."
   ]
  },
  {
   "cell_type": "code",
   "execution_count": 9,
   "metadata": {
    "pycharm": {
     "name": "#%%\n"
    }
   },
   "outputs": [],
   "source": [
    "class MLPModel(Module):\n",
    "    \"\"\"\n",
    "    A multilayer neural network model\n",
    "    \"\"\"\n",
    "\n",
    "    def __init__(self, layers):\n",
    "        \"\"\"\n",
    "        Args:\n",
    "            layers : list of model layers\n",
    "        \"\"\"\n",
    "        self.layers = layers\n",
    "\n",
    "    def _forward(self, x):\n",
    "        \"\"\"\n",
    "        Perform forward on x\n",
    "\n",
    "        Args:\n",
    "            x : a batch of data\n",
    "\n",
    "        Returns:\n",
    "            o : model output\n",
    "        \"\"\"\n",
    "        #########################################\n",
    "        ##              Your Code              ##\n",
    "        #########################################\n",
    "        current_x=x\n",
    "        for i in range(len(self.layers)):\n",
    "            current_layer=self.layers[i]\n",
    "            current_x=current_layer._forward(current_x)\n",
    "        return current_x\n",
    "    def backward(self, upstream):\n",
    "        \"\"\"\n",
    "        Perform backward path on whole model\n",
    "\n",
    "        Args:\n",
    "            upstream : gradient of loss w.r.t model output\n",
    "        \"\"\"\n",
    "        #########################################\n",
    "        ##              Your Code              ##\n",
    "        #########################################\n",
    "        \n",
    "        current_upstream=upstream\n",
    "        for layer in reversed(self.layers):\n",
    "            layer.backward(current_upstream)\n",
    "            current_upstream=layer.grads[\"x\"]\n",
    "\n",
    "    def get_parameters(self):\n",
    "        \"\"\"\n",
    "        Returns:\n",
    "            parametric_layers : all layers of model which have parameter\n",
    "        \"\"\"\n",
    "        layers=[]\n",
    "        for layer in self.layers:\n",
    "            if(hasattr(layer,\"params\")):\n",
    "                layers.append(layer)\n",
    "        return layers"
   ]
  },
  {
   "cell_type": "markdown",
   "metadata": {},
   "source": [
    "## Loss functions (10 Points)\n",
    "We need to implement loss functions to be able to train our network. We will implement CrossEntropy loss function. But notice that we have implemented `LogSoftMax` in logarithmic way so input of the following class will be logarithm of probabilities. "
   ]
  },
  {
   "cell_type": "code",
   "execution_count": 10,
   "metadata": {
    "pycharm": {
     "name": "#%%\n"
    }
   },
   "outputs": [],
   "source": [
    "class CrossEntropyLoss(Module):\n",
    "    def __init__(self, mean=False):\n",
    "        self.mean = mean\n",
    "        self.cache = dict()\n",
    "        self.grads = dict()\n",
    "\n",
    "    def _forward(self, logprobs, targets):\n",
    "        \"\"\"\n",
    "        Calculate cross entropy of inputs.\n",
    "\n",
    "        Args:\n",
    "            probs : matrix of probabilities with shape (b,n)\n",
    "            targets : list of samples classes with shape (b,)\n",
    "\n",
    "        Returns:\n",
    "            y : cross entropy loss\n",
    "        \"\"\"\n",
    "        #########################################\n",
    "        ##              Your Code              ##\n",
    "        #########################################\n",
    "        m = targets.shape[0]\n",
    "        logits_for_answers=logprobs[range(m),targets]\n",
    "        y= - logits_for_answers \n",
    "        \n",
    "        y= np.sum(y) / m\n",
    "        self.cache['y']=y\n",
    "        self.cache['logprobs']=logprobs\n",
    "        self.cache['targets']=targets\n",
    "        return y\n",
    "\n",
    "    def backward(self, upstream):\n",
    "        \"\"\"\n",
    "        Calculate gradient of loss w.r.t module input and save them in grads.\n",
    "\n",
    "        Args:\n",
    "            upstream : gradient of loss w.r.t module output (loss)\n",
    "        \"\"\"\n",
    "        #########################################\n",
    "        ##              Your Code              ##\n",
    "        #########################################\n",
    "\n",
    "        grad_scores = np.zeros((self.cache['logprobs'].shape))\n",
    "        m = self.cache['targets'].shape[0]\n",
    "        grad_scores[range(m),self.cache['targets']]=-1/(m)\n",
    "        \n",
    "        self.grads['x'] = grad_scores"
   ]
  },
  {
   "cell_type": "code",
   "execution_count": 11,
   "metadata": {
    "pycharm": {
     "name": "#%%\n"
    }
   },
   "outputs": [
    {
     "name": "stdout",
     "output_type": "stream",
     "text": [
      "Gradient of loss w.r.t output:\n",
      "1\n",
      "Gradient of loss w.r.t input:\n",
      "[[ 0.  -0.1  0.   0.   0. ]\n",
      " [ 0.   0.   0.  -0.1  0. ]\n",
      " [ 0.   0.   0.   0.  -0.1]\n",
      " [-0.1  0.   0.   0.   0. ]\n",
      " [-0.1  0.   0.   0.   0. ]\n",
      " [ 0.  -0.1  0.   0.   0. ]\n",
      " [ 0.   0.   0.   0.  -0.1]\n",
      " [ 0.  -0.1  0.   0.   0. ]\n",
      " [ 0.  -0.1  0.   0.   0. ]\n",
      " [ 0.   0.   0.   0.  -0.1]]\n",
      "Relative error of delta-loss:\n",
      "3.327145416815998e-13\n"
     ]
    }
   ],
   "source": [
    "# check gradient, output must be from o(e-10)\n",
    "ce = CrossEntropyLoss()\n",
    "check_gradient_ce(ce, h=0.0001)"
   ]
  },
  {
   "cell_type": "markdown",
   "metadata": {},
   "source": [
    "## Optimization (15 Points)\n",
    "\n",
    "Now that we have our network and loss function, we need to update model paremeters. We can do so by using `Optimizer` class that perform updating rule on model parameters. You need to implement `sgd` and `momentum` strategy for this optimizer. Becarefull to consider regularization update for linear units that require regularization."
   ]
  },
  {
   "cell_type": "code",
   "execution_count": 12,
   "metadata": {
    "pycharm": {
     "name": "#%%\n"
    }
   },
   "outputs": [],
   "source": [
    "class Optimizer():\n",
    "    \"\"\"\n",
    "    Our main optimization class.\n",
    "    \n",
    "    You can add arguments to _sgd and _momentum function if you need to do so, and\n",
    "    pass this arguments to step function when using optimizer. Don't change __init__\n",
    "    or step function.\n",
    "    \"\"\"\n",
    "\n",
    "    def __init__(self, layers, strategy, lr):\n",
    "        \"\"\"\n",
    "        save layers here in order to update their parameters later.\n",
    "\n",
    "        Args:\n",
    "            layers : model layers (those that we want to update their parameters)\n",
    "            strategy : optimization strategy\n",
    "            lr : learning rate\n",
    "        \"\"\"\n",
    "        self.layers = layers\n",
    "        self.strategy = strategy\n",
    "        self.lr = lr\n",
    "        self.strategies = {\n",
    "            'sgd': self._sgd,\n",
    "            'momentum': self._momentum,\n",
    "        }\n",
    "\n",
    "    def step(self, *args):\n",
    "        \"\"\"\n",
    "        Perform updating strategy on all layers paramters.\n",
    "        \"\"\"\n",
    "        self.strategies[self.strategy](*args)\n",
    "\n",
    "    def _sgd(self):\n",
    "        \"\"\"\n",
    "        Perform sgd update on all parameters of layers\n",
    "        \"\"\"\n",
    "        #########################################\n",
    "        ##              Your Code              ##\n",
    "        #########################################\n",
    "        \n",
    "        for layer in self.layers:\n",
    "            if isinstance(layer , LinearLayer):\n",
    "                layer.params[\"W\"]-=layer.grads[\"W\"]*self.lr\n",
    "                layer.params[\"b\"]-=layer.grads[\"b\"]*self.lr\n",
    "                if layer.reg:\n",
    "                    layer.params[\"W\"]-=layer.grads[\"reg\"]*self.lr\n",
    "\n",
    "\n",
    "        \n",
    "    \n",
    "    def _momentum(self):\n",
    "        \"\"\"\n",
    "        Perform momentum update on all parameters of layers\n",
    "        \"\"\"\n",
    "        #########################################\n",
    "        ##              Your Code              ##\n",
    "        #########################################\n",
    "        pass\n"
   ]
  },
  {
   "cell_type": "markdown",
   "metadata": {},
   "source": [
    "# Section 2: CIFAR-10 Classification (35 Points)\n",
    "\n",
    "Now that we can build a neural network we want to solve CIFAR-10 classification problem. This dataset consists of 60000 $32 \\times 32$ coloured images in 10 classes."
   ]
  },
  {
   "cell_type": "markdown",
   "metadata": {},
   "source": [
    "## Data preparation (5 Points)"
   ]
  },
  {
   "cell_type": "code",
   "execution_count": 13,
   "metadata": {
    "pycharm": {
     "name": "#%%\n"
    }
   },
   "outputs": [
    {
     "name": "stderr",
     "output_type": "stream",
     "text": [
      "'.' is not recognized as an internal or external command,\n",
      "operable program or batch file.\n"
     ]
    }
   ],
   "source": [
    "#################################################\n",
    "##      Run this cell to download dataset      ##\n",
    "##         the dataset is about 150 MB         ##\n",
    "#################################################\n",
    "!./cifar10_downloader.bash"
   ]
  },
  {
   "cell_type": "code",
   "execution_count": 14,
   "metadata": {
    "pycharm": {
     "name": "#%%\n"
    }
   },
   "outputs": [
    {
     "name": "stdout",
     "output_type": "stream",
     "text": [
      "X_train: (4000, 32, 32, 3)\n",
      "Y_train: (4000,)\n",
      "X_test: (1000, 32, 32, 3)\n",
      "Y_test: (1000,)\n"
     ]
    }
   ],
   "source": [
    "#############################################\n",
    "##      Run this cell to load dataset      ##\n",
    "#############################################\n",
    "data = load_dataset(train_num=4000, test_num=1000)\n",
    "\n",
    "for k in data.keys():\n",
    "    print(f'{k}: {data[k].shape}')\n"
   ]
  },
  {
   "cell_type": "code",
   "execution_count": 15,
   "metadata": {
    "pycharm": {
     "name": "#%%\n"
    }
   },
   "outputs": [],
   "source": [
    "val_index=np.random.choice(list(range(1,4000)),1200,replace=False)"
   ]
  },
  {
   "cell_type": "code",
   "execution_count": 16,
   "metadata": {
    "pycharm": {
     "name": "#%%\n"
    }
   },
   "outputs": [
    {
     "name": "stdout",
     "output_type": "stream",
     "text": [
      "X_train: (2800, 32, 32, 3)\n",
      "Y_train: (2800,)\n",
      "X_test: (1000, 32, 32, 3)\n",
      "Y_test: (1000,)\n",
      "X_val: (1200, 32, 32, 3)\n",
      "Y_val: (1200,)\n"
     ]
    }
   ],
   "source": [
    "##############################################\n",
    "##      Split train set to train/val        ##\n",
    "################[Your Code]###################\n",
    "data[\"X_val\"]=data[\"X_train\"][val_index,:,: ]\n",
    "data[\"Y_val\"]=data[\"Y_train\"][val_index ]\n",
    "data[\"X_train\"]=np.delete(data[\"X_train\"],val_index, axis=0)\n",
    "data[\"Y_train\"]=np.delete(data[\"Y_train\"],val_index, axis=0 )\n",
    "##############################################\n",
    "for k in data.keys():\n",
    "    print(f'{k}: {data[k].shape}')"
   ]
  },
  {
   "cell_type": "code",
   "execution_count": 17,
   "metadata": {
    "pycharm": {
     "name": "#%%\n"
    }
   },
   "outputs": [
    {
     "data": {
      "image/png": "[encoded data removed]",
      "text/plain": [
       "<Figure size 720x720 with 50 Axes>"
      ]
     },
     "metadata": {},
     "output_type": "display_data"
    }
   ],
   "source": [
    "##################################################\n",
    "##      Visualize 5 samples from each class     ##\n",
    "##################[Your Code]#####################\n",
    "minY=np.min(data[\"Y_train\"])\n",
    "maxY=np.max(data[\"Y_train\"])\n",
    "\n",
    "\n",
    "fig = plt.figure(figsize=(10,10))\n",
    "for i in range(minY,maxY+1):\n",
    "    indices=np.where(data['Y_train']==i)[0]\n",
    "    for j in range(5):\n",
    "        img_grid = fig.add_subplot(10, 5, (i)*5+j+1)\n",
    "        img_grid.imshow(data['X_train'][indices[j]])\n",
    "        img_grid.set_yticks([])\n",
    "        img_grid.set_xticks([])\n",
    "\n",
    "plt.show()"
   ]
  },
  {
   "cell_type": "code",
   "execution_count": 18,
   "metadata": {
    "pycharm": {
     "name": "#%%\n"
    }
   },
   "outputs": [
    {
     "name": "stdout",
     "output_type": "stream",
     "text": [
      "X_train: (2800, 32, 32, 3)\n",
      "Y_train: (2800,)\n",
      "X_test: (1000, 32, 32, 3)\n",
      "Y_test: (1000,)\n",
      "X_val: (1200, 32, 32, 3)\n",
      "Y_val: (1200,)\n",
      "X_train_flatt: (2800, 3072)\n",
      "X_val_flatt: (1200, 3072)\n",
      "X_test_flatt: (1000, 3072)\n",
      "Y_train_flatt: (2800,)\n",
      "Y_test_flatt: (1000,)\n",
      "Y_val_flatt: (1200,)\n"
     ]
    }
   ],
   "source": [
    "#####################################################\n",
    "##             Normalize and flatten X             ##\n",
    "####################[Your Code]######################\n",
    "\n",
    "data[\"X_train_flatt\"]=data[\"X_train\"].reshape(data[\"X_train\"].shape[0],-1)\n",
    "data[\"X_val_flatt\"]=data[\"X_val\"].reshape(data[\"X_val\"].shape[0],-1)\n",
    "data[\"X_test_flatt\"]=data[\"X_test\"].reshape(data[\"X_test\"].shape[0],-1)\n",
    "\n",
    "mean_X=np.mean(data[\"X_train\"])\n",
    "\n",
    "data[\"X_train_flatt\"]-=mean_X\n",
    "data[\"X_val_flatt\"]-=mean_X\n",
    "data[\"X_test_flatt\"]-=mean_X\n",
    "data[\"Y_train_flatt\"]=data[\"Y_train\"]\n",
    "data[\"Y_test_flatt\"]=data[\"Y_test\"]\n",
    "data[\"Y_val_flatt\"]=data[\"Y_val\"]\n",
    "\n",
    "#####################################################\n",
    "for k in data.keys():\n",
    "    print(f'{k}: {data[k].shape}')"
   ]
  },
  {
   "cell_type": "markdown",
   "metadata": {},
   "source": [
    "## Train and Test Model (25 Points)"
   ]
  },
  {
   "cell_type": "markdown",
   "metadata": {},
   "source": [
    "### Batch Sampler\n",
    "We need to sample bathces from our dataset to train model. Complete the following class to have a random sampler."
   ]
  },
  {
   "cell_type": "code",
   "execution_count": 19,
   "metadata": {
    "pycharm": {
     "name": "#%%\n"
    }
   },
   "outputs": [],
   "source": [
    "class RandomSampler(object):\n",
    "    def __init__(self, batch_size, dataset, type):\n",
    "        \"\"\"\n",
    "        Args:\n",
    "            batch_size : sampler batch size\n",
    "            dataset : gh', 'test', 'val'}\n",
    "        \"\"\"\n",
    "        self.batch_size = batch_size\n",
    "        self.dataset = dataset\n",
    "        self.x_key = f'X_{type}'\n",
    "        self.y_key = f'Y_{type}'\n",
    "        self.indices = []\n",
    "        self.num_batches = int(dataset[self.x_key].shape[0]/batch_size)\n",
    "        index=np.array(list(range(dataset[self.x_key].shape[0])))\n",
    "        np.random.shuffle(index)\n",
    "        self.indices=index.reshape(self.num_batches,batch_size)\n",
    "        ################################################################\n",
    "        ##       Build batches indices and store them in indices      ##\n",
    "        ##          Also store number of batches in num_batches       ##\n",
    "        ##                          Your Code                         ##\n",
    "        ################################################################\n",
    "\n",
    "    def __len__(self):\n",
    "        assert type(self.num_batches) == int\n",
    "        return self.num_batches\n",
    "\n",
    "    def __iter__(self):\n",
    "        \"\"\"\n",
    "        This function call when we iterate an object of this class and\n",
    "        yields one batch on each call.\n",
    "\n",
    "        Yields:\n",
    "            (x, y) : tuple of bathces of x and y\n",
    "        \"\"\"\n",
    "        for idx in self.indices:\n",
    "            x = self.dataset[self.x_key][idx]\n",
    "            y = self.dataset[self.y_key][idx]\n",
    "            yield x, y\n"
   ]
  },
  {
   "cell_type": "markdown",
   "metadata": {},
   "source": [
    "Fill the following functions to update a confusion matrix and calculate f1 score for a confusion matrix. For multi class f1 score read [here](https://towardsdatascience.com/multi-class-metrics-made-simple-part-ii-the-f1-score-ebe8b2c2ca1)."
   ]
  },
  {
   "cell_type": "code",
   "execution_count": 20,
   "metadata": {
    "pycharm": {
     "name": "#%%\n"
    }
   },
   "outputs": [],
   "source": [
    "def update_confusion_matrix(conf_matrix, preds, reals):\n",
    "    \"\"\"\n",
    "    Updates confusion matrix\n",
    "\n",
    "    Args:\n",
    "        conf_matrix : input confusion matrix\n",
    "        preds : array of predicted labels\n",
    "        reals : array of real labels\n",
    "\n",
    "    Returns:\n",
    "        conf_matrix : updated confusion matrix\n",
    "    \"\"\"\n",
    "    for i in range(len(preds)):\n",
    "        conf_matrix [preds[i]][reals[i]]+=1\n",
    "    #################################\n",
    "    ##          Your Code          ##\n",
    "    #################################\n",
    "    return conf_matrix\n",
    "\n",
    "\n",
    "def f1_score(confusion_matrix):\n",
    "    \"\"\"\n",
    "    calculate macro f1 score from given confusion matrix\n",
    "\n",
    "    Args:\n",
    "        confusion_matrix : given confusion matrix\n",
    "        \n",
    "    Returns:\n",
    "        f1 : macro f1 score\n",
    "    \"\"\"\n",
    "    \n",
    "    rows_sum=np.sum(confusion_matrix,axis=1)\n",
    "    cols_sum=np.sum(confusion_matrix,axis=0)\n",
    "    prec_classes=confusion_matrix.diagonal()/rows_sum\n",
    "    recal_classes=confusion_matrix.diagonal()/cols_sum\n",
    "    f1_score =np.mean(2*((prec_classes*recal_classes)/(prec_classes+recal_classes)))\n",
    "    \n",
    "    #################################\n",
    "    ##          Your Code          ##\n",
    "    #################################\n",
    "    return f1_score"
   ]
  },
  {
   "cell_type": "markdown",
   "metadata": {},
   "source": [
    "### Define Model\n",
    "Define an MLP model to solve classification problem."
   ]
  },
  {
   "cell_type": "code",
   "execution_count": 21,
   "metadata": {
    "pycharm": {
     "name": "#%%\n"
    }
   },
   "outputs": [],
   "source": [
    "###############################################\n",
    "##             Define your model             ##\n",
    "##     use a good initializer for layers     ##\n",
    "###############################################\n",
    "initializer = lambda x, y: np.random.normal(size=(y, x))\n",
    "layers = [LinearLayer(3072, 10, initializer, reg=True, alpha=.01),LogSoftMax()]\n",
    "\n",
    "model = MLPModel(layers)"
   ]
  },
  {
   "cell_type": "code",
   "execution_count": 22,
   "metadata": {
    "pycharm": {
     "name": "#%%\n"
    }
   },
   "outputs": [],
   "source": [
    "#########################################\n",
    "##          Hyper parameters           ##\n",
    "#########################################\n",
    "\n",
    "n_epochs = 200\n",
    "batch_size = 100\n",
    "lr = .1\n",
    "reg_coeff = 0.0001"
   ]
  },
  {
   "cell_type": "code",
   "execution_count": 23,
   "metadata": {
    "pycharm": {
     "name": "#%%\n"
    }
   },
   "outputs": [],
   "source": [
    "##################################################\n",
    "##      Define optimizer, loss and sampler      ##\n",
    "##################################################\n",
    "\n",
    "optimizer =  Optimizer(layers,'sgd',lr)\n",
    "criterion = CrossEntropyLoss()\n",
    "train_sampler = RandomSampler(batch_size,data,\"train_flatt\")\n",
    "val_sampler =  RandomSampler(batch_size,data,\"val_flatt\")\n",
    "test_sampler =  RandomSampler(batch_size,data,\"test_flatt\")"
   ]
  },
  {
   "cell_type": "markdown",
   "metadata": {},
   "source": [
    "### Train Model\n",
    "\n",
    "Fill in the below cell to train the model. Store each epoch loss, accuracy and f1-score. Use f1-score to choose best epoch.\n",
    "\n",
    "**Note1**: To do backpropagation you need to first call `backward` function of criterion with 1 as its argument to have gradient of loss w.r.t output of this module and then using model `backward` function with `criterion.grads['x']` argument.\n",
    "\n",
    "**Note2**: You can ignore regularization term in your total loss value and just use criterion, but you must consider that during updating."
   ]
  },
  {
   "cell_type": "markdown",
   "metadata": {},
   "source": [
    "### Test Model"
   ]
  },
  {
   "cell_type": "code",
   "execution_count": 24,
   "metadata": {
    "pycharm": {
     "name": "#%%\n"
    }
   },
   "outputs": [
    {
     "name": "stderr",
     "output_type": "stream",
     "text": [
      "  0%|                                                                                           | 0/28 [00:00<?, ?it/s]<ipython-input-20-295fad65e5f0>:36: RuntimeWarning: invalid value encountered in true_divide\n",
      "  f1_score =np.mean(2*((prec_classes*recal_classes)/(prec_classes+recal_classes)))\n",
      "Train 0 | Loss:1.51e+01 | Acc: 0.13| F1: 0.12|: 100%|█████████████████████████████████| 28/28 [00:00<00:00, 100.47it/s]\n",
      "Val   0 | Loss:1.32e+01 | Acc: 0.14| F1: 0.13|: 100%|█████████████████████████████████| 12/12 [00:00<00:00, 120.34it/s]\n",
      "Train 1 | Loss:1.16e+01 | Acc: 0.15| F1: 0.15|:  32%|███████████▎                       | 9/28 [00:00<00:00, 89.04it/s]"
     ]
    },
    {
     "name": "stdout",
     "output_type": "stream",
     "text": [
      "----------------------------[Epoch1 finished!]----------------------------\n"
     ]
    },
    {
     "name": "stderr",
     "output_type": "stream",
     "text": [
      "Train 1 | Loss:1.13e+01 | Acc: 0.16| F1: 0.15|: 100%|██████████████████████████████████| 28/28 [00:00<00:00, 90.47it/s]\n",
      "Val   1 | Loss:1.08e+01 | Acc: 0.15| F1: 0.14|: 100%|█████████████████████████████████| 12/12 [00:00<00:00, 153.37it/s]\n",
      "Train 2 | Loss:9.57e+00 | Acc: 0.17| F1: 0.17|:  39%|████████████▉                    | 11/28 [00:00<00:00, 100.42it/s]"
     ]
    },
    {
     "name": "stdout",
     "output_type": "stream",
     "text": [
      "----------------------------[Epoch2 finished!]----------------------------\n"
     ]
    },
    {
     "name": "stderr",
     "output_type": "stream",
     "text": [
      "Train 2 | Loss:9.33e+00 | Acc: 0.18| F1: 0.17|: 100%|██████████████████████████████████| 28/28 [00:00<00:00, 98.21it/s]\n",
      "Val   2 | Loss:9.32e+00 | Acc: 0.16| F1: 0.16|: 100%|█████████████████████████████████| 12/12 [00:00<00:00, 140.76it/s]\n",
      "Train 3 | Loss:8.25e+00 | Acc: 0.18| F1: 0.18|:  36%|████████████▏                     | 10/28 [00:00<00:00, 96.16it/s]"
     ]
    },
    {
     "name": "stdout",
     "output_type": "stream",
     "text": [
      "----------------------------[Epoch3 finished!]----------------------------\n"
     ]
    },
    {
     "name": "stderr",
     "output_type": "stream",
     "text": [
      "Train 3 | Loss:8.06e+00 | Acc: 0.19| F1: 0.19|: 100%|██████████████████████████████████| 28/28 [00:00<00:00, 93.09it/s]\n",
      "Val   3 | Loss:8.22e+00 | Acc: 0.17| F1: 0.17|: 100%|█████████████████████████████████| 12/12 [00:00<00:00, 144.14it/s]\n",
      "Train 4 | Loss:7.24e+00 | Acc: 0.20| F1: 0.20|:  36%|████████████▏                     | 10/28 [00:00<00:00, 92.14it/s]"
     ]
    },
    {
     "name": "stdout",
     "output_type": "stream",
     "text": [
      "----------------------------[Epoch4 finished!]----------------------------\n"
     ]
    },
    {
     "name": "stderr",
     "output_type": "stream",
     "text": [
      "Train 4 | Loss:7.10e+00 | Acc: 0.20| F1: 0.20|: 100%|██████████████████████████████████| 28/28 [00:00<00:00, 93.71it/s]\n",
      "Val   4 | Loss:7.35e+00 | Acc: 0.18| F1: 0.18|: 100%|█████████████████████████████████| 12/12 [00:00<00:00, 149.69it/s]\n",
      "Train 5 | Loss:6.46e+00 | Acc: 0.21| F1: 0.21|:  39%|████████████▉                    | 11/28 [00:00<00:00, 103.16it/s]"
     ]
    },
    {
     "name": "stdout",
     "output_type": "stream",
     "text": [
      "----------------------------[Epoch5 finished!]----------------------------\n"
     ]
    },
    {
     "name": "stderr",
     "output_type": "stream",
     "text": [
      "Train 5 | Loss:6.34e+00 | Acc: 0.21| F1: 0.21|: 100%|█████████████████████████████████| 28/28 [00:00<00:00, 106.98it/s]\n",
      "Val   5 | Loss:6.64e+00 | Acc: 0.19| F1: 0.19|: 100%|█████████████████████████████████| 12/12 [00:00<00:00, 157.36it/s]\n",
      "Train 6 | Loss:5.78e+00 | Acc: 0.22| F1: 0.22|:  39%|████████████▉                    | 11/28 [00:00<00:00, 103.14it/s]"
     ]
    },
    {
     "name": "stdout",
     "output_type": "stream",
     "text": [
      "----------------------------[Epoch6 finished!]----------------------------\n"
     ]
    },
    {
     "name": "stderr",
     "output_type": "stream",
     "text": [
      "Train 6 | Loss:5.71e+00 | Acc: 0.22| F1: 0.22|: 100%|██████████████████████████████████| 28/28 [00:00<00:00, 94.35it/s]\n",
      "Val   6 | Loss:6.04e+00 | Acc: 0.19| F1: 0.19|: 100%|█████████████████████████████████| 12/12 [00:00<00:00, 121.34it/s]\n",
      "Train 7 | Loss:5.27e+00 | Acc: 0.23| F1: 0.23|:  32%|███████████▎                       | 9/28 [00:00<00:00, 87.50it/s]"
     ]
    },
    {
     "name": "stdout",
     "output_type": "stream",
     "text": [
      "----------------------------[Epoch7 finished!]----------------------------\n"
     ]
    },
    {
     "name": "stderr",
     "output_type": "stream",
     "text": [
      "Train 7 | Loss:5.17e+00 | Acc: 0.23| F1: 0.23|: 100%|██████████████████████████████████| 28/28 [00:00<00:00, 86.32it/s]\n",
      "Val   7 | Loss:5.52e+00 | Acc: 0.20| F1: 0.20|: 100%|█████████████████████████████████| 12/12 [00:00<00:00, 142.56it/s]\n",
      "Train 8 | Loss:4.76e+00 | Acc: 0.24| F1: 0.24|:  36%|████████████▏                     | 10/28 [00:00<00:00, 95.34it/s]"
     ]
    },
    {
     "name": "stdout",
     "output_type": "stream",
     "text": [
      "----------------------------[Epoch8 finished!]----------------------------\n"
     ]
    },
    {
     "name": "stderr",
     "output_type": "stream",
     "text": [
      "Train 8 | Loss:4.71e+00 | Acc: 0.24| F1: 0.23|: 100%|██████████████████████████████████| 28/28 [00:00<00:00, 99.93it/s]\n",
      "Val   8 | Loss:5.08e+00 | Acc: 0.20| F1: 0.20|: 100%|█████████████████████████████████| 12/12 [00:00<00:00, 131.60it/s]\n",
      "Train 9 | Loss:4.39e+00 | Acc: 0.25| F1: 0.25|:  29%|██████████                         | 8/28 [00:00<00:00, 77.05it/s]"
     ]
    },
    {
     "name": "stdout",
     "output_type": "stream",
     "text": [
      "----------------------------[Epoch9 finished!]----------------------------\n"
     ]
    },
    {
     "name": "stderr",
     "output_type": "stream",
     "text": [
      "Train 9 | Loss:4.31e+00 | Acc: 0.25| F1: 0.25|: 100%|██████████████████████████████████| 28/28 [00:00<00:00, 85.80it/s]\n",
      "Val   9 | Loss:4.69e+00 | Acc: 0.21| F1: 0.21|: 100%|█████████████████████████████████| 12/12 [00:00<00:00, 135.12it/s]\n",
      "Train 10 | Loss:4.07e+00 | Acc: 0.26| F1: 0.26|:  32%|██████████▉                       | 9/28 [00:00<00:00, 82.09it/s]"
     ]
    },
    {
     "name": "stdout",
     "output_type": "stream",
     "text": [
      "----------------------------[Epoch10 finished!]----------------------------\n"
     ]
    },
    {
     "name": "stderr",
     "output_type": "stream",
     "text": [
      "Train 10 | Loss:3.96e+00 | Acc: 0.26| F1: 0.25|: 100%|█████████████████████████████████| 28/28 [00:00<00:00, 84.57it/s]\n",
      "Val   10 | Loss:4.35e+00 | Acc: 0.21| F1: 0.21|: 100%|████████████████████████████████| 12/12 [00:00<00:00, 149.14it/s]\n",
      "Train 11 | Loss:3.75e+00 | Acc: 0.26| F1: 0.26|:  32%|██████████▉                       | 9/28 [00:00<00:00, 88.42it/s]"
     ]
    },
    {
     "name": "stdout",
     "output_type": "stream",
     "text": [
      "----------------------------[Epoch11 finished!]----------------------------\n"
     ]
    },
    {
     "name": "stderr",
     "output_type": "stream",
     "text": [
      "Train 11 | Loss:3.65e+00 | Acc: 0.26| F1: 0.26|: 100%|█████████████████████████████████| 28/28 [00:00<00:00, 74.30it/s]\n",
      "Val   11 | Loss:4.05e+00 | Acc: 0.22| F1: 0.22|: 100%|████████████████████████████████| 12/12 [00:00<00:00, 156.79it/s]\n",
      "Train 12 | Loss:3.44e+00 | Acc: 0.27| F1: 0.27|:  43%|█████████████▋                  | 12/28 [00:00<00:00, 104.75it/s]"
     ]
    },
    {
     "name": "stdout",
     "output_type": "stream",
     "text": [
      "----------------------------[Epoch12 finished!]----------------------------\n"
     ]
    },
    {
     "name": "stderr",
     "output_type": "stream",
     "text": [
      "Train 12 | Loss:3.38e+00 | Acc: 0.27| F1: 0.27|: 100%|████████████████████████████████| 28/28 [00:00<00:00, 105.50it/s]\n",
      "Val   12 | Loss:3.78e+00 | Acc: 0.23| F1: 0.23|: 100%|████████████████████████████████| 12/12 [00:00<00:00, 160.84it/s]\n",
      "Train 13 | Loss:3.17e+00 | Acc: 0.28| F1: 0.28|:  39%|████████████▌                   | 11/28 [00:00<00:00, 105.92it/s]"
     ]
    },
    {
     "name": "stdout",
     "output_type": "stream",
     "text": [
      "----------------------------[Epoch13 finished!]----------------------------\n"
     ]
    },
    {
     "name": "stderr",
     "output_type": "stream",
     "text": [
      "Train 13 | Loss:3.15e+00 | Acc: 0.28| F1: 0.28|: 100%|█████████████████████████████████| 28/28 [00:00<00:00, 90.09it/s]\n",
      "Val   13 | Loss:3.55e+00 | Acc: 0.23| F1: 0.23|: 100%|████████████████████████████████| 12/12 [00:00<00:00, 121.08it/s]\n",
      "Train 14 | Loss:2.98e+00 | Acc: 0.28| F1: 0.28|:  36%|███████████▊                     | 10/28 [00:00<00:00, 96.15it/s]"
     ]
    },
    {
     "name": "stdout",
     "output_type": "stream",
     "text": [
      "----------------------------[Epoch14 finished!]----------------------------\n"
     ]
    },
    {
     "name": "stderr",
     "output_type": "stream",
     "text": [
      "Train 14 | Loss:2.94e+00 | Acc: 0.28| F1: 0.28|: 100%|████████████████████████████████| 28/28 [00:00<00:00, 102.38it/s]\n",
      "Val   14 | Loss:3.35e+00 | Acc: 0.24| F1: 0.24|: 100%|████████████████████████████████| 12/12 [00:00<00:00, 158.86it/s]\n",
      "Train 15 | Loss:2.78e+00 | Acc: 0.29| F1: 0.29|:  39%|████████████▌                   | 11/28 [00:00<00:00, 103.22it/s]"
     ]
    },
    {
     "name": "stdout",
     "output_type": "stream",
     "text": [
      "----------------------------[Epoch15 finished!]----------------------------\n"
     ]
    },
    {
     "name": "stderr",
     "output_type": "stream",
     "text": [
      "Train 15 | Loss:2.76e+00 | Acc: 0.29| F1: 0.29|: 100%|████████████████████████████████| 28/28 [00:00<00:00, 105.16it/s]\n",
      "Val   15 | Loss:3.17e+00 | Acc: 0.24| F1: 0.24|: 100%|████████████████████████████████| 12/12 [00:00<00:00, 154.38it/s]\n",
      "Train 16 | Loss:2.62e+00 | Acc: 0.30| F1: 0.30|:  39%|████████████▉                    | 11/28 [00:00<00:00, 99.66it/s]"
     ]
    },
    {
     "name": "stdout",
     "output_type": "stream",
     "text": [
      "----------------------------[Epoch16 finished!]----------------------------\n"
     ]
    },
    {
     "name": "stderr",
     "output_type": "stream",
     "text": [
      "Train 16 | Loss:2.60e+00 | Acc: 0.30| F1: 0.30|: 100%|████████████████████████████████| 28/28 [00:00<00:00, 100.07it/s]\n",
      "Val   16 | Loss:3.01e+00 | Acc: 0.25| F1: 0.25|: 100%|████████████████████████████████| 12/12 [00:00<00:00, 149.53it/s]\n",
      "Train 17 | Loss:2.48e+00 | Acc: 0.30| F1: 0.30|:  43%|█████████████▋                  | 12/28 [00:00<00:00, 109.45it/s]"
     ]
    },
    {
     "name": "stdout",
     "output_type": "stream",
     "text": [
      "----------------------------[Epoch17 finished!]----------------------------\n"
     ]
    },
    {
     "name": "stderr",
     "output_type": "stream",
     "text": [
      "Train 17 | Loss:2.46e+00 | Acc: 0.31| F1: 0.30|: 100%|████████████████████████████████| 28/28 [00:00<00:00, 106.66it/s]\n",
      "Val   17 | Loss:2.87e+00 | Acc: 0.26| F1: 0.25|: 100%|████████████████████████████████| 12/12 [00:00<00:00, 147.73it/s]\n",
      "Train 18 | Loss:2.35e+00 | Acc: 0.31| F1: 0.31|:  39%|████████████▌                   | 11/28 [00:00<00:00, 108.83it/s]"
     ]
    },
    {
     "name": "stdout",
     "output_type": "stream",
     "text": [
      "----------------------------[Epoch18 finished!]----------------------------\n"
     ]
    },
    {
     "name": "stderr",
     "output_type": "stream",
     "text": [
      "Train 18 | Loss:2.34e+00 | Acc: 0.32| F1: 0.31|: 100%|████████████████████████████████| 28/28 [00:00<00:00, 110.04it/s]\n",
      "Val   18 | Loss:2.75e+00 | Acc: 0.26| F1: 0.26|: 100%|████████████████████████████████| 12/12 [00:00<00:00, 163.04it/s]\n",
      "Train 19 | Loss:2.26e+00 | Acc: 0.32| F1: 0.32|:  39%|████████████▌                   | 11/28 [00:00<00:00, 102.95it/s]"
     ]
    },
    {
     "name": "stdout",
     "output_type": "stream",
     "text": [
      "----------------------------[Epoch19 finished!]----------------------------\n"
     ]
    },
    {
     "name": "stderr",
     "output_type": "stream",
     "text": [
      "Train 19 | Loss:2.23e+00 | Acc: 0.33| F1: 0.32|: 100%|████████████████████████████████| 28/28 [00:00<00:00, 102.80it/s]\n",
      "Val   19 | Loss:2.64e+00 | Acc: 0.27| F1: 0.26|: 100%|████████████████████████████████| 12/12 [00:00<00:00, 156.69it/s]\n",
      "Train 20 | Loss:2.15e+00 | Acc: 0.33| F1: 0.32|:  43%|█████████████▋                  | 12/28 [00:00<00:00, 114.66it/s]"
     ]
    },
    {
     "name": "stdout",
     "output_type": "stream",
     "text": [
      "----------------------------[Epoch20 finished!]----------------------------\n"
     ]
    },
    {
     "name": "stderr",
     "output_type": "stream",
     "text": [
      "Train 20 | Loss:2.14e+00 | Acc: 0.33| F1: 0.33|: 100%|████████████████████████████████| 28/28 [00:00<00:00, 110.41it/s]\n",
      "Val   20 | Loss:2.55e+00 | Acc: 0.27| F1: 0.27|: 100%|████████████████████████████████| 12/12 [00:00<00:00, 160.99it/s]\n",
      "Train 21 | Loss:2.06e+00 | Acc: 0.34| F1: 0.33|:  39%|████████████▌                   | 11/28 [00:00<00:00, 101.29it/s]"
     ]
    },
    {
     "name": "stdout",
     "output_type": "stream",
     "text": [
      "----------------------------[Epoch21 finished!]----------------------------\n"
     ]
    },
    {
     "name": "stderr",
     "output_type": "stream",
     "text": [
      "Train 21 | Loss:2.05e+00 | Acc: 0.34| F1: 0.34|: 100%|█████████████████████████████████| 28/28 [00:00<00:00, 95.96it/s]\n",
      "Val   21 | Loss:2.46e+00 | Acc: 0.28| F1: 0.27|: 100%|████████████████████████████████| 12/12 [00:00<00:00, 132.98it/s]\n",
      "Train 22 | Loss:2.01e+00 | Acc: 0.35| F1: 0.35|:  32%|██████████▉                       | 9/28 [00:00<00:00, 87.40it/s]"
     ]
    },
    {
     "name": "stdout",
     "output_type": "stream",
     "text": [
      "----------------------------[Epoch22 finished!]----------------------------\n"
     ]
    },
    {
     "name": "stderr",
     "output_type": "stream",
     "text": [
      "Train 22 | Loss:1.98e+00 | Acc: 0.35| F1: 0.35|: 100%|█████████████████████████████████| 28/28 [00:00<00:00, 84.33it/s]\n",
      "Val   22 | Loss:2.39e+00 | Acc: 0.28| F1: 0.28|: 100%|████████████████████████████████| 12/12 [00:00<00:00, 143.66it/s]\n",
      "Train 23 | Loss:1.94e+00 | Acc: 0.36| F1: 0.36|:  32%|██████████▉                       | 9/28 [00:00<00:00, 83.86it/s]"
     ]
    },
    {
     "name": "stdout",
     "output_type": "stream",
     "text": [
      "----------------------------[Epoch23 finished!]----------------------------\n"
     ]
    },
    {
     "name": "stderr",
     "output_type": "stream",
     "text": [
      "Train 23 | Loss:1.92e+00 | Acc: 0.36| F1: 0.36|: 100%|█████████████████████████████████| 28/28 [00:00<00:00, 88.85it/s]\n",
      "Val   23 | Loss:2.33e+00 | Acc: 0.28| F1: 0.28|: 100%|████████████████████████████████| 12/12 [00:00<00:00, 129.03it/s]\n",
      "Train 24 | Loss:1.89e+00 | Acc: 0.37| F1: 0.37|:  32%|██████████▉                       | 9/28 [00:00<00:00, 86.90it/s]"
     ]
    },
    {
     "name": "stdout",
     "output_type": "stream",
     "text": [
      "----------------------------[Epoch24 finished!]----------------------------\n"
     ]
    },
    {
     "name": "stderr",
     "output_type": "stream",
     "text": [
      "Train 24 | Loss:1.87e+00 | Acc: 0.37| F1: 0.37|: 100%|█████████████████████████████████| 28/28 [00:00<00:00, 86.68it/s]\n",
      "Val   24 | Loss:2.27e+00 | Acc: 0.29| F1: 0.29|: 100%|████████████████████████████████| 12/12 [00:00<00:00, 122.12it/s]\n",
      "Train 25 | Loss:1.83e+00 | Acc: 0.38| F1: 0.38|:  36%|███████████▊                     | 10/28 [00:00<00:00, 92.37it/s]"
     ]
    },
    {
     "name": "stdout",
     "output_type": "stream",
     "text": [
      "----------------------------[Epoch25 finished!]----------------------------\n"
     ]
    },
    {
     "name": "stderr",
     "output_type": "stream",
     "text": [
      "Train 25 | Loss:1.82e+00 | Acc: 0.38| F1: 0.38|: 100%|█████████████████████████████████| 28/28 [00:00<00:00, 84.67it/s]\n",
      "Val   25 | Loss:2.22e+00 | Acc: 0.29| F1: 0.29|: 100%|████████████████████████████████| 12/12 [00:00<00:00, 134.41it/s]\n",
      "Train 26 | Loss:1.80e+00 | Acc: 0.39| F1: 0.39|:  29%|█████████▋                        | 8/28 [00:00<00:00, 77.71it/s]"
     ]
    },
    {
     "name": "stdout",
     "output_type": "stream",
     "text": [
      "----------------------------[Epoch26 finished!]----------------------------\n"
     ]
    },
    {
     "name": "stderr",
     "output_type": "stream",
     "text": [
      "Train 26 | Loss:1.78e+00 | Acc: 0.39| F1: 0.39|: 100%|█████████████████████████████████| 28/28 [00:00<00:00, 84.83it/s]\n",
      "Val   26 | Loss:2.18e+00 | Acc: 0.29| F1: 0.29|: 100%|████████████████████████████████| 12/12 [00:00<00:00, 137.53it/s]\n",
      "Train 27 | Loss:1.75e+00 | Acc: 0.40| F1: 0.40|:  36%|███████████▊                     | 10/28 [00:00<00:00, 93.63it/s]"
     ]
    },
    {
     "name": "stdout",
     "output_type": "stream",
     "text": [
      "----------------------------[Epoch27 finished!]----------------------------\n"
     ]
    },
    {
     "name": "stderr",
     "output_type": "stream",
     "text": [
      "Train 27 | Loss:1.74e+00 | Acc: 0.40| F1: 0.40|: 100%|█████████████████████████████████| 28/28 [00:00<00:00, 89.82it/s]\n",
      "Val   27 | Loss:2.14e+00 | Acc: 0.30| F1: 0.30|: 100%|████████████████████████████████| 12/12 [00:00<00:00, 155.27it/s]\n",
      "Train 28 | Loss:1.72e+00 | Acc: 0.41| F1: 0.41|:  36%|███████████▊                     | 10/28 [00:00<00:00, 92.19it/s]"
     ]
    },
    {
     "name": "stdout",
     "output_type": "stream",
     "text": [
      "----------------------------[Epoch28 finished!]----------------------------\n"
     ]
    },
    {
     "name": "stderr",
     "output_type": "stream",
     "text": [
      "Train 28 | Loss:1.71e+00 | Acc: 0.40| F1: 0.40|: 100%|█████████████████████████████████| 28/28 [00:00<00:00, 92.23it/s]\n",
      "Val   28 | Loss:2.11e+00 | Acc: 0.30| F1: 0.30|: 100%|████████████████████████████████| 12/12 [00:00<00:00, 137.83it/s]\n",
      "Train 29 | Loss:1.69e+00 | Acc: 0.42| F1: 0.41|:  36%|███████████▊                     | 10/28 [00:00<00:00, 91.25it/s]"
     ]
    },
    {
     "name": "stdout",
     "output_type": "stream",
     "text": [
      "----------------------------[Epoch29 finished!]----------------------------\n"
     ]
    },
    {
     "name": "stderr",
     "output_type": "stream",
     "text": [
      "Train 29 | Loss:1.68e+00 | Acc: 0.41| F1: 0.41|: 100%|█████████████████████████████████| 28/28 [00:00<00:00, 90.80it/s]\n",
      "Val   29 | Loss:2.08e+00 | Acc: 0.31| F1: 0.30|: 100%|████████████████████████████████| 12/12 [00:00<00:00, 145.75it/s]\n",
      "Train 30 | Loss:1.66e+00 | Acc: 0.42| F1: 0.42|:  39%|████████████▌                   | 11/28 [00:00<00:00, 104.88it/s]"
     ]
    },
    {
     "name": "stdout",
     "output_type": "stream",
     "text": [
      "----------------------------[Epoch30 finished!]----------------------------\n"
     ]
    },
    {
     "name": "stderr",
     "output_type": "stream",
     "text": [
      "Train 30 | Loss:1.66e+00 | Acc: 0.42| F1: 0.42|: 100%|█████████████████████████████████| 28/28 [00:00<00:00, 99.88it/s]\n",
      "Val   30 | Loss:2.06e+00 | Acc: 0.31| F1: 0.31|: 100%|████████████████████████████████| 12/12 [00:00<00:00, 144.73it/s]\n",
      "Train 31 | Loss:1.65e+00 | Acc: 0.43| F1: 0.43|:  36%|███████████▊                     | 10/28 [00:00<00:00, 99.09it/s]"
     ]
    },
    {
     "name": "stdout",
     "output_type": "stream",
     "text": [
      "----------------------------[Epoch31 finished!]----------------------------\n"
     ]
    },
    {
     "name": "stderr",
     "output_type": "stream",
     "text": [
      "Train 31 | Loss:1.64e+00 | Acc: 0.43| F1: 0.42|: 100%|█████████████████████████████████| 28/28 [00:00<00:00, 94.03it/s]\n",
      "Val   31 | Loss:2.04e+00 | Acc: 0.31| F1: 0.31|: 100%|████████████████████████████████| 12/12 [00:00<00:00, 139.66it/s]\n",
      "Train 32 | Loss:1.63e+00 | Acc: 0.44| F1: 0.43|:  32%|██████████▉                       | 9/28 [00:00<00:00, 87.64it/s]"
     ]
    },
    {
     "name": "stdout",
     "output_type": "stream",
     "text": [
      "----------------------------[Epoch32 finished!]----------------------------\n"
     ]
    },
    {
     "name": "stderr",
     "output_type": "stream",
     "text": [
      "Train 32 | Loss:1.62e+00 | Acc: 0.43| F1: 0.43|: 100%|█████████████████████████████████| 28/28 [00:00<00:00, 90.49it/s]\n",
      "Val   32 | Loss:2.02e+00 | Acc: 0.31| F1: 0.31|: 100%|████████████████████████████████| 12/12 [00:00<00:00, 161.39it/s]\n",
      "Train 33 | Loss:1.61e+00 | Acc: 0.44| F1: 0.44|:  36%|███████████▊                     | 10/28 [00:00<00:00, 98.73it/s]"
     ]
    },
    {
     "name": "stdout",
     "output_type": "stream",
     "text": [
      "----------------------------[Epoch33 finished!]----------------------------\n"
     ]
    },
    {
     "name": "stderr",
     "output_type": "stream",
     "text": [
      "Train 33 | Loss:1.60e+00 | Acc: 0.44| F1: 0.44|: 100%|████████████████████████████████| 28/28 [00:00<00:00, 101.85it/s]\n",
      "Val   33 | Loss:2.00e+00 | Acc: 0.31| F1: 0.31|: 100%|████████████████████████████████| 12/12 [00:00<00:00, 156.88it/s]\n",
      "Train 34 | Loss:1.60e+00 | Acc: 0.45| F1: 0.45|:  39%|████████████▌                   | 11/28 [00:00<00:00, 101.31it/s]"
     ]
    },
    {
     "name": "stdout",
     "output_type": "stream",
     "text": [
      "----------------------------[Epoch34 finished!]----------------------------\n"
     ]
    },
    {
     "name": "stderr",
     "output_type": "stream",
     "text": [
      "Train 34 | Loss:1.59e+00 | Acc: 0.45| F1: 0.45|: 100%|█████████████████████████████████| 28/28 [00:00<00:00, 95.62it/s]\n",
      "Val   34 | Loss:1.99e+00 | Acc: 0.31| F1: 0.31|: 100%|████████████████████████████████| 12/12 [00:00<00:00, 140.87it/s]\n",
      "Train 35 | Loss:1.58e+00 | Acc: 0.46| F1: 0.45|:  36%|███████████▊                     | 10/28 [00:00<00:00, 99.00it/s]"
     ]
    },
    {
     "name": "stdout",
     "output_type": "stream",
     "text": [
      "----------------------------[Epoch35 finished!]----------------------------\n"
     ]
    },
    {
     "name": "stderr",
     "output_type": "stream",
     "text": [
      "Train 35 | Loss:1.58e+00 | Acc: 0.46| F1: 0.45|: 100%|█████████████████████████████████| 28/28 [00:00<00:00, 98.57it/s]\n",
      "Val   35 | Loss:1.98e+00 | Acc: 0.31| F1: 0.31|: 100%|████████████████████████████████| 12/12 [00:00<00:00, 154.60it/s]\n",
      "Train 36 | Loss:1.57e+00 | Acc: 0.46| F1: 0.46|:  36%|███████████▊                     | 10/28 [00:00<00:00, 94.70it/s]"
     ]
    },
    {
     "name": "stdout",
     "output_type": "stream",
     "text": [
      "----------------------------[Epoch36 finished!]----------------------------\n"
     ]
    },
    {
     "name": "stderr",
     "output_type": "stream",
     "text": [
      "Train 36 | Loss:1.57e+00 | Acc: 0.46| F1: 0.46|: 100%|█████████████████████████████████| 28/28 [00:00<00:00, 92.87it/s]\n",
      "Val   36 | Loss:1.97e+00 | Acc: 0.32| F1: 0.31|: 100%|████████████████████████████████| 12/12 [00:00<00:00, 140.68it/s]\n",
      "Train 37 | Loss:1.56e+00 | Acc: 0.47| F1: 0.46|:  32%|██████████▉                       | 9/28 [00:00<00:00, 89.11it/s]"
     ]
    },
    {
     "name": "stdout",
     "output_type": "stream",
     "text": [
      "----------------------------[Epoch37 finished!]----------------------------\n"
     ]
    },
    {
     "name": "stderr",
     "output_type": "stream",
     "text": [
      "Train 37 | Loss:1.56e+00 | Acc: 0.47| F1: 0.46|: 100%|█████████████████████████████████| 28/28 [00:00<00:00, 83.32it/s]\n",
      "Val   37 | Loss:1.96e+00 | Acc: 0.32| F1: 0.31|: 100%|████████████████████████████████| 12/12 [00:00<00:00, 153.30it/s]\n",
      "Train 38 | Loss:1.55e+00 | Acc: 0.47| F1: 0.47|:  36%|███████████▊                     | 10/28 [00:00<00:00, 91.82it/s]"
     ]
    },
    {
     "name": "stdout",
     "output_type": "stream",
     "text": [
      "----------------------------[Epoch38 finished!]----------------------------\n"
     ]
    },
    {
     "name": "stderr",
     "output_type": "stream",
     "text": [
      "Train 38 | Loss:1.55e+00 | Acc: 0.47| F1: 0.47|: 100%|█████████████████████████████████| 28/28 [00:00<00:00, 93.43it/s]\n",
      "Val   38 | Loss:1.95e+00 | Acc: 0.32| F1: 0.31|: 100%|████████████████████████████████| 12/12 [00:00<00:00, 130.50it/s]\n",
      "Train 39 | Loss:1.55e+00 | Acc: 0.48| F1: 0.48|:  39%|████████████▌                   | 11/28 [00:00<00:00, 105.87it/s]"
     ]
    },
    {
     "name": "stdout",
     "output_type": "stream",
     "text": [
      "----------------------------[Epoch39 finished!]----------------------------\n"
     ]
    },
    {
     "name": "stderr",
     "output_type": "stream",
     "text": [
      "Train 39 | Loss:1.55e+00 | Acc: 0.48| F1: 0.47|: 100%|█████████████████████████████████| 28/28 [00:00<00:00, 97.87it/s]\n",
      "Val   39 | Loss:1.94e+00 | Acc: 0.32| F1: 0.31|: 100%|████████████████████████████████| 12/12 [00:00<00:00, 147.16it/s]\n",
      "Train 40 | Loss:1.54e+00 | Acc: 0.49| F1: 0.48|:  32%|██████████▉                       | 9/28 [00:00<00:00, 83.79it/s]"
     ]
    },
    {
     "name": "stdout",
     "output_type": "stream",
     "text": [
      "----------------------------[Epoch40 finished!]----------------------------\n"
     ]
    },
    {
     "name": "stderr",
     "output_type": "stream",
     "text": [
      "Train 40 | Loss:1.54e+00 | Acc: 0.48| F1: 0.48|: 100%|█████████████████████████████████| 28/28 [00:00<00:00, 87.75it/s]\n",
      "Val   40 | Loss:1.94e+00 | Acc: 0.32| F1: 0.32|: 100%|████████████████████████████████| 12/12 [00:00<00:00, 130.47it/s]\n",
      "Train 41 | Loss:1.54e+00 | Acc: 0.49| F1: 0.49|:  25%|████████▌                         | 7/28 [00:00<00:00, 66.10it/s]"
     ]
    },
    {
     "name": "stdout",
     "output_type": "stream",
     "text": [
      "----------------------------[Epoch41 finished!]----------------------------\n"
     ]
    },
    {
     "name": "stderr",
     "output_type": "stream",
     "text": [
      "Train 41 | Loss:1.53e+00 | Acc: 0.48| F1: 0.48|: 100%|█████████████████████████████████| 28/28 [00:00<00:00, 84.06it/s]\n",
      "Val   41 | Loss:1.93e+00 | Acc: 0.32| F1: 0.32|: 100%|████████████████████████████████| 12/12 [00:00<00:00, 142.45it/s]\n",
      "Train 42 | Loss:1.53e+00 | Acc: 0.50| F1: 0.49|:  36%|███████████▊                     | 10/28 [00:00<00:00, 93.77it/s]"
     ]
    },
    {
     "name": "stdout",
     "output_type": "stream",
     "text": [
      "----------------------------[Epoch42 finished!]----------------------------\n"
     ]
    },
    {
     "name": "stderr",
     "output_type": "stream",
     "text": [
      "Train 42 | Loss:1.53e+00 | Acc: 0.49| F1: 0.49|: 100%|█████████████████████████████████| 28/28 [00:00<00:00, 94.03it/s]\n",
      "Val   42 | Loss:1.93e+00 | Acc: 0.32| F1: 0.32|: 100%|████████████████████████████████| 12/12 [00:00<00:00, 142.53it/s]\n",
      "Train 43 | Loss:1.52e+00 | Acc: 0.50| F1: 0.49|:  36%|███████████▊                     | 10/28 [00:00<00:00, 97.44it/s]"
     ]
    },
    {
     "name": "stdout",
     "output_type": "stream",
     "text": [
      "----------------------------[Epoch43 finished!]----------------------------\n"
     ]
    },
    {
     "name": "stderr",
     "output_type": "stream",
     "text": [
      "Train 43 | Loss:1.53e+00 | Acc: 0.49| F1: 0.49|: 100%|█████████████████████████████████| 28/28 [00:00<00:00, 93.01it/s]\n",
      "Val   43 | Loss:1.92e+00 | Acc: 0.32| F1: 0.32|: 100%|████████████████████████████████| 12/12 [00:00<00:00, 158.22it/s]\n",
      "Train 44 | Loss:1.52e+00 | Acc: 0.50| F1: 0.50|:  36%|███████████▊                     | 10/28 [00:00<00:00, 99.40it/s]"
     ]
    },
    {
     "name": "stdout",
     "output_type": "stream",
     "text": [
      "----------------------------[Epoch44 finished!]----------------------------\n"
     ]
    },
    {
     "name": "stderr",
     "output_type": "stream",
     "text": [
      "Train 44 | Loss:1.52e+00 | Acc: 0.49| F1: 0.49|: 100%|█████████████████████████████████| 28/28 [00:00<00:00, 94.12it/s]\n",
      "Val   44 | Loss:1.92e+00 | Acc: 0.32| F1: 0.32|: 100%|████████████████████████████████| 12/12 [00:00<00:00, 139.19it/s]\n",
      "Train 45 | Loss:1.52e+00 | Acc: 0.50| F1: 0.50|:  39%|████████████▌                   | 11/28 [00:00<00:00, 102.18it/s]"
     ]
    },
    {
     "name": "stdout",
     "output_type": "stream",
     "text": [
      "----------------------------[Epoch45 finished!]----------------------------\n"
     ]
    },
    {
     "name": "stderr",
     "output_type": "stream",
     "text": [
      "Train 45 | Loss:1.52e+00 | Acc: 0.50| F1: 0.49|: 100%|█████████████████████████████████| 28/28 [00:00<00:00, 98.19it/s]\n",
      "Val   45 | Loss:1.92e+00 | Acc: 0.32| F1: 0.32|: 100%|████████████████████████████████| 12/12 [00:00<00:00, 140.81it/s]\n",
      "Train 46 | Loss:1.51e+00 | Acc: 0.51| F1: 0.51|:  36%|███████████▊                     | 10/28 [00:00<00:00, 94.42it/s]"
     ]
    },
    {
     "name": "stdout",
     "output_type": "stream",
     "text": [
      "----------------------------[Epoch46 finished!]----------------------------\n"
     ]
    },
    {
     "name": "stderr",
     "output_type": "stream",
     "text": [
      "Train 46 | Loss:1.52e+00 | Acc: 0.50| F1: 0.50|: 100%|█████████████████████████████████| 28/28 [00:00<00:00, 94.58it/s]\n",
      "Val   46 | Loss:1.91e+00 | Acc: 0.32| F1: 0.32|: 100%|████████████████████████████████| 12/12 [00:00<00:00, 133.32it/s]\n",
      "Train 47 | Loss:1.51e+00 | Acc: 0.51| F1: 0.51|:  32%|██████████▉                       | 9/28 [00:00<00:00, 88.29it/s]"
     ]
    },
    {
     "name": "stdout",
     "output_type": "stream",
     "text": [
      "----------------------------[Epoch47 finished!]----------------------------\n"
     ]
    },
    {
     "name": "stderr",
     "output_type": "stream",
     "text": [
      "Train 47 | Loss:1.51e+00 | Acc: 0.50| F1: 0.50|: 100%|█████████████████████████████████| 28/28 [00:00<00:00, 93.44it/s]\n",
      "Val   47 | Loss:1.91e+00 | Acc: 0.33| F1: 0.32|: 100%|████████████████████████████████| 12/12 [00:00<00:00, 145.80it/s]\n",
      "Train 48 | Loss:1.51e+00 | Acc: 0.51| F1: 0.50|:  36%|███████████▊                     | 10/28 [00:00<00:00, 97.50it/s]"
     ]
    },
    {
     "name": "stdout",
     "output_type": "stream",
     "text": [
      "----------------------------[Epoch48 finished!]----------------------------\n"
     ]
    },
    {
     "name": "stderr",
     "output_type": "stream",
     "text": [
      "Train 48 | Loss:1.51e+00 | Acc: 0.51| F1: 0.50|: 100%|█████████████████████████████████| 28/28 [00:00<00:00, 99.99it/s]\n",
      "Val   48 | Loss:1.91e+00 | Acc: 0.33| F1: 0.32|: 100%|████████████████████████████████| 12/12 [00:00<00:00, 153.32it/s]\n",
      "Train 49 | Loss:1.51e+00 | Acc: 0.51| F1: 0.50|:  39%|████████████▌                   | 11/28 [00:00<00:00, 106.14it/s]"
     ]
    },
    {
     "name": "stdout",
     "output_type": "stream",
     "text": [
      "----------------------------[Epoch49 finished!]----------------------------\n"
     ]
    },
    {
     "name": "stderr",
     "output_type": "stream",
     "text": [
      "Train 49 | Loss:1.51e+00 | Acc: 0.51| F1: 0.50|: 100%|█████████████████████████████████| 28/28 [00:00<00:00, 97.59it/s]\n",
      "Val   49 | Loss:1.91e+00 | Acc: 0.33| F1: 0.32|: 100%|████████████████████████████████| 12/12 [00:00<00:00, 139.32it/s]\n",
      "Train 50 | Loss:1.50e+00 | Acc: 0.52| F1: 0.51|:  36%|███████████▊                     | 10/28 [00:00<00:00, 92.91it/s]"
     ]
    },
    {
     "name": "stdout",
     "output_type": "stream",
     "text": [
      "----------------------------[Epoch50 finished!]----------------------------\n"
     ]
    },
    {
     "name": "stderr",
     "output_type": "stream",
     "text": [
      "Train 50 | Loss:1.51e+00 | Acc: 0.51| F1: 0.50|: 100%|█████████████████████████████████| 28/28 [00:00<00:00, 86.67it/s]\n",
      "Val   50 | Loss:1.91e+00 | Acc: 0.33| F1: 0.33|: 100%|████████████████████████████████| 12/12 [00:00<00:00, 149.52it/s]\n",
      "Train 51 | Loss:1.50e+00 | Acc: 0.52| F1: 0.51|:  36%|███████████▊                     | 10/28 [00:00<00:00, 95.32it/s]"
     ]
    },
    {
     "name": "stdout",
     "output_type": "stream",
     "text": [
      "----------------------------[Epoch51 finished!]----------------------------\n"
     ]
    },
    {
     "name": "stderr",
     "output_type": "stream",
     "text": [
      "Train 51 | Loss:1.51e+00 | Acc: 0.51| F1: 0.51|: 100%|█████████████████████████████████| 28/28 [00:00<00:00, 90.18it/s]\n",
      "Val   51 | Loss:1.90e+00 | Acc: 0.34| F1: 0.33|: 100%|████████████████████████████████| 12/12 [00:00<00:00, 142.07it/s]\n",
      "Train 52 | Loss:1.50e+00 | Acc: 0.52| F1: 0.51|:  39%|████████████▉                    | 11/28 [00:00<00:00, 97.99it/s]"
     ]
    },
    {
     "name": "stdout",
     "output_type": "stream",
     "text": [
      "----------------------------[Epoch52 finished!]----------------------------\n"
     ]
    },
    {
     "name": "stderr",
     "output_type": "stream",
     "text": [
      "Train 52 | Loss:1.50e+00 | Acc: 0.51| F1: 0.51|: 100%|█████████████████████████████████| 28/28 [00:00<00:00, 85.70it/s]\n",
      "Val   52 | Loss:1.90e+00 | Acc: 0.34| F1: 0.33|: 100%|████████████████████████████████| 12/12 [00:00<00:00, 100.40it/s]\n",
      "Train 53 | Loss:1.49e+00 | Acc: 0.53| F1: 0.52|:  25%|████████▌                         | 7/28 [00:00<00:00, 68.50it/s]"
     ]
    },
    {
     "name": "stdout",
     "output_type": "stream",
     "text": [
      "----------------------------[Epoch53 finished!]----------------------------\n"
     ]
    },
    {
     "name": "stderr",
     "output_type": "stream",
     "text": [
      "Train 53 | Loss:1.50e+00 | Acc: 0.51| F1: 0.51|: 100%|█████████████████████████████████| 28/28 [00:00<00:00, 81.84it/s]\n",
      "Val   53 | Loss:1.90e+00 | Acc: 0.34| F1: 0.33|: 100%|████████████████████████████████| 12/12 [00:00<00:00, 145.88it/s]\n",
      "Train 54 | Loss:1.50e+00 | Acc: 0.52| F1: 0.52|:  36%|███████████▊                     | 10/28 [00:00<00:00, 92.94it/s]"
     ]
    },
    {
     "name": "stdout",
     "output_type": "stream",
     "text": [
      "----------------------------[Epoch54 finished!]----------------------------\n"
     ]
    },
    {
     "name": "stderr",
     "output_type": "stream",
     "text": [
      "Train 54 | Loss:1.50e+00 | Acc: 0.52| F1: 0.51|: 100%|█████████████████████████████████| 28/28 [00:00<00:00, 91.38it/s]\n",
      "Val   54 | Loss:1.90e+00 | Acc: 0.34| F1: 0.33|: 100%|████████████████████████████████| 12/12 [00:00<00:00, 130.01it/s]\n",
      "Train 55 | Loss:1.50e+00 | Acc: 0.52| F1: 0.52|:  36%|███████████▊                     | 10/28 [00:00<00:00, 92.69it/s]"
     ]
    },
    {
     "name": "stdout",
     "output_type": "stream",
     "text": [
      "----------------------------[Epoch55 finished!]----------------------------\n"
     ]
    },
    {
     "name": "stderr",
     "output_type": "stream",
     "text": [
      "Train 55 | Loss:1.50e+00 | Acc: 0.52| F1: 0.51|: 100%|█████████████████████████████████| 28/28 [00:00<00:00, 93.32it/s]\n",
      "Val   55 | Loss:1.90e+00 | Acc: 0.34| F1: 0.33|: 100%|████████████████████████████████| 12/12 [00:00<00:00, 138.00it/s]\n",
      "Train 56 | Loss:1.50e+00 | Acc: 0.53| F1: 0.52|:  36%|███████████▊                     | 10/28 [00:00<00:00, 94.69it/s]"
     ]
    },
    {
     "name": "stdout",
     "output_type": "stream",
     "text": [
      "----------------------------[Epoch56 finished!]----------------------------\n"
     ]
    },
    {
     "name": "stderr",
     "output_type": "stream",
     "text": [
      "Train 56 | Loss:1.50e+00 | Acc: 0.52| F1: 0.51|: 100%|█████████████████████████████████| 28/28 [00:00<00:00, 92.56it/s]\n",
      "Val   56 | Loss:1.90e+00 | Acc: 0.34| F1: 0.33|: 100%|████████████████████████████████| 12/12 [00:00<00:00, 142.46it/s]\n",
      "Train 57 | Loss:1.50e+00 | Acc: 0.53| F1: 0.52|:  32%|██████████▉                       | 9/28 [00:00<00:00, 84.18it/s]"
     ]
    },
    {
     "name": "stdout",
     "output_type": "stream",
     "text": [
      "----------------------------[Epoch57 finished!]----------------------------\n"
     ]
    },
    {
     "name": "stderr",
     "output_type": "stream",
     "text": [
      "Train 57 | Loss:1.50e+00 | Acc: 0.52| F1: 0.52|: 100%|█████████████████████████████████| 28/28 [00:00<00:00, 87.14it/s]\n",
      "Val   57 | Loss:1.90e+00 | Acc: 0.34| F1: 0.33|: 100%|████████████████████████████████| 12/12 [00:00<00:00, 139.61it/s]\n",
      "Train 58 | Loss:1.50e+00 | Acc: 0.53| F1: 0.52|:  32%|██████████▉                       | 9/28 [00:00<00:00, 88.05it/s]"
     ]
    },
    {
     "name": "stdout",
     "output_type": "stream",
     "text": [
      "----------------------------[Epoch58 finished!]----------------------------\n"
     ]
    },
    {
     "name": "stderr",
     "output_type": "stream",
     "text": [
      "Train 58 | Loss:1.50e+00 | Acc: 0.52| F1: 0.52|: 100%|█████████████████████████████████| 28/28 [00:00<00:00, 90.49it/s]\n",
      "Val   58 | Loss:1.90e+00 | Acc: 0.34| F1: 0.34|: 100%|████████████████████████████████| 12/12 [00:00<00:00, 135.55it/s]\n",
      "Train 59 | Loss:1.49e+00 | Acc: 0.53| F1: 0.52|:  36%|███████████▊                     | 10/28 [00:00<00:00, 99.41it/s]"
     ]
    },
    {
     "name": "stdout",
     "output_type": "stream",
     "text": [
      "----------------------------[Epoch59 finished!]----------------------------\n"
     ]
    },
    {
     "name": "stderr",
     "output_type": "stream",
     "text": [
      "Train 59 | Loss:1.50e+00 | Acc: 0.52| F1: 0.52|: 100%|█████████████████████████████████| 28/28 [00:00<00:00, 94.43it/s]\n",
      "Val   59 | Loss:1.90e+00 | Acc: 0.34| F1: 0.34|: 100%|████████████████████████████████| 12/12 [00:00<00:00, 147.81it/s]\n",
      "Train 60 | Loss:1.50e+00 | Acc: 0.53| F1: 0.52|:  39%|████████████▌                   | 11/28 [00:00<00:00, 100.24it/s]"
     ]
    },
    {
     "name": "stdout",
     "output_type": "stream",
     "text": [
      "----------------------------[Epoch60 finished!]----------------------------\n"
     ]
    },
    {
     "name": "stderr",
     "output_type": "stream",
     "text": [
      "Train 60 | Loss:1.50e+00 | Acc: 0.52| F1: 0.52|: 100%|█████████████████████████████████| 28/28 [00:00<00:00, 97.29it/s]\n",
      "Val   60 | Loss:1.90e+00 | Acc: 0.34| F1: 0.34|: 100%|████████████████████████████████| 12/12 [00:00<00:00, 139.16it/s]\n",
      "Train 61 | Loss:1.49e+00 | Acc: 0.53| F1: 0.52|:  36%|███████████▊                     | 10/28 [00:00<00:00, 94.43it/s]"
     ]
    },
    {
     "name": "stdout",
     "output_type": "stream",
     "text": [
      "----------------------------[Epoch61 finished!]----------------------------\n"
     ]
    },
    {
     "name": "stderr",
     "output_type": "stream",
     "text": [
      "Train 61 | Loss:1.50e+00 | Acc: 0.52| F1: 0.52|: 100%|█████████████████████████████████| 28/28 [00:00<00:00, 98.56it/s]\n",
      "Val   61 | Loss:1.90e+00 | Acc: 0.34| F1: 0.34|: 100%|████████████████████████████████| 12/12 [00:00<00:00, 149.48it/s]\n",
      "Train 62 | Loss:1.50e+00 | Acc: 0.53| F1: 0.52|:  32%|██████████▉                       | 9/28 [00:00<00:00, 85.80it/s]"
     ]
    },
    {
     "name": "stdout",
     "output_type": "stream",
     "text": [
      "----------------------------[Epoch62 finished!]----------------------------\n"
     ]
    },
    {
     "name": "stderr",
     "output_type": "stream",
     "text": [
      "Train 62 | Loss:1.50e+00 | Acc: 0.52| F1: 0.52|: 100%|█████████████████████████████████| 28/28 [00:00<00:00, 88.77it/s]\n",
      "Val   62 | Loss:1.90e+00 | Acc: 0.35| F1: 0.34|: 100%|████████████████████████████████| 12/12 [00:00<00:00, 142.43it/s]\n",
      "Train 63 | Loss:1.49e+00 | Acc: 0.53| F1: 0.53|:  36%|███████████▊                     | 10/28 [00:00<00:00, 99.13it/s]"
     ]
    },
    {
     "name": "stdout",
     "output_type": "stream",
     "text": [
      "----------------------------[Epoch63 finished!]----------------------------\n"
     ]
    },
    {
     "name": "stderr",
     "output_type": "stream",
     "text": [
      "Train 63 | Loss:1.50e+00 | Acc: 0.52| F1: 0.52|: 100%|█████████████████████████████████| 28/28 [00:00<00:00, 99.16it/s]\n",
      "Val   63 | Loss:1.90e+00 | Acc: 0.34| F1: 0.34|: 100%|████████████████████████████████| 12/12 [00:00<00:00, 139.55it/s]\n",
      "Train 64 | Loss:1.49e+00 | Acc: 0.53| F1: 0.52|:  36%|███████████▊                     | 10/28 [00:00<00:00, 99.07it/s]"
     ]
    },
    {
     "name": "stdout",
     "output_type": "stream",
     "text": [
      "----------------------------[Epoch64 finished!]----------------------------\n"
     ]
    },
    {
     "name": "stderr",
     "output_type": "stream",
     "text": [
      "Train 64 | Loss:1.50e+00 | Acc: 0.52| F1: 0.52|: 100%|█████████████████████████████████| 28/28 [00:00<00:00, 99.24it/s]\n",
      "Val   64 | Loss:1.90e+00 | Acc: 0.34| F1: 0.34|: 100%|████████████████████████████████| 12/12 [00:00<00:00, 133.05it/s]\n",
      "Train 65 | Loss:1.49e+00 | Acc: 0.53| F1: 0.53|:  32%|██████████▉                       | 9/28 [00:00<00:00, 85.79it/s]"
     ]
    },
    {
     "name": "stdout",
     "output_type": "stream",
     "text": [
      "----------------------------[Epoch65 finished!]----------------------------\n"
     ]
    },
    {
     "name": "stderr",
     "output_type": "stream",
     "text": [
      "Train 65 | Loss:1.50e+00 | Acc: 0.52| F1: 0.52|: 100%|█████████████████████████████████| 28/28 [00:00<00:00, 93.62it/s]\n",
      "Val   65 | Loss:1.90e+00 | Acc: 0.34| F1: 0.34|: 100%|████████████████████████████████| 12/12 [00:00<00:00, 152.04it/s]\n",
      "Train 66 | Loss:1.49e+00 | Acc: 0.53| F1: 0.53|:  29%|█████████▋                        | 8/28 [00:00<00:00, 78.50it/s]"
     ]
    },
    {
     "name": "stdout",
     "output_type": "stream",
     "text": [
      "----------------------------[Epoch66 finished!]----------------------------\n"
     ]
    },
    {
     "name": "stderr",
     "output_type": "stream",
     "text": [
      "Train 66 | Loss:1.50e+00 | Acc: 0.52| F1: 0.52|: 100%|█████████████████████████████████| 28/28 [00:00<00:00, 87.94it/s]\n",
      "Val   66 | Loss:1.90e+00 | Acc: 0.35| F1: 0.34|: 100%|████████████████████████████████| 12/12 [00:00<00:00, 136.46it/s]\n",
      "Train 67 | Loss:1.49e+00 | Acc: 0.53| F1: 0.53|:  36%|███████████▊                     | 10/28 [00:00<00:00, 97.15it/s]"
     ]
    },
    {
     "name": "stdout",
     "output_type": "stream",
     "text": [
      "----------------------------[Epoch67 finished!]----------------------------\n"
     ]
    },
    {
     "name": "stderr",
     "output_type": "stream",
     "text": [
      "Train 67 | Loss:1.50e+00 | Acc: 0.52| F1: 0.52|: 100%|█████████████████████████████████| 28/28 [00:00<00:00, 93.72it/s]\n",
      "Val   67 | Loss:1.90e+00 | Acc: 0.35| F1: 0.34|: 100%|████████████████████████████████| 12/12 [00:00<00:00, 149.56it/s]\n",
      "Train 68 | Loss:1.49e+00 | Acc: 0.53| F1: 0.53|:  36%|███████████▊                     | 10/28 [00:00<00:00, 98.13it/s]"
     ]
    },
    {
     "name": "stdout",
     "output_type": "stream",
     "text": [
      "----------------------------[Epoch68 finished!]----------------------------\n"
     ]
    },
    {
     "name": "stderr",
     "output_type": "stream",
     "text": [
      "Train 68 | Loss:1.50e+00 | Acc: 0.52| F1: 0.52|: 100%|█████████████████████████████████| 28/28 [00:00<00:00, 93.95it/s]\n",
      "Val   68 | Loss:1.90e+00 | Acc: 0.35| F1: 0.34|: 100%|████████████████████████████████| 12/12 [00:00<00:00, 157.91it/s]\n",
      "Train 69 | Loss:1.49e+00 | Acc: 0.53| F1: 0.52|:  39%|████████████▌                   | 11/28 [00:00<00:00, 103.90it/s]"
     ]
    },
    {
     "name": "stdout",
     "output_type": "stream",
     "text": [
      "----------------------------[Epoch69 finished!]----------------------------\n"
     ]
    },
    {
     "name": "stderr",
     "output_type": "stream",
     "text": [
      "Train 69 | Loss:1.50e+00 | Acc: 0.52| F1: 0.52|: 100%|████████████████████████████████| 28/28 [00:00<00:00, 102.41it/s]\n",
      "Val   69 | Loss:1.90e+00 | Acc: 0.35| F1: 0.34|: 100%|████████████████████████████████| 12/12 [00:00<00:00, 145.37it/s]\n",
      "Train 70 | Loss:1.49e+00 | Acc: 0.53| F1: 0.53|:  36%|███████████▊                     | 10/28 [00:00<00:00, 92.05it/s]"
     ]
    },
    {
     "name": "stdout",
     "output_type": "stream",
     "text": [
      "----------------------------[Epoch70 finished!]----------------------------\n"
     ]
    },
    {
     "name": "stderr",
     "output_type": "stream",
     "text": [
      "Train 70 | Loss:1.50e+00 | Acc: 0.52| F1: 0.52|: 100%|█████████████████████████████████| 28/28 [00:00<00:00, 91.68it/s]\n",
      "Val   70 | Loss:1.90e+00 | Acc: 0.35| F1: 0.34|: 100%|████████████████████████████████| 12/12 [00:00<00:00, 133.00it/s]\n",
      "Train 71 | Loss:1.49e+00 | Acc: 0.53| F1: 0.53|:  36%|███████████▊                     | 10/28 [00:00<00:00, 97.47it/s]"
     ]
    },
    {
     "name": "stdout",
     "output_type": "stream",
     "text": [
      "----------------------------[Epoch71 finished!]----------------------------\n"
     ]
    },
    {
     "name": "stderr",
     "output_type": "stream",
     "text": [
      "Train 71 | Loss:1.50e+00 | Acc: 0.52| F1: 0.52|: 100%|█████████████████████████████████| 28/28 [00:00<00:00, 93.51it/s]\n",
      "Val   71 | Loss:1.90e+00 | Acc: 0.35| F1: 0.34|: 100%|████████████████████████████████| 12/12 [00:00<00:00, 126.43it/s]\n",
      "Train 72 | Loss:1.49e+00 | Acc: 0.53| F1: 0.53|:  39%|████████████▌                   | 11/28 [00:00<00:00, 100.07it/s]"
     ]
    },
    {
     "name": "stdout",
     "output_type": "stream",
     "text": [
      "----------------------------[Epoch72 finished!]----------------------------\n"
     ]
    },
    {
     "name": "stderr",
     "output_type": "stream",
     "text": [
      "Train 72 | Loss:1.50e+00 | Acc: 0.53| F1: 0.52|: 100%|█████████████████████████████████| 28/28 [00:00<00:00, 91.20it/s]\n",
      "Val   72 | Loss:1.90e+00 | Acc: 0.35| F1: 0.34|: 100%|████████████████████████████████| 12/12 [00:00<00:00, 150.05it/s]\n",
      "Train 73 | Loss:1.49e+00 | Acc: 0.53| F1: 0.52|:  39%|████████████▌                   | 11/28 [00:00<00:00, 101.24it/s]"
     ]
    },
    {
     "name": "stdout",
     "output_type": "stream",
     "text": [
      "----------------------------[Epoch73 finished!]----------------------------\n"
     ]
    },
    {
     "name": "stderr",
     "output_type": "stream",
     "text": [
      "Train 73 | Loss:1.49e+00 | Acc: 0.53| F1: 0.52|: 100%|█████████████████████████████████| 28/28 [00:00<00:00, 97.88it/s]\n",
      "Val   73 | Loss:1.90e+00 | Acc: 0.34| F1: 0.34|: 100%|████████████████████████████████| 12/12 [00:00<00:00, 147.76it/s]\n",
      "Train 74 | Loss:1.49e+00 | Acc: 0.53| F1: 0.53|:  39%|████████████▌                   | 11/28 [00:00<00:00, 104.89it/s]"
     ]
    },
    {
     "name": "stdout",
     "output_type": "stream",
     "text": [
      "----------------------------[Epoch74 finished!]----------------------------\n"
     ]
    },
    {
     "name": "stderr",
     "output_type": "stream",
     "text": [
      "Train 74 | Loss:1.49e+00 | Acc: 0.53| F1: 0.52|: 100%|█████████████████████████████████| 28/28 [00:00<00:00, 94.91it/s]\n",
      "Val   74 | Loss:1.90e+00 | Acc: 0.34| F1: 0.34|: 100%|████████████████████████████████| 12/12 [00:00<00:00, 144.11it/s]\n",
      "Train 75 | Loss:1.49e+00 | Acc: 0.53| F1: 0.53|:  36%|███████████▊                     | 10/28 [00:00<00:00, 98.38it/s]"
     ]
    },
    {
     "name": "stdout",
     "output_type": "stream",
     "text": [
      "----------------------------[Epoch75 finished!]----------------------------\n"
     ]
    },
    {
     "name": "stderr",
     "output_type": "stream",
     "text": [
      "Train 75 | Loss:1.49e+00 | Acc: 0.53| F1: 0.52|: 100%|█████████████████████████████████| 28/28 [00:00<00:00, 97.98it/s]\n",
      "Val   75 | Loss:1.90e+00 | Acc: 0.34| F1: 0.34|: 100%|████████████████████████████████| 12/12 [00:00<00:00, 144.13it/s]\n",
      "Train 76 | Loss:1.49e+00 | Acc: 0.53| F1: 0.53|:  36%|███████████▊                     | 10/28 [00:00<00:00, 95.05it/s]"
     ]
    },
    {
     "name": "stdout",
     "output_type": "stream",
     "text": [
      "----------------------------[Epoch76 finished!]----------------------------\n"
     ]
    },
    {
     "name": "stderr",
     "output_type": "stream",
     "text": [
      "Train 76 | Loss:1.49e+00 | Acc: 0.53| F1: 0.52|: 100%|█████████████████████████████████| 28/28 [00:00<00:00, 97.19it/s]\n",
      "Val   76 | Loss:1.90e+00 | Acc: 0.34| F1: 0.34|: 100%|████████████████████████████████| 12/12 [00:00<00:00, 142.39it/s]\n",
      "Train 77 | Loss:1.49e+00 | Acc: 0.53| F1: 0.53|:  36%|███████████▊                     | 10/28 [00:00<00:00, 92.67it/s]"
     ]
    },
    {
     "name": "stdout",
     "output_type": "stream",
     "text": [
      "----------------------------[Epoch77 finished!]----------------------------\n"
     ]
    },
    {
     "name": "stderr",
     "output_type": "stream",
     "text": [
      "Train 77 | Loss:1.49e+00 | Acc: 0.53| F1: 0.52|: 100%|█████████████████████████████████| 28/28 [00:00<00:00, 89.81it/s]\n",
      "Val   77 | Loss:1.90e+00 | Acc: 0.34| F1: 0.34|: 100%|████████████████████████████████| 12/12 [00:00<00:00, 129.27it/s]\n",
      "Train 78 | Loss:1.49e+00 | Acc: 0.53| F1: 0.53|:  32%|██████████▉                       | 9/28 [00:00<00:00, 87.42it/s]"
     ]
    },
    {
     "name": "stdout",
     "output_type": "stream",
     "text": [
      "----------------------------[Epoch78 finished!]----------------------------\n"
     ]
    },
    {
     "name": "stderr",
     "output_type": "stream",
     "text": [
      "Train 78 | Loss:1.49e+00 | Acc: 0.53| F1: 0.52|: 100%|█████████████████████████████████| 28/28 [00:00<00:00, 94.66it/s]\n",
      "Val   78 | Loss:1.90e+00 | Acc: 0.34| F1: 0.34|: 100%|████████████████████████████████| 12/12 [00:00<00:00, 151.48it/s]\n",
      "Train 79 | Loss:1.49e+00 | Acc: 0.53| F1: 0.53|:  36%|███████████▊                     | 10/28 [00:00<00:00, 96.22it/s]"
     ]
    },
    {
     "name": "stdout",
     "output_type": "stream",
     "text": [
      "----------------------------[Epoch79 finished!]----------------------------\n"
     ]
    },
    {
     "name": "stderr",
     "output_type": "stream",
     "text": [
      "Train 79 | Loss:1.49e+00 | Acc: 0.53| F1: 0.52|: 100%|█████████████████████████████████| 28/28 [00:00<00:00, 97.20it/s]\n",
      "Val   79 | Loss:1.90e+00 | Acc: 0.34| F1: 0.34|: 100%|████████████████████████████████| 12/12 [00:00<00:00, 153.30it/s]\n",
      "Train 80 | Loss:1.49e+00 | Acc: 0.53| F1: 0.53|:  39%|████████████▉                    | 11/28 [00:00<00:00, 98.59it/s]"
     ]
    },
    {
     "name": "stdout",
     "output_type": "stream",
     "text": [
      "----------------------------[Epoch80 finished!]----------------------------\n"
     ]
    },
    {
     "name": "stderr",
     "output_type": "stream",
     "text": [
      "Train 80 | Loss:1.49e+00 | Acc: 0.53| F1: 0.52|: 100%|█████████████████████████████████| 28/28 [00:00<00:00, 94.34it/s]\n",
      "Val   80 | Loss:1.90e+00 | Acc: 0.34| F1: 0.34|: 100%|████████████████████████████████| 12/12 [00:00<00:00, 140.81it/s]\n",
      "Train 81 | Loss:1.49e+00 | Acc: 0.53| F1: 0.53|:  36%|███████████▊                     | 10/28 [00:00<00:00, 98.09it/s]"
     ]
    },
    {
     "name": "stdout",
     "output_type": "stream",
     "text": [
      "----------------------------[Epoch81 finished!]----------------------------\n"
     ]
    },
    {
     "name": "stderr",
     "output_type": "stream",
     "text": [
      "Train 81 | Loss:1.49e+00 | Acc: 0.53| F1: 0.52|: 100%|█████████████████████████████████| 28/28 [00:00<00:00, 90.49it/s]\n",
      "Val   81 | Loss:1.90e+00 | Acc: 0.34| F1: 0.34|: 100%|████████████████████████████████| 12/12 [00:00<00:00, 130.44it/s]\n",
      "Train 82 | Loss:1.49e+00 | Acc: 0.53| F1: 0.53|:  36%|███████████▊                     | 10/28 [00:00<00:00, 91.83it/s]"
     ]
    },
    {
     "name": "stdout",
     "output_type": "stream",
     "text": [
      "----------------------------[Epoch82 finished!]----------------------------\n"
     ]
    },
    {
     "name": "stderr",
     "output_type": "stream",
     "text": [
      "Train 82 | Loss:1.49e+00 | Acc: 0.53| F1: 0.52|: 100%|█████████████████████████████████| 28/28 [00:00<00:00, 94.66it/s]\n",
      "Val   82 | Loss:1.90e+00 | Acc: 0.34| F1: 0.34|: 100%|████████████████████████████████| 12/12 [00:00<00:00, 130.16it/s]\n",
      "Train 83 | Loss:1.49e+00 | Acc: 0.53| F1: 0.53|:  32%|██████████▉                       | 9/28 [00:00<00:00, 89.24it/s]"
     ]
    },
    {
     "name": "stdout",
     "output_type": "stream",
     "text": [
      "----------------------------[Epoch83 finished!]----------------------------\n"
     ]
    },
    {
     "name": "stderr",
     "output_type": "stream",
     "text": [
      "Train 83 | Loss:1.49e+00 | Acc: 0.53| F1: 0.52|: 100%|█████████████████████████████████| 28/28 [00:00<00:00, 94.98it/s]\n",
      "Val   83 | Loss:1.90e+00 | Acc: 0.34| F1: 0.34|: 100%|████████████████████████████████| 12/12 [00:00<00:00, 143.80it/s]\n",
      "Train 84 | Loss:1.49e+00 | Acc: 0.54| F1: 0.53|:  36%|███████████▊                     | 10/28 [00:00<00:00, 99.32it/s]"
     ]
    },
    {
     "name": "stdout",
     "output_type": "stream",
     "text": [
      "----------------------------[Epoch84 finished!]----------------------------\n"
     ]
    },
    {
     "name": "stderr",
     "output_type": "stream",
     "text": [
      "Train 84 | Loss:1.49e+00 | Acc: 0.53| F1: 0.52|: 100%|█████████████████████████████████| 28/28 [00:00<00:00, 96.07it/s]\n",
      "Val   84 | Loss:1.90e+00 | Acc: 0.34| F1: 0.34|: 100%|████████████████████████████████| 12/12 [00:00<00:00, 147.70it/s]\n",
      "Train 85 | Loss:1.49e+00 | Acc: 0.54| F1: 0.53|:  39%|████████████▌                   | 11/28 [00:00<00:00, 103.84it/s]"
     ]
    },
    {
     "name": "stdout",
     "output_type": "stream",
     "text": [
      "----------------------------[Epoch85 finished!]----------------------------\n"
     ]
    },
    {
     "name": "stderr",
     "output_type": "stream",
     "text": [
      "Train 85 | Loss:1.49e+00 | Acc: 0.53| F1: 0.52|: 100%|█████████████████████████████████| 28/28 [00:00<00:00, 98.21it/s]\n",
      "Val   85 | Loss:1.90e+00 | Acc: 0.34| F1: 0.34|: 100%|████████████████████████████████| 12/12 [00:00<00:00, 132.99it/s]\n",
      "Train 86 | Loss:1.49e+00 | Acc: 0.54| F1: 0.53|:  32%|██████████▉                       | 9/28 [00:00<00:00, 86.00it/s]"
     ]
    },
    {
     "name": "stdout",
     "output_type": "stream",
     "text": [
      "----------------------------[Epoch86 finished!]----------------------------\n"
     ]
    },
    {
     "name": "stderr",
     "output_type": "stream",
     "text": [
      "Train 86 | Loss:1.49e+00 | Acc: 0.53| F1: 0.52|: 100%|█████████████████████████████████| 28/28 [00:00<00:00, 89.52it/s]\n",
      "Val   86 | Loss:1.90e+00 | Acc: 0.34| F1: 0.34|: 100%|████████████████████████████████| 12/12 [00:00<00:00, 133.95it/s]\n",
      "Train 87 | Loss:1.49e+00 | Acc: 0.54| F1: 0.53|:  36%|███████████▊                     | 10/28 [00:00<00:00, 94.08it/s]"
     ]
    },
    {
     "name": "stdout",
     "output_type": "stream",
     "text": [
      "----------------------------[Epoch87 finished!]----------------------------\n"
     ]
    },
    {
     "name": "stderr",
     "output_type": "stream",
     "text": [
      "Train 87 | Loss:1.49e+00 | Acc: 0.53| F1: 0.52|: 100%|█████████████████████████████████| 28/28 [00:00<00:00, 94.38it/s]\n",
      "Val   87 | Loss:1.90e+00 | Acc: 0.34| F1: 0.34|: 100%|████████████████████████████████| 12/12 [00:00<00:00, 134.39it/s]\n",
      "Train 88 | Loss:1.49e+00 | Acc: 0.54| F1: 0.53|:  32%|██████████▉                       | 9/28 [00:00<00:00, 81.92it/s]"
     ]
    },
    {
     "name": "stdout",
     "output_type": "stream",
     "text": [
      "----------------------------[Epoch88 finished!]----------------------------\n"
     ]
    },
    {
     "name": "stderr",
     "output_type": "stream",
     "text": [
      "Train 88 | Loss:1.49e+00 | Acc: 0.53| F1: 0.52|: 100%|█████████████████████████████████| 28/28 [00:00<00:00, 86.68it/s]\n",
      "Val   88 | Loss:1.90e+00 | Acc: 0.34| F1: 0.34|: 100%|████████████████████████████████| 12/12 [00:00<00:00, 139.14it/s]\n",
      "Train 89 | Loss:1.49e+00 | Acc: 0.54| F1: 0.53|:  36%|███████████▊                     | 10/28 [00:00<00:00, 90.43it/s]"
     ]
    },
    {
     "name": "stdout",
     "output_type": "stream",
     "text": [
      "----------------------------[Epoch89 finished!]----------------------------\n"
     ]
    },
    {
     "name": "stderr",
     "output_type": "stream",
     "text": [
      "Train 89 | Loss:1.49e+00 | Acc: 0.53| F1: 0.52|: 100%|█████████████████████████████████| 28/28 [00:00<00:00, 92.49it/s]\n",
      "Val   89 | Loss:1.90e+00 | Acc: 0.34| F1: 0.34|: 100%|████████████████████████████████| 12/12 [00:00<00:00, 165.68it/s]\n",
      "Train 90 | Loss:1.49e+00 | Acc: 0.54| F1: 0.53|:  36%|███████████▊                     | 10/28 [00:00<00:00, 96.95it/s]"
     ]
    },
    {
     "name": "stdout",
     "output_type": "stream",
     "text": [
      "----------------------------[Epoch90 finished!]----------------------------\n"
     ]
    },
    {
     "name": "stderr",
     "output_type": "stream",
     "text": [
      "Train 90 | Loss:1.49e+00 | Acc: 0.53| F1: 0.52|: 100%|█████████████████████████████████| 28/28 [00:00<00:00, 96.14it/s]\n",
      "Val   90 | Loss:1.90e+00 | Acc: 0.35| F1: 0.34|: 100%|████████████████████████████████| 12/12 [00:00<00:00, 151.24it/s]\n",
      "Train 91 | Loss:1.49e+00 | Acc: 0.54| F1: 0.53|:  36%|███████████▊                     | 10/28 [00:00<00:00, 95.36it/s]"
     ]
    },
    {
     "name": "stdout",
     "output_type": "stream",
     "text": [
      "----------------------------[Epoch91 finished!]----------------------------\n"
     ]
    },
    {
     "name": "stderr",
     "output_type": "stream",
     "text": [
      "Train 91 | Loss:1.49e+00 | Acc: 0.53| F1: 0.52|: 100%|█████████████████████████████████| 28/28 [00:00<00:00, 92.50it/s]\n",
      "Val   91 | Loss:1.90e+00 | Acc: 0.35| F1: 0.34|: 100%|████████████████████████████████| 12/12 [00:00<00:00, 147.63it/s]\n",
      "Train 92 | Loss:1.49e+00 | Acc: 0.54| F1: 0.53|:  32%|██████████▉                       | 9/28 [00:00<00:00, 86.95it/s]"
     ]
    },
    {
     "name": "stdout",
     "output_type": "stream",
     "text": [
      "----------------------------[Epoch92 finished!]----------------------------\n"
     ]
    },
    {
     "name": "stderr",
     "output_type": "stream",
     "text": [
      "Train 92 | Loss:1.49e+00 | Acc: 0.53| F1: 0.52|: 100%|█████████████████████████████████| 28/28 [00:00<00:00, 93.75it/s]\n",
      "Val   92 | Loss:1.90e+00 | Acc: 0.35| F1: 0.34|: 100%|████████████████████████████████| 12/12 [00:00<00:00, 137.47it/s]\n",
      "Train 93 | Loss:1.49e+00 | Acc: 0.54| F1: 0.53|:  36%|███████████▊                     | 10/28 [00:00<00:00, 89.66it/s]"
     ]
    },
    {
     "name": "stdout",
     "output_type": "stream",
     "text": [
      "----------------------------[Epoch93 finished!]----------------------------\n"
     ]
    },
    {
     "name": "stderr",
     "output_type": "stream",
     "text": [
      "Train 93 | Loss:1.49e+00 | Acc: 0.53| F1: 0.52|: 100%|█████████████████████████████████| 28/28 [00:00<00:00, 89.36it/s]\n",
      "Val   93 | Loss:1.90e+00 | Acc: 0.35| F1: 0.34|: 100%|████████████████████████████████| 12/12 [00:00<00:00, 139.08it/s]\n",
      "Train 94 | Loss:1.49e+00 | Acc: 0.54| F1: 0.53|:  36%|███████████▊                     | 10/28 [00:00<00:00, 96.28it/s]"
     ]
    },
    {
     "name": "stdout",
     "output_type": "stream",
     "text": [
      "----------------------------[Epoch94 finished!]----------------------------\n"
     ]
    },
    {
     "name": "stderr",
     "output_type": "stream",
     "text": [
      "Train 94 | Loss:1.49e+00 | Acc: 0.53| F1: 0.52|: 100%|█████████████████████████████████| 28/28 [00:00<00:00, 97.22it/s]\n",
      "Val   94 | Loss:1.90e+00 | Acc: 0.35| F1: 0.34|: 100%|████████████████████████████████| 12/12 [00:00<00:00, 149.00it/s]\n",
      "Train 95 | Loss:1.49e+00 | Acc: 0.53| F1: 0.53|:  36%|███████████▊                     | 10/28 [00:00<00:00, 98.15it/s]"
     ]
    },
    {
     "name": "stdout",
     "output_type": "stream",
     "text": [
      "----------------------------[Epoch95 finished!]----------------------------\n"
     ]
    },
    {
     "name": "stderr",
     "output_type": "stream",
     "text": [
      "Train 95 | Loss:1.49e+00 | Acc: 0.53| F1: 0.52|: 100%|█████████████████████████████████| 28/28 [00:00<00:00, 96.81it/s]\n",
      "Val   95 | Loss:1.90e+00 | Acc: 0.35| F1: 0.34|: 100%|████████████████████████████████| 12/12 [00:00<00:00, 124.11it/s]\n",
      "Train 96 | Loss:1.49e+00 | Acc: 0.53| F1: 0.53|:  36%|███████████▊                     | 10/28 [00:00<00:00, 98.92it/s]"
     ]
    },
    {
     "name": "stdout",
     "output_type": "stream",
     "text": [
      "----------------------------[Epoch96 finished!]----------------------------\n"
     ]
    },
    {
     "name": "stderr",
     "output_type": "stream",
     "text": [
      "Train 96 | Loss:1.49e+00 | Acc: 0.53| F1: 0.52|: 100%|█████████████████████████████████| 28/28 [00:00<00:00, 97.18it/s]\n",
      "Val   96 | Loss:1.90e+00 | Acc: 0.35| F1: 0.34|: 100%|████████████████████████████████| 12/12 [00:00<00:00, 146.20it/s]\n",
      "Train 97 | Loss:1.49e+00 | Acc: 0.54| F1: 0.53|:  29%|█████████▋                        | 8/28 [00:00<00:00, 76.29it/s]"
     ]
    },
    {
     "name": "stdout",
     "output_type": "stream",
     "text": [
      "----------------------------[Epoch97 finished!]----------------------------\n"
     ]
    },
    {
     "name": "stderr",
     "output_type": "stream",
     "text": [
      "Train 97 | Loss:1.49e+00 | Acc: 0.53| F1: 0.52|: 100%|█████████████████████████████████| 28/28 [00:00<00:00, 88.16it/s]\n",
      "Val   97 | Loss:1.90e+00 | Acc: 0.35| F1: 0.34|: 100%|████████████████████████████████| 12/12 [00:00<00:00, 141.14it/s]\n",
      "Train 98 | Loss:1.49e+00 | Acc: 0.54| F1: 0.53|:  32%|██████████▉                       | 9/28 [00:00<00:00, 86.61it/s]"
     ]
    },
    {
     "name": "stdout",
     "output_type": "stream",
     "text": [
      "----------------------------[Epoch98 finished!]----------------------------\n"
     ]
    },
    {
     "name": "stderr",
     "output_type": "stream",
     "text": [
      "Train 98 | Loss:1.49e+00 | Acc: 0.53| F1: 0.52|: 100%|█████████████████████████████████| 28/28 [00:00<00:00, 89.62it/s]\n",
      "Val   98 | Loss:1.90e+00 | Acc: 0.35| F1: 0.34|: 100%|████████████████████████████████| 12/12 [00:00<00:00, 165.49it/s]\n",
      "Train 99 | Loss:1.49e+00 | Acc: 0.54| F1: 0.53|:  32%|██████████▉                       | 9/28 [00:00<00:00, 84.46it/s]"
     ]
    },
    {
     "name": "stdout",
     "output_type": "stream",
     "text": [
      "----------------------------[Epoch99 finished!]----------------------------\n"
     ]
    },
    {
     "name": "stderr",
     "output_type": "stream",
     "text": [
      "Train 99 | Loss:1.49e+00 | Acc: 0.53| F1: 0.52|: 100%|█████████████████████████████████| 28/28 [00:00<00:00, 90.56it/s]\n",
      "Val   99 | Loss:1.90e+00 | Acc: 0.35| F1: 0.34|: 100%|████████████████████████████████| 12/12 [00:00<00:00, 147.21it/s]\n",
      "Train 100 | Loss:1.49e+00 | Acc: 0.54| F1: 0.53|:  39%|████████████▏                  | 11/28 [00:00<00:00, 102.59it/s]"
     ]
    },
    {
     "name": "stdout",
     "output_type": "stream",
     "text": [
      "----------------------------[Epoch100 finished!]----------------------------\n"
     ]
    },
    {
     "name": "stderr",
     "output_type": "stream",
     "text": [
      "Train 100 | Loss:1.49e+00 | Acc: 0.53| F1: 0.52|: 100%|████████████████████████████████| 28/28 [00:00<00:00, 94.05it/s]\n",
      "Val   100 | Loss:1.90e+00 | Acc: 0.35| F1: 0.34|: 100%|███████████████████████████████| 12/12 [00:00<00:00, 127.31it/s]\n",
      "Train 101 | Loss:1.49e+00 | Acc: 0.54| F1: 0.53|:  36%|███████████▍                    | 10/28 [00:00<00:00, 92.99it/s]"
     ]
    },
    {
     "name": "stdout",
     "output_type": "stream",
     "text": [
      "----------------------------[Epoch101 finished!]----------------------------\n"
     ]
    },
    {
     "name": "stderr",
     "output_type": "stream",
     "text": [
      "Train 101 | Loss:1.49e+00 | Acc: 0.53| F1: 0.52|: 100%|████████████████████████████████| 28/28 [00:00<00:00, 96.66it/s]\n",
      "Val   101 | Loss:1.90e+00 | Acc: 0.35| F1: 0.34|: 100%|███████████████████████████████| 12/12 [00:00<00:00, 142.23it/s]\n",
      "Train 102 | Loss:1.49e+00 | Acc: 0.54| F1: 0.53|:  32%|██████████▌                      | 9/28 [00:00<00:00, 85.80it/s]"
     ]
    },
    {
     "name": "stdout",
     "output_type": "stream",
     "text": [
      "----------------------------[Epoch102 finished!]----------------------------\n"
     ]
    },
    {
     "name": "stderr",
     "output_type": "stream",
     "text": [
      "Train 102 | Loss:1.49e+00 | Acc: 0.53| F1: 0.52|: 100%|████████████████████████████████| 28/28 [00:00<00:00, 90.98it/s]\n",
      "Val   102 | Loss:1.90e+00 | Acc: 0.35| F1: 0.34|: 100%|███████████████████████████████| 12/12 [00:00<00:00, 147.76it/s]\n",
      "Train 103 | Loss:1.49e+00 | Acc: 0.54| F1: 0.53|:  39%|████████████▌                   | 11/28 [00:00<00:00, 99.48it/s]"
     ]
    },
    {
     "name": "stdout",
     "output_type": "stream",
     "text": [
      "----------------------------[Epoch103 finished!]----------------------------\n"
     ]
    },
    {
     "name": "stderr",
     "output_type": "stream",
     "text": [
      "Train 103 | Loss:1.49e+00 | Acc: 0.53| F1: 0.52|: 100%|████████████████████████████████| 28/28 [00:00<00:00, 93.42it/s]\n",
      "Val   103 | Loss:1.90e+00 | Acc: 0.35| F1: 0.34|: 100%|███████████████████████████████| 12/12 [00:00<00:00, 142.41it/s]\n",
      "Train 104 | Loss:1.49e+00 | Acc: 0.53| F1: 0.53|:  36%|███████████▍                    | 10/28 [00:00<00:00, 95.33it/s]"
     ]
    },
    {
     "name": "stdout",
     "output_type": "stream",
     "text": [
      "----------------------------[Epoch104 finished!]----------------------------\n"
     ]
    },
    {
     "name": "stderr",
     "output_type": "stream",
     "text": [
      "Train 104 | Loss:1.49e+00 | Acc: 0.53| F1: 0.52|: 100%|████████████████████████████████| 28/28 [00:00<00:00, 98.20it/s]\n",
      "Val   104 | Loss:1.90e+00 | Acc: 0.34| F1: 0.34|: 100%|███████████████████████████████| 12/12 [00:00<00:00, 151.45it/s]\n",
      "Train 105 | Loss:1.49e+00 | Acc: 0.54| F1: 0.53|:  39%|████████████▏                  | 11/28 [00:00<00:00, 101.01it/s]"
     ]
    },
    {
     "name": "stdout",
     "output_type": "stream",
     "text": [
      "----------------------------[Epoch105 finished!]----------------------------\n"
     ]
    },
    {
     "name": "stderr",
     "output_type": "stream",
     "text": [
      "Train 105 | Loss:1.49e+00 | Acc: 0.53| F1: 0.52|: 100%|████████████████████████████████| 28/28 [00:00<00:00, 97.88it/s]\n",
      "Val   105 | Loss:1.90e+00 | Acc: 0.34| F1: 0.34|: 100%|███████████████████████████████| 12/12 [00:00<00:00, 140.75it/s]\n",
      "Train 106 | Loss:1.49e+00 | Acc: 0.54| F1: 0.53|:  32%|██████████▌                      | 9/28 [00:00<00:00, 88.29it/s]"
     ]
    },
    {
     "name": "stdout",
     "output_type": "stream",
     "text": [
      "----------------------------[Epoch106 finished!]----------------------------\n"
     ]
    },
    {
     "name": "stderr",
     "output_type": "stream",
     "text": [
      "Train 106 | Loss:1.49e+00 | Acc: 0.53| F1: 0.52|: 100%|████████████████████████████████| 28/28 [00:00<00:00, 91.89it/s]\n",
      "Val   106 | Loss:1.90e+00 | Acc: 0.34| F1: 0.34|: 100%|███████████████████████████████| 12/12 [00:00<00:00, 144.18it/s]\n",
      "Train 107 | Loss:1.49e+00 | Acc: 0.54| F1: 0.53|:  36%|███████████▍                    | 10/28 [00:00<00:00, 95.32it/s]"
     ]
    },
    {
     "name": "stdout",
     "output_type": "stream",
     "text": [
      "----------------------------[Epoch107 finished!]----------------------------\n"
     ]
    },
    {
     "name": "stderr",
     "output_type": "stream",
     "text": [
      "Train 107 | Loss:1.49e+00 | Acc: 0.53| F1: 0.52|: 100%|████████████████████████████████| 28/28 [00:00<00:00, 93.32it/s]\n",
      "Val   107 | Loss:1.90e+00 | Acc: 0.34| F1: 0.34|: 100%|███████████████████████████████| 12/12 [00:00<00:00, 142.89it/s]\n",
      "Train 108 | Loss:1.49e+00 | Acc: 0.54| F1: 0.53|:  36%|███████████▍                    | 10/28 [00:00<00:00, 92.67it/s]"
     ]
    },
    {
     "name": "stdout",
     "output_type": "stream",
     "text": [
      "----------------------------[Epoch108 finished!]----------------------------\n"
     ]
    },
    {
     "name": "stderr",
     "output_type": "stream",
     "text": [
      "Train 108 | Loss:1.49e+00 | Acc: 0.53| F1: 0.52|: 100%|████████████████████████████████| 28/28 [00:00<00:00, 90.47it/s]\n",
      "Val   108 | Loss:1.90e+00 | Acc: 0.34| F1: 0.34|: 100%|███████████████████████████████| 12/12 [00:00<00:00, 136.14it/s]\n",
      "Train 109 | Loss:1.49e+00 | Acc: 0.54| F1: 0.53|:  32%|██████████▌                      | 9/28 [00:00<00:00, 82.14it/s]"
     ]
    },
    {
     "name": "stdout",
     "output_type": "stream",
     "text": [
      "----------------------------[Epoch109 finished!]----------------------------\n"
     ]
    },
    {
     "name": "stderr",
     "output_type": "stream",
     "text": [
      "Train 109 | Loss:1.49e+00 | Acc: 0.53| F1: 0.52|: 100%|████████████████████████████████| 28/28 [00:00<00:00, 88.22it/s]\n",
      "Val   109 | Loss:1.90e+00 | Acc: 0.34| F1: 0.34|: 100%|███████████████████████████████| 12/12 [00:00<00:00, 149.53it/s]\n",
      "Train 110 | Loss:1.49e+00 | Acc: 0.54| F1: 0.53|:  36%|███████████▍                    | 10/28 [00:00<00:00, 92.95it/s]"
     ]
    },
    {
     "name": "stdout",
     "output_type": "stream",
     "text": [
      "----------------------------[Epoch110 finished!]----------------------------\n"
     ]
    },
    {
     "name": "stderr",
     "output_type": "stream",
     "text": [
      "Train 110 | Loss:1.49e+00 | Acc: 0.53| F1: 0.52|: 100%|████████████████████████████████| 28/28 [00:00<00:00, 94.36it/s]\n",
      "Val   110 | Loss:1.90e+00 | Acc: 0.34| F1: 0.34|: 100%|███████████████████████████████| 12/12 [00:00<00:00, 153.29it/s]\n",
      "Train 111 | Loss:1.49e+00 | Acc: 0.54| F1: 0.53|:  32%|██████████▌                      | 9/28 [00:00<00:00, 89.15it/s]"
     ]
    },
    {
     "name": "stdout",
     "output_type": "stream",
     "text": [
      "----------------------------[Epoch111 finished!]----------------------------\n"
     ]
    },
    {
     "name": "stderr",
     "output_type": "stream",
     "text": [
      "Train 111 | Loss:1.49e+00 | Acc: 0.53| F1: 0.52|: 100%|████████████████████████████████| 28/28 [00:00<00:00, 91.37it/s]\n",
      "Val   111 | Loss:1.90e+00 | Acc: 0.34| F1: 0.34|: 100%|███████████████████████████████| 12/12 [00:00<00:00, 114.45it/s]\n",
      "Train 112 | Loss:1.49e+00 | Acc: 0.54| F1: 0.53|:  32%|██████████▌                      | 9/28 [00:00<00:00, 87.45it/s]"
     ]
    },
    {
     "name": "stdout",
     "output_type": "stream",
     "text": [
      "----------------------------[Epoch112 finished!]----------------------------\n"
     ]
    },
    {
     "name": "stderr",
     "output_type": "stream",
     "text": [
      "Train 112 | Loss:1.49e+00 | Acc: 0.53| F1: 0.52|: 100%|████████████████████████████████| 28/28 [00:00<00:00, 90.20it/s]\n",
      "Val   112 | Loss:1.90e+00 | Acc: 0.34| F1: 0.34|: 100%|███████████████████████████████| 12/12 [00:00<00:00, 137.54it/s]\n",
      "Train 113 | Loss:1.49e+00 | Acc: 0.53| F1: 0.53|:  32%|██████████▌                      | 9/28 [00:00<00:00, 89.46it/s]"
     ]
    },
    {
     "name": "stdout",
     "output_type": "stream",
     "text": [
      "----------------------------[Epoch113 finished!]----------------------------\n"
     ]
    },
    {
     "name": "stderr",
     "output_type": "stream",
     "text": [
      "Train 113 | Loss:1.49e+00 | Acc: 0.53| F1: 0.52|: 100%|████████████████████████████████| 28/28 [00:00<00:00, 86.65it/s]\n",
      "Val   113 | Loss:1.90e+00 | Acc: 0.34| F1: 0.34|: 100%|███████████████████████████████| 12/12 [00:00<00:00, 139.75it/s]\n",
      "Train 114 | Loss:1.49e+00 | Acc: 0.54| F1: 0.53|:  39%|████████████▏                  | 11/28 [00:00<00:00, 105.84it/s]"
     ]
    },
    {
     "name": "stdout",
     "output_type": "stream",
     "text": [
      "----------------------------[Epoch114 finished!]----------------------------\n"
     ]
    },
    {
     "name": "stderr",
     "output_type": "stream",
     "text": [
      "Train 114 | Loss:1.49e+00 | Acc: 0.53| F1: 0.52|: 100%|████████████████████████████████| 28/28 [00:00<00:00, 99.94it/s]\n",
      "Val   114 | Loss:1.90e+00 | Acc: 0.34| F1: 0.34|: 100%|███████████████████████████████| 12/12 [00:00<00:00, 149.69it/s]\n",
      "Train 115 | Loss:1.49e+00 | Acc: 0.53| F1: 0.53|:  39%|████████████▌                   | 11/28 [00:00<00:00, 98.56it/s]"
     ]
    },
    {
     "name": "stdout",
     "output_type": "stream",
     "text": [
      "----------------------------[Epoch115 finished!]----------------------------\n"
     ]
    },
    {
     "name": "stderr",
     "output_type": "stream",
     "text": [
      "Train 115 | Loss:1.49e+00 | Acc: 0.53| F1: 0.52|: 100%|████████████████████████████████| 28/28 [00:00<00:00, 96.20it/s]\n",
      "Val   115 | Loss:1.90e+00 | Acc: 0.34| F1: 0.34|: 100%|███████████████████████████████| 12/12 [00:00<00:00, 148.46it/s]\n",
      "Train 116 | Loss:1.49e+00 | Acc: 0.54| F1: 0.53|:  36%|███████████▍                    | 10/28 [00:00<00:00, 91.76it/s]"
     ]
    },
    {
     "name": "stdout",
     "output_type": "stream",
     "text": [
      "----------------------------[Epoch116 finished!]----------------------------\n"
     ]
    },
    {
     "name": "stderr",
     "output_type": "stream",
     "text": [
      "Train 116 | Loss:1.49e+00 | Acc: 0.53| F1: 0.52|: 100%|████████████████████████████████| 28/28 [00:00<00:00, 93.11it/s]\n",
      "Val   116 | Loss:1.90e+00 | Acc: 0.34| F1: 0.34|: 100%|███████████████████████████████| 12/12 [00:00<00:00, 140.76it/s]\n",
      "Train 117 | Loss:1.49e+00 | Acc: 0.54| F1: 0.53|:  36%|███████████▍                    | 10/28 [00:00<00:00, 90.38it/s]"
     ]
    },
    {
     "name": "stdout",
     "output_type": "stream",
     "text": [
      "----------------------------[Epoch117 finished!]----------------------------\n"
     ]
    },
    {
     "name": "stderr",
     "output_type": "stream",
     "text": [
      "Train 117 | Loss:1.49e+00 | Acc: 0.53| F1: 0.52|: 100%|████████████████████████████████| 28/28 [00:00<00:00, 96.86it/s]\n",
      "Val   117 | Loss:1.90e+00 | Acc: 0.34| F1: 0.34|: 100%|███████████████████████████████| 12/12 [00:00<00:00, 131.59it/s]\n",
      "Train 118 | Loss:1.49e+00 | Acc: 0.54| F1: 0.53|:  36%|███████████▍                    | 10/28 [00:00<00:00, 94.38it/s]"
     ]
    },
    {
     "name": "stdout",
     "output_type": "stream",
     "text": [
      "----------------------------[Epoch118 finished!]----------------------------\n"
     ]
    },
    {
     "name": "stderr",
     "output_type": "stream",
     "text": [
      "Train 118 | Loss:1.49e+00 | Acc: 0.53| F1: 0.52|: 100%|████████████████████████████████| 28/28 [00:00<00:00, 94.03it/s]\n",
      "Val   118 | Loss:1.90e+00 | Acc: 0.34| F1: 0.34|: 100%|███████████████████████████████| 12/12 [00:00<00:00, 131.97it/s]\n",
      "Train 119 | Loss:1.49e+00 | Acc: 0.54| F1: 0.53|:  36%|███████████▍                    | 10/28 [00:00<00:00, 95.08it/s]"
     ]
    },
    {
     "name": "stdout",
     "output_type": "stream",
     "text": [
      "----------------------------[Epoch119 finished!]----------------------------\n"
     ]
    },
    {
     "name": "stderr",
     "output_type": "stream",
     "text": [
      "Train 119 | Loss:1.49e+00 | Acc: 0.53| F1: 0.52|: 100%|████████████████████████████████| 28/28 [00:00<00:00, 99.97it/s]\n",
      "Val   119 | Loss:1.90e+00 | Acc: 0.34| F1: 0.34|: 100%|███████████████████████████████| 12/12 [00:00<00:00, 140.74it/s]\n",
      "Train 120 | Loss:1.49e+00 | Acc: 0.54| F1: 0.53|:  36%|███████████▍                    | 10/28 [00:00<00:00, 97.19it/s]"
     ]
    },
    {
     "name": "stdout",
     "output_type": "stream",
     "text": [
      "----------------------------[Epoch120 finished!]----------------------------\n"
     ]
    },
    {
     "name": "stderr",
     "output_type": "stream",
     "text": [
      "Train 120 | Loss:1.49e+00 | Acc: 0.53| F1: 0.52|: 100%|████████████████████████████████| 28/28 [00:00<00:00, 95.54it/s]\n",
      "Val   120 | Loss:1.90e+00 | Acc: 0.34| F1: 0.34|: 100%|███████████████████████████████| 12/12 [00:00<00:00, 153.36it/s]\n",
      "Train 121 | Loss:1.49e+00 | Acc: 0.54| F1: 0.53|:  32%|██████████▌                      | 9/28 [00:00<00:00, 84.74it/s]"
     ]
    },
    {
     "name": "stdout",
     "output_type": "stream",
     "text": [
      "----------------------------[Epoch121 finished!]----------------------------\n"
     ]
    },
    {
     "name": "stderr",
     "output_type": "stream",
     "text": [
      "Train 121 | Loss:1.49e+00 | Acc: 0.53| F1: 0.52|: 100%|████████████████████████████████| 28/28 [00:00<00:00, 88.97it/s]\n",
      "Val   121 | Loss:1.90e+00 | Acc: 0.34| F1: 0.34|: 100%|███████████████████████████████| 12/12 [00:00<00:00, 139.21it/s]\n",
      "Train 122 | Loss:1.49e+00 | Acc: 0.53| F1: 0.53|:  36%|███████████▍                    | 10/28 [00:00<00:00, 99.10it/s]"
     ]
    },
    {
     "name": "stdout",
     "output_type": "stream",
     "text": [
      "----------------------------[Epoch122 finished!]----------------------------\n"
     ]
    },
    {
     "name": "stderr",
     "output_type": "stream",
     "text": [
      "Train 122 | Loss:1.49e+00 | Acc: 0.53| F1: 0.52|: 100%|████████████████████████████████| 28/28 [00:00<00:00, 97.77it/s]\n",
      "Val   122 | Loss:1.90e+00 | Acc: 0.34| F1: 0.34|: 100%|███████████████████████████████| 12/12 [00:00<00:00, 141.23it/s]\n",
      "Train 123 | Loss:1.49e+00 | Acc: 0.53| F1: 0.53|:  36%|███████████▍                    | 10/28 [00:00<00:00, 99.11it/s]"
     ]
    },
    {
     "name": "stdout",
     "output_type": "stream",
     "text": [
      "----------------------------[Epoch123 finished!]----------------------------\n"
     ]
    },
    {
     "name": "stderr",
     "output_type": "stream",
     "text": [
      "Train 123 | Loss:1.49e+00 | Acc: 0.53| F1: 0.52|: 100%|████████████████████████████████| 28/28 [00:00<00:00, 97.30it/s]\n",
      "Val   123 | Loss:1.90e+00 | Acc: 0.34| F1: 0.34|: 100%|███████████████████████████████| 12/12 [00:00<00:00, 136.00it/s]\n",
      "Train 124 | Loss:1.49e+00 | Acc: 0.54| F1: 0.53|:  32%|██████████▌                      | 9/28 [00:00<00:00, 88.26it/s]"
     ]
    },
    {
     "name": "stdout",
     "output_type": "stream",
     "text": [
      "----------------------------[Epoch124 finished!]----------------------------\n"
     ]
    },
    {
     "name": "stderr",
     "output_type": "stream",
     "text": [
      "Train 124 | Loss:1.49e+00 | Acc: 0.53| F1: 0.52|: 100%|████████████████████████████████| 28/28 [00:00<00:00, 91.08it/s]\n",
      "Val   124 | Loss:1.90e+00 | Acc: 0.34| F1: 0.34|: 100%|███████████████████████████████| 12/12 [00:00<00:00, 144.14it/s]\n",
      "Train 125 | Loss:1.49e+00 | Acc: 0.54| F1: 0.53|:  36%|███████████▍                    | 10/28 [00:00<00:00, 95.27it/s]"
     ]
    },
    {
     "name": "stdout",
     "output_type": "stream",
     "text": [
      "----------------------------[Epoch125 finished!]----------------------------\n"
     ]
    },
    {
     "name": "stderr",
     "output_type": "stream",
     "text": [
      "Train 125 | Loss:1.49e+00 | Acc: 0.53| F1: 0.52|: 100%|████████████████████████████████| 28/28 [00:00<00:00, 92.70it/s]\n",
      "Val   125 | Loss:1.90e+00 | Acc: 0.34| F1: 0.34|: 100%|███████████████████████████████| 12/12 [00:00<00:00, 148.26it/s]\n",
      "Train 126 | Loss:1.49e+00 | Acc: 0.54| F1: 0.53|:  36%|███████████▍                    | 10/28 [00:00<00:00, 96.23it/s]"
     ]
    },
    {
     "name": "stdout",
     "output_type": "stream",
     "text": [
      "----------------------------[Epoch126 finished!]----------------------------\n"
     ]
    },
    {
     "name": "stderr",
     "output_type": "stream",
     "text": [
      "Train 126 | Loss:1.49e+00 | Acc: 0.53| F1: 0.52|: 100%|████████████████████████████████| 28/28 [00:00<00:00, 89.03it/s]\n",
      "Val   126 | Loss:1.90e+00 | Acc: 0.34| F1: 0.34|: 100%|███████████████████████████████| 12/12 [00:00<00:00, 135.04it/s]\n",
      "Train 127 | Loss:1.49e+00 | Acc: 0.54| F1: 0.53|:  39%|████████████▌                   | 11/28 [00:00<00:00, 98.58it/s]"
     ]
    },
    {
     "name": "stdout",
     "output_type": "stream",
     "text": [
      "----------------------------[Epoch127 finished!]----------------------------\n"
     ]
    },
    {
     "name": "stderr",
     "output_type": "stream",
     "text": [
      "Train 127 | Loss:1.49e+00 | Acc: 0.53| F1: 0.52|: 100%|████████████████████████████████| 28/28 [00:00<00:00, 95.00it/s]\n",
      "Val   127 | Loss:1.90e+00 | Acc: 0.34| F1: 0.34|: 100%|███████████████████████████████| 12/12 [00:00<00:00, 142.42it/s]\n",
      "Train 128 | Loss:1.49e+00 | Acc: 0.54| F1: 0.53|:  39%|████████████▌                   | 11/28 [00:00<00:00, 98.32it/s]"
     ]
    },
    {
     "name": "stdout",
     "output_type": "stream",
     "text": [
      "----------------------------[Epoch128 finished!]----------------------------\n"
     ]
    },
    {
     "name": "stderr",
     "output_type": "stream",
     "text": [
      "Train 128 | Loss:1.49e+00 | Acc: 0.53| F1: 0.52|: 100%|████████████████████████████████| 28/28 [00:00<00:00, 90.20it/s]\n",
      "Val   128 | Loss:1.90e+00 | Acc: 0.34| F1: 0.34|: 100%|███████████████████████████████| 12/12 [00:00<00:00, 140.76it/s]\n",
      "Train 129 | Loss:1.49e+00 | Acc: 0.54| F1: 0.53|:  32%|██████████▌                      | 9/28 [00:00<00:00, 84.44it/s]"
     ]
    },
    {
     "name": "stdout",
     "output_type": "stream",
     "text": [
      "----------------------------[Epoch129 finished!]----------------------------\n"
     ]
    },
    {
     "name": "stderr",
     "output_type": "stream",
     "text": [
      "Train 129 | Loss:1.49e+00 | Acc: 0.53| F1: 0.52|: 100%|████████████████████████████████| 28/28 [00:00<00:00, 90.41it/s]\n",
      "Val   129 | Loss:1.90e+00 | Acc: 0.34| F1: 0.34|: 100%|███████████████████████████████| 12/12 [00:00<00:00, 155.85it/s]\n",
      "Train 130 | Loss:1.49e+00 | Acc: 0.54| F1: 0.53|:  39%|████████████▏                  | 11/28 [00:00<00:00, 103.87it/s]"
     ]
    },
    {
     "name": "stdout",
     "output_type": "stream",
     "text": [
      "----------------------------[Epoch130 finished!]----------------------------\n"
     ]
    },
    {
     "name": "stderr",
     "output_type": "stream",
     "text": [
      "Train 130 | Loss:1.49e+00 | Acc: 0.53| F1: 0.52|: 100%|███████████████████████████████| 28/28 [00:00<00:00, 100.33it/s]\n",
      "Val   130 | Loss:1.90e+00 | Acc: 0.34| F1: 0.34|: 100%|███████████████████████████████| 12/12 [00:00<00:00, 154.44it/s]\n",
      "Train 131 | Loss:1.49e+00 | Acc: 0.54| F1: 0.53|:  36%|███████████▍                    | 10/28 [00:00<00:00, 98.12it/s]"
     ]
    },
    {
     "name": "stdout",
     "output_type": "stream",
     "text": [
      "----------------------------[Epoch131 finished!]----------------------------\n"
     ]
    },
    {
     "name": "stderr",
     "output_type": "stream",
     "text": [
      "Train 131 | Loss:1.49e+00 | Acc: 0.53| F1: 0.52|: 100%|████████████████████████████████| 28/28 [00:00<00:00, 95.53it/s]\n",
      "Val   131 | Loss:1.90e+00 | Acc: 0.34| F1: 0.34|: 100%|███████████████████████████████| 12/12 [00:00<00:00, 134.86it/s]\n",
      "Train 132 | Loss:1.49e+00 | Acc: 0.54| F1: 0.53|:  39%|████████████▌                   | 11/28 [00:00<00:00, 94.35it/s]"
     ]
    },
    {
     "name": "stdout",
     "output_type": "stream",
     "text": [
      "----------------------------[Epoch132 finished!]----------------------------\n"
     ]
    },
    {
     "name": "stderr",
     "output_type": "stream",
     "text": [
      "Train 132 | Loss:1.49e+00 | Acc: 0.53| F1: 0.52|: 100%|████████████████████████████████| 28/28 [00:00<00:00, 93.63it/s]\n",
      "Val   132 | Loss:1.90e+00 | Acc: 0.34| F1: 0.34|: 100%|███████████████████████████████| 12/12 [00:00<00:00, 133.55it/s]\n",
      "Train 133 | Loss:1.49e+00 | Acc: 0.54| F1: 0.53|:  36%|███████████▍                    | 10/28 [00:00<00:00, 89.63it/s]"
     ]
    },
    {
     "name": "stdout",
     "output_type": "stream",
     "text": [
      "----------------------------[Epoch133 finished!]----------------------------\n"
     ]
    },
    {
     "name": "stderr",
     "output_type": "stream",
     "text": [
      "Train 133 | Loss:1.49e+00 | Acc: 0.53| F1: 0.52|: 100%|████████████████████████████████| 28/28 [00:00<00:00, 91.96it/s]\n",
      "Val   133 | Loss:1.90e+00 | Acc: 0.34| F1: 0.34|: 100%|███████████████████████████████| 12/12 [00:00<00:00, 137.55it/s]\n",
      "Train 134 | Loss:1.49e+00 | Acc: 0.54| F1: 0.53|:  36%|███████████▍                    | 10/28 [00:00<00:00, 98.11it/s]"
     ]
    },
    {
     "name": "stdout",
     "output_type": "stream",
     "text": [
      "----------------------------[Epoch134 finished!]----------------------------\n"
     ]
    },
    {
     "name": "stderr",
     "output_type": "stream",
     "text": [
      "Train 134 | Loss:1.49e+00 | Acc: 0.53| F1: 0.52|: 100%|████████████████████████████████| 28/28 [00:00<00:00, 89.91it/s]\n",
      "Val   134 | Loss:1.90e+00 | Acc: 0.34| F1: 0.34|: 100%|███████████████████████████████| 12/12 [00:00<00:00, 136.03it/s]\n",
      "Train 135 | Loss:1.49e+00 | Acc: 0.54| F1: 0.53|:  39%|████████████▏                  | 11/28 [00:00<00:00, 102.85it/s]"
     ]
    },
    {
     "name": "stdout",
     "output_type": "stream",
     "text": [
      "----------------------------[Epoch135 finished!]----------------------------\n"
     ]
    },
    {
     "name": "stderr",
     "output_type": "stream",
     "text": [
      "Train 135 | Loss:1.49e+00 | Acc: 0.53| F1: 0.52|: 100%|████████████████████████████████| 28/28 [00:00<00:00, 97.90it/s]\n",
      "Val   135 | Loss:1.90e+00 | Acc: 0.34| F1: 0.34|: 100%|███████████████████████████████| 12/12 [00:00<00:00, 140.62it/s]\n",
      "Train 136 | Loss:1.49e+00 | Acc: 0.54| F1: 0.53|:  39%|████████████▏                  | 11/28 [00:00<00:00, 101.09it/s]"
     ]
    },
    {
     "name": "stdout",
     "output_type": "stream",
     "text": [
      "----------------------------[Epoch136 finished!]----------------------------\n"
     ]
    },
    {
     "name": "stderr",
     "output_type": "stream",
     "text": [
      "Train 136 | Loss:1.49e+00 | Acc: 0.53| F1: 0.52|: 100%|████████████████████████████████| 28/28 [00:00<00:00, 97.87it/s]\n",
      "Val   136 | Loss:1.90e+00 | Acc: 0.34| F1: 0.34|: 100%|███████████████████████████████| 12/12 [00:00<00:00, 135.05it/s]\n",
      "Train 137 | Loss:1.49e+00 | Acc: 0.54| F1: 0.53|:  32%|██████████▌                      | 9/28 [00:00<00:00, 89.72it/s]"
     ]
    },
    {
     "name": "stdout",
     "output_type": "stream",
     "text": [
      "----------------------------[Epoch137 finished!]----------------------------\n"
     ]
    },
    {
     "name": "stderr",
     "output_type": "stream",
     "text": [
      "Train 137 | Loss:1.49e+00 | Acc: 0.53| F1: 0.52|: 100%|████████████████████████████████| 28/28 [00:00<00:00, 94.04it/s]\n",
      "Val   137 | Loss:1.90e+00 | Acc: 0.34| F1: 0.34|: 100%|███████████████████████████████| 12/12 [00:00<00:00, 149.33it/s]\n",
      "Train 138 | Loss:1.49e+00 | Acc: 0.54| F1: 0.53|:  36%|███████████▍                    | 10/28 [00:00<00:00, 93.57it/s]"
     ]
    },
    {
     "name": "stdout",
     "output_type": "stream",
     "text": [
      "----------------------------[Epoch138 finished!]----------------------------\n"
     ]
    },
    {
     "name": "stderr",
     "output_type": "stream",
     "text": [
      "Train 138 | Loss:1.49e+00 | Acc: 0.53| F1: 0.52|: 100%|████████████████████████████████| 28/28 [00:00<00:00, 91.92it/s]\n",
      "Val   138 | Loss:1.90e+00 | Acc: 0.34| F1: 0.34|: 100%|███████████████████████████████| 12/12 [00:00<00:00, 138.02it/s]\n",
      "Train 139 | Loss:1.49e+00 | Acc: 0.54| F1: 0.53|:  36%|███████████▍                    | 10/28 [00:00<00:00, 91.00it/s]"
     ]
    },
    {
     "name": "stdout",
     "output_type": "stream",
     "text": [
      "----------------------------[Epoch139 finished!]----------------------------\n"
     ]
    },
    {
     "name": "stderr",
     "output_type": "stream",
     "text": [
      "Train 139 | Loss:1.49e+00 | Acc: 0.53| F1: 0.52|: 100%|████████████████████████████████| 28/28 [00:00<00:00, 90.99it/s]\n",
      "Val   139 | Loss:1.90e+00 | Acc: 0.34| F1: 0.34|: 100%|███████████████████████████████| 12/12 [00:00<00:00, 133.44it/s]\n",
      "Train 140 | Loss:1.49e+00 | Acc: 0.53| F1: 0.53|:  36%|███████████▍                    | 10/28 [00:00<00:00, 98.25it/s]"
     ]
    },
    {
     "name": "stdout",
     "output_type": "stream",
     "text": [
      "----------------------------[Epoch140 finished!]----------------------------\n"
     ]
    },
    {
     "name": "stderr",
     "output_type": "stream",
     "text": [
      "Train 140 | Loss:1.49e+00 | Acc: 0.53| F1: 0.52|: 100%|████████████████████████████████| 28/28 [00:00<00:00, 93.72it/s]\n",
      "Val   140 | Loss:1.90e+00 | Acc: 0.34| F1: 0.34|: 100%|███████████████████████████████| 12/12 [00:00<00:00, 135.95it/s]\n",
      "Train 141 | Loss:1.49e+00 | Acc: 0.53| F1: 0.53|:  39%|████████████▏                  | 11/28 [00:00<00:00, 104.74it/s]"
     ]
    },
    {
     "name": "stdout",
     "output_type": "stream",
     "text": [
      "----------------------------[Epoch141 finished!]----------------------------\n"
     ]
    },
    {
     "name": "stderr",
     "output_type": "stream",
     "text": [
      "Train 141 | Loss:1.49e+00 | Acc: 0.53| F1: 0.52|: 100%|████████████████████████████████| 28/28 [00:00<00:00, 91.84it/s]\n",
      "Val   141 | Loss:1.90e+00 | Acc: 0.34| F1: 0.34|: 100%|███████████████████████████████| 12/12 [00:00<00:00, 130.60it/s]\n",
      "Train 142 | Loss:1.49e+00 | Acc: 0.53| F1: 0.53|:  39%|████████████▌                   | 11/28 [00:00<00:00, 99.56it/s]"
     ]
    },
    {
     "name": "stdout",
     "output_type": "stream",
     "text": [
      "----------------------------[Epoch142 finished!]----------------------------\n"
     ]
    },
    {
     "name": "stderr",
     "output_type": "stream",
     "text": [
      "Train 142 | Loss:1.49e+00 | Acc: 0.53| F1: 0.52|: 100%|████████████████████████████████| 28/28 [00:00<00:00, 95.67it/s]\n",
      "Val   142 | Loss:1.90e+00 | Acc: 0.34| F1: 0.34|: 100%|███████████████████████████████| 12/12 [00:00<00:00, 145.70it/s]\n",
      "Train 143 | Loss:1.49e+00 | Acc: 0.54| F1: 0.53|:  32%|██████████▌                      | 9/28 [00:00<00:00, 87.56it/s]"
     ]
    },
    {
     "name": "stdout",
     "output_type": "stream",
     "text": [
      "----------------------------[Epoch143 finished!]----------------------------\n"
     ]
    },
    {
     "name": "stderr",
     "output_type": "stream",
     "text": [
      "Train 143 | Loss:1.49e+00 | Acc: 0.53| F1: 0.52|: 100%|████████████████████████████████| 28/28 [00:00<00:00, 92.80it/s]\n",
      "Val   143 | Loss:1.90e+00 | Acc: 0.34| F1: 0.34|: 100%|███████████████████████████████| 12/12 [00:00<00:00, 147.65it/s]\n",
      "Train 144 | Loss:1.49e+00 | Acc: 0.54| F1: 0.53|:  32%|██████████▌                      | 9/28 [00:00<00:00, 86.61it/s]"
     ]
    },
    {
     "name": "stdout",
     "output_type": "stream",
     "text": [
      "----------------------------[Epoch144 finished!]----------------------------\n"
     ]
    },
    {
     "name": "stderr",
     "output_type": "stream",
     "text": [
      "Train 144 | Loss:1.49e+00 | Acc: 0.53| F1: 0.52|: 100%|████████████████████████████████| 28/28 [00:00<00:00, 87.66it/s]\n",
      "Val   144 | Loss:1.90e+00 | Acc: 0.34| F1: 0.34|: 100%|███████████████████████████████| 12/12 [00:00<00:00, 135.06it/s]\n",
      "Train 145 | Loss:1.49e+00 | Acc: 0.54| F1: 0.53|:  36%|███████████▍                    | 10/28 [00:00<00:00, 96.25it/s]"
     ]
    },
    {
     "name": "stdout",
     "output_type": "stream",
     "text": [
      "----------------------------[Epoch145 finished!]----------------------------\n"
     ]
    },
    {
     "name": "stderr",
     "output_type": "stream",
     "text": [
      "Train 145 | Loss:1.49e+00 | Acc: 0.53| F1: 0.52|: 100%|████████████████████████████████| 28/28 [00:00<00:00, 98.21it/s]\n",
      "Val   145 | Loss:1.90e+00 | Acc: 0.34| F1: 0.34|: 100%|███████████████████████████████| 12/12 [00:00<00:00, 144.22it/s]\n",
      "Train 146 | Loss:1.49e+00 | Acc: 0.53| F1: 0.53|:  39%|████████████▏                  | 11/28 [00:00<00:00, 102.24it/s]"
     ]
    },
    {
     "name": "stdout",
     "output_type": "stream",
     "text": [
      "----------------------------[Epoch146 finished!]----------------------------\n"
     ]
    },
    {
     "name": "stderr",
     "output_type": "stream",
     "text": [
      "Train 146 | Loss:1.49e+00 | Acc: 0.53| F1: 0.52|: 100%|███████████████████████████████| 28/28 [00:00<00:00, 100.30it/s]\n",
      "Val   146 | Loss:1.90e+00 | Acc: 0.34| F1: 0.34|: 100%|███████████████████████████████| 12/12 [00:00<00:00, 133.38it/s]\n",
      "Train 147 | Loss:1.49e+00 | Acc: 0.54| F1: 0.53|:  32%|██████████▌                      | 9/28 [00:00<00:00, 88.37it/s]"
     ]
    },
    {
     "name": "stdout",
     "output_type": "stream",
     "text": [
      "----------------------------[Epoch147 finished!]----------------------------\n"
     ]
    },
    {
     "name": "stderr",
     "output_type": "stream",
     "text": [
      "Train 147 | Loss:1.49e+00 | Acc: 0.53| F1: 0.52|: 100%|████████████████████████████████| 28/28 [00:00<00:00, 90.43it/s]\n",
      "Val   147 | Loss:1.90e+00 | Acc: 0.34| F1: 0.34|: 100%|███████████████████████████████| 12/12 [00:00<00:00, 145.91it/s]\n",
      "Train 148 | Loss:1.49e+00 | Acc: 0.54| F1: 0.53|:  36%|███████████▍                    | 10/28 [00:00<00:00, 95.15it/s]"
     ]
    },
    {
     "name": "stdout",
     "output_type": "stream",
     "text": [
      "----------------------------[Epoch148 finished!]----------------------------\n"
     ]
    },
    {
     "name": "stderr",
     "output_type": "stream",
     "text": [
      "Train 148 | Loss:1.49e+00 | Acc: 0.53| F1: 0.52|: 100%|████████████████████████████████| 28/28 [00:00<00:00, 94.49it/s]\n",
      "Val   148 | Loss:1.90e+00 | Acc: 0.34| F1: 0.34|: 100%|███████████████████████████████| 12/12 [00:00<00:00, 138.15it/s]\n",
      "Train 149 | Loss:1.49e+00 | Acc: 0.54| F1: 0.53|:  32%|██████████▌                      | 9/28 [00:00<00:00, 87.46it/s]"
     ]
    },
    {
     "name": "stdout",
     "output_type": "stream",
     "text": [
      "----------------------------[Epoch149 finished!]----------------------------\n"
     ]
    },
    {
     "name": "stderr",
     "output_type": "stream",
     "text": [
      "Train 149 | Loss:1.49e+00 | Acc: 0.53| F1: 0.52|: 100%|████████████████████████████████| 28/28 [00:00<00:00, 88.19it/s]\n",
      "Val   149 | Loss:1.90e+00 | Acc: 0.34| F1: 0.34|: 100%|███████████████████████████████| 12/12 [00:00<00:00, 134.64it/s]\n",
      "Train 150 | Loss:1.49e+00 | Acc: 0.54| F1: 0.53|:  39%|████████████▏                  | 11/28 [00:00<00:00, 100.15it/s]"
     ]
    },
    {
     "name": "stdout",
     "output_type": "stream",
     "text": [
      "----------------------------[Epoch150 finished!]----------------------------\n"
     ]
    },
    {
     "name": "stderr",
     "output_type": "stream",
     "text": [
      "Train 150 | Loss:1.49e+00 | Acc: 0.53| F1: 0.52|: 100%|████████████████████████████████| 28/28 [00:00<00:00, 96.52it/s]\n",
      "Val   150 | Loss:1.90e+00 | Acc: 0.34| F1: 0.34|: 100%|███████████████████████████████| 12/12 [00:00<00:00, 153.38it/s]\n",
      "Train 151 | Loss:1.49e+00 | Acc: 0.54| F1: 0.53|:  36%|███████████▍                    | 10/28 [00:00<00:00, 95.39it/s]"
     ]
    },
    {
     "name": "stdout",
     "output_type": "stream",
     "text": [
      "----------------------------[Epoch151 finished!]----------------------------\n"
     ]
    },
    {
     "name": "stderr",
     "output_type": "stream",
     "text": [
      "Train 151 | Loss:1.49e+00 | Acc: 0.53| F1: 0.52|: 100%|████████████████████████████████| 28/28 [00:00<00:00, 97.88it/s]\n",
      "Val   151 | Loss:1.90e+00 | Acc: 0.34| F1: 0.34|: 100%|███████████████████████████████| 12/12 [00:00<00:00, 157.48it/s]\n",
      "Train 152 | Loss:1.49e+00 | Acc: 0.54| F1: 0.53|:  32%|██████████▌                      | 9/28 [00:00<00:00, 86.54it/s]"
     ]
    },
    {
     "name": "stdout",
     "output_type": "stream",
     "text": [
      "----------------------------[Epoch152 finished!]----------------------------\n"
     ]
    },
    {
     "name": "stderr",
     "output_type": "stream",
     "text": [
      "Train 152 | Loss:1.49e+00 | Acc: 0.53| F1: 0.52|: 100%|████████████████████████████████| 28/28 [00:00<00:00, 90.49it/s]\n",
      "Val   152 | Loss:1.90e+00 | Acc: 0.34| F1: 0.34|: 100%|███████████████████████████████| 12/12 [00:00<00:00, 147.72it/s]\n",
      "Train 153 | Loss:1.49e+00 | Acc: 0.53| F1: 0.53|:  39%|████████████▏                  | 11/28 [00:00<00:00, 100.99it/s]"
     ]
    },
    {
     "name": "stdout",
     "output_type": "stream",
     "text": [
      "----------------------------[Epoch153 finished!]----------------------------\n"
     ]
    },
    {
     "name": "stderr",
     "output_type": "stream",
     "text": [
      "Train 153 | Loss:1.49e+00 | Acc: 0.53| F1: 0.52|: 100%|████████████████████████████████| 28/28 [00:00<00:00, 95.52it/s]\n",
      "Val   153 | Loss:1.90e+00 | Acc: 0.34| F1: 0.34|: 100%|███████████████████████████████| 12/12 [00:00<00:00, 133.41it/s]\n",
      "Train 154 | Loss:1.49e+00 | Acc: 0.54| F1: 0.53|:  32%|██████████▌                      | 9/28 [00:00<00:00, 66.93it/s]"
     ]
    },
    {
     "name": "stdout",
     "output_type": "stream",
     "text": [
      "----------------------------[Epoch154 finished!]----------------------------\n"
     ]
    },
    {
     "name": "stderr",
     "output_type": "stream",
     "text": [
      "Train 154 | Loss:1.49e+00 | Acc: 0.53| F1: 0.52|: 100%|████████████████████████████████| 28/28 [00:00<00:00, 64.23it/s]\n",
      "Val   154 | Loss:1.90e+00 | Acc: 0.34| F1: 0.34|: 100%|███████████████████████████████| 12/12 [00:00<00:00, 123.91it/s]\n",
      "Train 155 | Loss:1.49e+00 | Acc: 0.54| F1: 0.53|:  36%|███████████▍                    | 10/28 [00:00<00:00, 98.09it/s]"
     ]
    },
    {
     "name": "stdout",
     "output_type": "stream",
     "text": [
      "----------------------------[Epoch155 finished!]----------------------------\n"
     ]
    },
    {
     "name": "stderr",
     "output_type": "stream",
     "text": [
      "Train 155 | Loss:1.49e+00 | Acc: 0.53| F1: 0.52|: 100%|████████████████████████████████| 28/28 [00:00<00:00, 93.08it/s]\n",
      "Val   155 | Loss:1.90e+00 | Acc: 0.34| F1: 0.34|: 100%|███████████████████████████████| 12/12 [00:00<00:00, 116.70it/s]\n",
      "Train 156 | Loss:1.48e+00 | Acc: 0.54| F1: 0.53|:  29%|█████████▍                       | 8/28 [00:00<00:00, 72.34it/s]"
     ]
    },
    {
     "name": "stdout",
     "output_type": "stream",
     "text": [
      "----------------------------[Epoch156 finished!]----------------------------\n"
     ]
    },
    {
     "name": "stderr",
     "output_type": "stream",
     "text": [
      "Train 156 | Loss:1.49e+00 | Acc: 0.53| F1: 0.52|: 100%|████████████████████████████████| 28/28 [00:00<00:00, 74.45it/s]\n",
      "Val   156 | Loss:1.90e+00 | Acc: 0.34| F1: 0.34|: 100%|███████████████████████████████| 12/12 [00:00<00:00, 139.29it/s]\n",
      "Train 157 | Loss:1.49e+00 | Acc: 0.54| F1: 0.53|:  36%|███████████▍                    | 10/28 [00:00<00:00, 95.64it/s]"
     ]
    },
    {
     "name": "stdout",
     "output_type": "stream",
     "text": [
      "----------------------------[Epoch157 finished!]----------------------------\n"
     ]
    },
    {
     "name": "stderr",
     "output_type": "stream",
     "text": [
      "Train 157 | Loss:1.49e+00 | Acc: 0.53| F1: 0.52|: 100%|████████████████████████████████| 28/28 [00:00<00:00, 95.00it/s]\n",
      "Val   157 | Loss:1.90e+00 | Acc: 0.34| F1: 0.34|: 100%|███████████████████████████████| 12/12 [00:00<00:00, 136.50it/s]\n",
      "Train 158 | Loss:1.49e+00 | Acc: 0.54| F1: 0.53|:  36%|███████████▍                    | 10/28 [00:00<00:00, 95.34it/s]"
     ]
    },
    {
     "name": "stdout",
     "output_type": "stream",
     "text": [
      "----------------------------[Epoch158 finished!]----------------------------\n"
     ]
    },
    {
     "name": "stderr",
     "output_type": "stream",
     "text": [
      "Train 158 | Loss:1.49e+00 | Acc: 0.53| F1: 0.52|: 100%|████████████████████████████████| 28/28 [00:00<00:00, 86.85it/s]\n",
      "Val   158 | Loss:1.90e+00 | Acc: 0.34| F1: 0.34|: 100%|███████████████████████████████| 12/12 [00:00<00:00, 106.65it/s]\n",
      "Train 159 | Loss:1.49e+00 | Acc: 0.53| F1: 0.53|:  32%|██████████▌                      | 9/28 [00:00<00:00, 79.87it/s]"
     ]
    },
    {
     "name": "stdout",
     "output_type": "stream",
     "text": [
      "----------------------------[Epoch159 finished!]----------------------------\n"
     ]
    },
    {
     "name": "stderr",
     "output_type": "stream",
     "text": [
      "Train 159 | Loss:1.49e+00 | Acc: 0.53| F1: 0.52|: 100%|████████████████████████████████| 28/28 [00:00<00:00, 90.46it/s]\n",
      "Val   159 | Loss:1.90e+00 | Acc: 0.34| F1: 0.34|: 100%|███████████████████████████████| 12/12 [00:00<00:00, 151.44it/s]\n",
      "Train 160 | Loss:1.49e+00 | Acc: 0.54| F1: 0.53|:  36%|███████████▍                    | 10/28 [00:00<00:00, 98.90it/s]"
     ]
    },
    {
     "name": "stdout",
     "output_type": "stream",
     "text": [
      "----------------------------[Epoch160 finished!]----------------------------\n"
     ]
    },
    {
     "name": "stderr",
     "output_type": "stream",
     "text": [
      "Train 160 | Loss:1.49e+00 | Acc: 0.53| F1: 0.52|: 100%|████████████████████████████████| 28/28 [00:00<00:00, 78.74it/s]\n",
      "Val   160 | Loss:1.90e+00 | Acc: 0.34| F1: 0.34|: 100%|███████████████████████████████| 12/12 [00:00<00:00, 137.40it/s]\n",
      "Train 161 | Loss:1.49e+00 | Acc: 0.54| F1: 0.53|:  36%|███████████▍                    | 10/28 [00:00<00:00, 91.59it/s]"
     ]
    },
    {
     "name": "stdout",
     "output_type": "stream",
     "text": [
      "----------------------------[Epoch161 finished!]----------------------------\n"
     ]
    },
    {
     "name": "stderr",
     "output_type": "stream",
     "text": [
      "Train 161 | Loss:1.49e+00 | Acc: 0.53| F1: 0.52|: 100%|████████████████████████████████| 28/28 [00:00<00:00, 90.38it/s]\n",
      "Val   161 | Loss:1.90e+00 | Acc: 0.34| F1: 0.34|: 100%|███████████████████████████████| 12/12 [00:00<00:00, 109.48it/s]\n",
      "Train 162 | Loss:1.49e+00 | Acc: 0.54| F1: 0.53|:  29%|█████████▍                       | 8/28 [00:00<00:00, 73.54it/s]"
     ]
    },
    {
     "name": "stdout",
     "output_type": "stream",
     "text": [
      "----------------------------[Epoch162 finished!]----------------------------\n"
     ]
    },
    {
     "name": "stderr",
     "output_type": "stream",
     "text": [
      "Train 162 | Loss:1.49e+00 | Acc: 0.53| F1: 0.52|: 100%|████████████████████████████████| 28/28 [00:00<00:00, 84.36it/s]\n",
      "Val   162 | Loss:1.90e+00 | Acc: 0.34| F1: 0.34|: 100%|███████████████████████████████| 12/12 [00:00<00:00, 125.06it/s]\n",
      "Train 163 | Loss:1.48e+00 | Acc: 0.54| F1: 0.53|:  25%|████████▎                        | 7/28 [00:00<00:00, 69.38it/s]"
     ]
    },
    {
     "name": "stdout",
     "output_type": "stream",
     "text": [
      "----------------------------[Epoch163 finished!]----------------------------\n"
     ]
    },
    {
     "name": "stderr",
     "output_type": "stream",
     "text": [
      "Train 163 | Loss:1.49e+00 | Acc: 0.53| F1: 0.52|: 100%|████████████████████████████████| 28/28 [00:00<00:00, 74.66it/s]\n",
      "Val   163 | Loss:1.90e+00 | Acc: 0.34| F1: 0.34|: 100%|███████████████████████████████| 12/12 [00:00<00:00, 137.58it/s]\n",
      "Train 164 | Loss:1.49e+00 | Acc: 0.54| F1: 0.53|:  36%|███████████▍                    | 10/28 [00:00<00:00, 98.15it/s]"
     ]
    },
    {
     "name": "stdout",
     "output_type": "stream",
     "text": [
      "----------------------------[Epoch164 finished!]----------------------------\n"
     ]
    },
    {
     "name": "stderr",
     "output_type": "stream",
     "text": [
      "Train 164 | Loss:1.49e+00 | Acc: 0.53| F1: 0.52|: 100%|████████████████████████████████| 28/28 [00:00<00:00, 99.25it/s]\n",
      "Val   164 | Loss:1.90e+00 | Acc: 0.34| F1: 0.34|: 100%|███████████████████████████████| 12/12 [00:00<00:00, 140.77it/s]\n",
      "Train 165 | Loss:1.49e+00 | Acc: 0.54| F1: 0.53|:  39%|████████████▏                  | 11/28 [00:00<00:00, 101.36it/s]"
     ]
    },
    {
     "name": "stdout",
     "output_type": "stream",
     "text": [
      "----------------------------[Epoch165 finished!]----------------------------\n"
     ]
    },
    {
     "name": "stderr",
     "output_type": "stream",
     "text": [
      "Train 165 | Loss:1.49e+00 | Acc: 0.53| F1: 0.52|: 100%|████████████████████████████████| 28/28 [00:00<00:00, 94.38it/s]\n",
      "Val   165 | Loss:1.90e+00 | Acc: 0.34| F1: 0.34|: 100%|███████████████████████████████| 12/12 [00:00<00:00, 158.74it/s]\n",
      "Train 166 | Loss:1.49e+00 | Acc: 0.54| F1: 0.53|:  39%|████████████▏                  | 11/28 [00:00<00:00, 105.09it/s]"
     ]
    },
    {
     "name": "stdout",
     "output_type": "stream",
     "text": [
      "----------------------------[Epoch166 finished!]----------------------------\n"
     ]
    },
    {
     "name": "stderr",
     "output_type": "stream",
     "text": [
      "Train 166 | Loss:1.49e+00 | Acc: 0.53| F1: 0.52|: 100%|████████████████████████████████| 28/28 [00:00<00:00, 97.30it/s]\n",
      "Val   166 | Loss:1.90e+00 | Acc: 0.34| F1: 0.34|: 100%|███████████████████████████████| 12/12 [00:00<00:00, 147.65it/s]\n",
      "Train 167 | Loss:1.49e+00 | Acc: 0.54| F1: 0.53|:  36%|███████████▍                    | 10/28 [00:00<00:00, 99.08it/s]"
     ]
    },
    {
     "name": "stdout",
     "output_type": "stream",
     "text": [
      "----------------------------[Epoch167 finished!]----------------------------\n"
     ]
    },
    {
     "name": "stderr",
     "output_type": "stream",
     "text": [
      "Train 167 | Loss:1.49e+00 | Acc: 0.53| F1: 0.52|: 100%|████████████████████████████████| 28/28 [00:00<00:00, 98.91it/s]\n",
      "Val   167 | Loss:1.90e+00 | Acc: 0.34| F1: 0.34|: 100%|███████████████████████████████| 12/12 [00:00<00:00, 149.02it/s]\n",
      "Train 168 | Loss:1.49e+00 | Acc: 0.54| F1: 0.53|:  36%|███████████▍                    | 10/28 [00:00<00:00, 96.52it/s]"
     ]
    },
    {
     "name": "stdout",
     "output_type": "stream",
     "text": [
      "----------------------------[Epoch168 finished!]----------------------------\n"
     ]
    },
    {
     "name": "stderr",
     "output_type": "stream",
     "text": [
      "Train 168 | Loss:1.49e+00 | Acc: 0.53| F1: 0.52|: 100%|████████████████████████████████| 28/28 [00:00<00:00, 94.04it/s]\n",
      "Val   168 | Loss:1.90e+00 | Acc: 0.34| F1: 0.34|: 100%|███████████████████████████████| 12/12 [00:00<00:00, 139.67it/s]\n",
      "Train 169 | Loss:1.49e+00 | Acc: 0.54| F1: 0.53|:  36%|███████████▍                    | 10/28 [00:00<00:00, 92.10it/s]"
     ]
    },
    {
     "name": "stdout",
     "output_type": "stream",
     "text": [
      "----------------------------[Epoch169 finished!]----------------------------\n"
     ]
    },
    {
     "name": "stderr",
     "output_type": "stream",
     "text": [
      "Train 169 | Loss:1.49e+00 | Acc: 0.53| F1: 0.52|: 100%|████████████████████████████████| 28/28 [00:00<00:00, 94.04it/s]\n",
      "Val   169 | Loss:1.90e+00 | Acc: 0.34| F1: 0.34|: 100%|███████████████████████████████| 12/12 [00:00<00:00, 159.50it/s]\n",
      "Train 170 | Loss:1.49e+00 | Acc: 0.53| F1: 0.53|:  39%|████████████▏                  | 11/28 [00:00<00:00, 106.80it/s]"
     ]
    },
    {
     "name": "stdout",
     "output_type": "stream",
     "text": [
      "----------------------------[Epoch170 finished!]----------------------------\n"
     ]
    },
    {
     "name": "stderr",
     "output_type": "stream",
     "text": [
      "Train 170 | Loss:1.49e+00 | Acc: 0.53| F1: 0.52|: 100%|███████████████████████████████| 28/28 [00:00<00:00, 102.15it/s]\n",
      "Val   170 | Loss:1.90e+00 | Acc: 0.34| F1: 0.34|: 100%|███████████████████████████████| 12/12 [00:00<00:00, 158.67it/s]\n",
      "Train 171 | Loss:1.49e+00 | Acc: 0.53| F1: 0.53|:  43%|█████████████▎                 | 12/28 [00:00<00:00, 109.56it/s]"
     ]
    },
    {
     "name": "stdout",
     "output_type": "stream",
     "text": [
      "----------------------------[Epoch171 finished!]----------------------------\n"
     ]
    },
    {
     "name": "stderr",
     "output_type": "stream",
     "text": [
      "Train 171 | Loss:1.49e+00 | Acc: 0.53| F1: 0.52|: 100%|███████████████████████████████| 28/28 [00:00<00:00, 103.29it/s]\n",
      "Val   171 | Loss:1.90e+00 | Acc: 0.34| F1: 0.34|: 100%|███████████████████████████████| 12/12 [00:00<00:00, 134.50it/s]\n",
      "Train 172 | Loss:1.49e+00 | Acc: 0.54| F1: 0.53|:  36%|███████████▍                    | 10/28 [00:00<00:00, 92.09it/s]"
     ]
    },
    {
     "name": "stdout",
     "output_type": "stream",
     "text": [
      "----------------------------[Epoch172 finished!]----------------------------\n"
     ]
    },
    {
     "name": "stderr",
     "output_type": "stream",
     "text": [
      "Train 172 | Loss:1.49e+00 | Acc: 0.53| F1: 0.52|: 100%|████████████████████████████████| 28/28 [00:00<00:00, 94.65it/s]\n",
      "Val   172 | Loss:1.90e+00 | Acc: 0.34| F1: 0.34|: 100%|███████████████████████████████| 12/12 [00:00<00:00, 140.38it/s]\n",
      "Train 173 | Loss:1.49e+00 | Acc: 0.54| F1: 0.53|:  36%|███████████▍                    | 10/28 [00:00<00:00, 96.77it/s]"
     ]
    },
    {
     "name": "stdout",
     "output_type": "stream",
     "text": [
      "----------------------------[Epoch173 finished!]----------------------------\n"
     ]
    },
    {
     "name": "stderr",
     "output_type": "stream",
     "text": [
      "Train 173 | Loss:1.49e+00 | Acc: 0.53| F1: 0.52|: 100%|████████████████████████████████| 28/28 [00:00<00:00, 92.37it/s]\n",
      "Val   173 | Loss:1.90e+00 | Acc: 0.34| F1: 0.34|: 100%|███████████████████████████████| 12/12 [00:00<00:00, 142.45it/s]\n",
      "Train 174 | Loss:1.49e+00 | Acc: 0.54| F1: 0.53|:  36%|███████████▍                    | 10/28 [00:00<00:00, 93.54it/s]"
     ]
    },
    {
     "name": "stdout",
     "output_type": "stream",
     "text": [
      "----------------------------[Epoch174 finished!]----------------------------\n"
     ]
    },
    {
     "name": "stderr",
     "output_type": "stream",
     "text": [
      "Train 174 | Loss:1.49e+00 | Acc: 0.53| F1: 0.52|: 100%|████████████████████████████████| 28/28 [00:00<00:00, 83.49it/s]\n",
      "Val   174 | Loss:1.90e+00 | Acc: 0.34| F1: 0.34|: 100%|███████████████████████████████| 12/12 [00:00<00:00, 108.83it/s]\n",
      "Train 175 | Loss:1.49e+00 | Acc: 0.54| F1: 0.53|:  36%|███████████▍                    | 10/28 [00:00<00:00, 96.87it/s]"
     ]
    },
    {
     "name": "stdout",
     "output_type": "stream",
     "text": [
      "----------------------------[Epoch175 finished!]----------------------------\n"
     ]
    },
    {
     "name": "stderr",
     "output_type": "stream",
     "text": [
      "Train 175 | Loss:1.49e+00 | Acc: 0.53| F1: 0.52|: 100%|████████████████████████████████| 28/28 [00:00<00:00, 95.53it/s]\n",
      "Val   175 | Loss:1.90e+00 | Acc: 0.34| F1: 0.34|: 100%|███████████████████████████████| 12/12 [00:00<00:00, 145.92it/s]\n",
      "Train 176 | Loss:1.49e+00 | Acc: 0.53| F1: 0.53|:  32%|██████████▌                      | 9/28 [00:00<00:00, 80.60it/s]"
     ]
    },
    {
     "name": "stdout",
     "output_type": "stream",
     "text": [
      "----------------------------[Epoch176 finished!]----------------------------\n"
     ]
    },
    {
     "name": "stderr",
     "output_type": "stream",
     "text": [
      "Train 176 | Loss:1.49e+00 | Acc: 0.53| F1: 0.52|: 100%|████████████████████████████████| 28/28 [00:00<00:00, 84.14it/s]\n",
      "Val   176 | Loss:1.90e+00 | Acc: 0.34| F1: 0.34|: 100%|███████████████████████████████| 12/12 [00:00<00:00, 131.19it/s]\n",
      "Train 177 | Loss:1.49e+00 | Acc: 0.54| F1: 0.53|:  36%|███████████▍                    | 10/28 [00:00<00:00, 94.96it/s]"
     ]
    },
    {
     "name": "stdout",
     "output_type": "stream",
     "text": [
      "----------------------------[Epoch177 finished!]----------------------------\n"
     ]
    },
    {
     "name": "stderr",
     "output_type": "stream",
     "text": [
      "Train 177 | Loss:1.49e+00 | Acc: 0.53| F1: 0.52|: 100%|████████████████████████████████| 28/28 [00:00<00:00, 95.52it/s]\n",
      "Val   177 | Loss:1.90e+00 | Acc: 0.34| F1: 0.34|: 100%|███████████████████████████████| 12/12 [00:00<00:00, 148.67it/s]\n",
      "Train 178 | Loss:1.49e+00 | Acc: 0.54| F1: 0.53|:  36%|███████████▍                    | 10/28 [00:00<00:00, 95.43it/s]"
     ]
    },
    {
     "name": "stdout",
     "output_type": "stream",
     "text": [
      "----------------------------[Epoch178 finished!]----------------------------\n"
     ]
    },
    {
     "name": "stderr",
     "output_type": "stream",
     "text": [
      "Train 178 | Loss:1.49e+00 | Acc: 0.53| F1: 0.52|: 100%|████████████████████████████████| 28/28 [00:00<00:00, 89.66it/s]\n",
      "Val   178 | Loss:1.90e+00 | Acc: 0.34| F1: 0.34|: 100%|███████████████████████████████| 12/12 [00:00<00:00, 132.96it/s]\n",
      "Train 179 | Loss:1.49e+00 | Acc: 0.54| F1: 0.53|:  32%|██████████▌                      | 9/28 [00:00<00:00, 85.93it/s]"
     ]
    },
    {
     "name": "stdout",
     "output_type": "stream",
     "text": [
      "----------------------------[Epoch179 finished!]----------------------------\n"
     ]
    },
    {
     "name": "stderr",
     "output_type": "stream",
     "text": [
      "Train 179 | Loss:1.49e+00 | Acc: 0.53| F1: 0.52|: 100%|████████████████████████████████| 28/28 [00:00<00:00, 91.09it/s]\n",
      "Val   179 | Loss:1.90e+00 | Acc: 0.34| F1: 0.34|: 100%|███████████████████████████████| 12/12 [00:00<00:00, 132.97it/s]\n",
      "Train 180 | Loss:1.49e+00 | Acc: 0.54| F1: 0.53|:  39%|████████████▏                  | 11/28 [00:00<00:00, 102.15it/s]"
     ]
    },
    {
     "name": "stdout",
     "output_type": "stream",
     "text": [
      "----------------------------[Epoch180 finished!]----------------------------\n"
     ]
    },
    {
     "name": "stderr",
     "output_type": "stream",
     "text": [
      "Train 180 | Loss:1.49e+00 | Acc: 0.53| F1: 0.52|: 100%|████████████████████████████████| 28/28 [00:00<00:00, 98.27it/s]\n",
      "Val   180 | Loss:1.90e+00 | Acc: 0.34| F1: 0.34|: 100%|███████████████████████████████| 12/12 [00:00<00:00, 142.68it/s]\n",
      "Train 181 | Loss:1.49e+00 | Acc: 0.54| F1: 0.53|:  39%|████████████▏                  | 11/28 [00:00<00:00, 103.87it/s]"
     ]
    },
    {
     "name": "stdout",
     "output_type": "stream",
     "text": [
      "----------------------------[Epoch181 finished!]----------------------------\n"
     ]
    },
    {
     "name": "stderr",
     "output_type": "stream",
     "text": [
      "Train 181 | Loss:1.49e+00 | Acc: 0.53| F1: 0.52|: 100%|████████████████████████████████| 28/28 [00:00<00:00, 97.83it/s]\n",
      "Val   181 | Loss:1.90e+00 | Acc: 0.34| F1: 0.34|: 100%|███████████████████████████████| 12/12 [00:00<00:00, 136.20it/s]\n",
      "Train 182 | Loss:1.49e+00 | Acc: 0.54| F1: 0.53|:  36%|███████████▍                    | 10/28 [00:00<00:00, 99.86it/s]"
     ]
    },
    {
     "name": "stdout",
     "output_type": "stream",
     "text": [
      "----------------------------[Epoch182 finished!]----------------------------\n"
     ]
    },
    {
     "name": "stderr",
     "output_type": "stream",
     "text": [
      "Train 182 | Loss:1.49e+00 | Acc: 0.53| F1: 0.52|: 100%|████████████████████████████████| 28/28 [00:00<00:00, 93.07it/s]\n",
      "Val   182 | Loss:1.90e+00 | Acc: 0.34| F1: 0.34|: 100%|███████████████████████████████| 12/12 [00:00<00:00, 154.48it/s]\n",
      "Train 183 | Loss:1.49e+00 | Acc: 0.54| F1: 0.53|:  36%|███████████▍                    | 10/28 [00:00<00:00, 93.83it/s]"
     ]
    },
    {
     "name": "stdout",
     "output_type": "stream",
     "text": [
      "----------------------------[Epoch183 finished!]----------------------------\n"
     ]
    },
    {
     "name": "stderr",
     "output_type": "stream",
     "text": [
      "Train 183 | Loss:1.49e+00 | Acc: 0.53| F1: 0.52|: 100%|████████████████████████████████| 28/28 [00:00<00:00, 96.31it/s]\n",
      "Val   183 | Loss:1.90e+00 | Acc: 0.34| F1: 0.34|: 100%|████████████████████████████████| 12/12 [00:00<00:00, 91.48it/s]\n",
      "Train 184 | Loss:1.49e+00 | Acc: 0.53| F1: 0.53|:  29%|█████████▍                       | 8/28 [00:00<00:00, 73.50it/s]"
     ]
    },
    {
     "name": "stdout",
     "output_type": "stream",
     "text": [
      "----------------------------[Epoch184 finished!]----------------------------\n"
     ]
    },
    {
     "name": "stderr",
     "output_type": "stream",
     "text": [
      "Train 184 | Loss:1.49e+00 | Acc: 0.53| F1: 0.52|: 100%|████████████████████████████████| 28/28 [00:00<00:00, 81.33it/s]\n",
      "Val   184 | Loss:1.90e+00 | Acc: 0.34| F1: 0.34|: 100%|███████████████████████████████| 12/12 [00:00<00:00, 147.68it/s]\n",
      "Train 185 | Loss:1.49e+00 | Acc: 0.54| F1: 0.53|:  39%|████████████▏                  | 11/28 [00:00<00:00, 105.87it/s]"
     ]
    },
    {
     "name": "stdout",
     "output_type": "stream",
     "text": [
      "----------------------------[Epoch185 finished!]----------------------------\n"
     ]
    },
    {
     "name": "stderr",
     "output_type": "stream",
     "text": [
      "Train 185 | Loss:1.49e+00 | Acc: 0.53| F1: 0.52|: 100%|███████████████████████████████| 28/28 [00:00<00:00, 102.04it/s]\n",
      "Val   185 | Loss:1.90e+00 | Acc: 0.34| F1: 0.34|: 100%|███████████████████████████████| 12/12 [00:00<00:00, 149.45it/s]\n",
      "Train 186 | Loss:1.49e+00 | Acc: 0.54| F1: 0.53|:  36%|███████████▍                    | 10/28 [00:00<00:00, 95.61it/s]"
     ]
    },
    {
     "name": "stdout",
     "output_type": "stream",
     "text": [
      "----------------------------[Epoch186 finished!]----------------------------\n"
     ]
    },
    {
     "name": "stderr",
     "output_type": "stream",
     "text": [
      "Train 186 | Loss:1.49e+00 | Acc: 0.53| F1: 0.52|: 100%|████████████████████████████████| 28/28 [00:00<00:00, 95.32it/s]\n",
      "Val   186 | Loss:1.90e+00 | Acc: 0.34| F1: 0.34|: 100%|███████████████████████████████| 12/12 [00:00<00:00, 129.14it/s]\n",
      "Train 187 | Loss:1.49e+00 | Acc: 0.54| F1: 0.53|:  36%|███████████▍                    | 10/28 [00:00<00:00, 98.13it/s]"
     ]
    },
    {
     "name": "stdout",
     "output_type": "stream",
     "text": [
      "----------------------------[Epoch187 finished!]----------------------------\n"
     ]
    },
    {
     "name": "stderr",
     "output_type": "stream",
     "text": [
      "Train 187 | Loss:1.49e+00 | Acc: 0.53| F1: 0.52|: 100%|████████████████████████████████| 28/28 [00:00<00:00, 96.51it/s]\n",
      "Val   187 | Loss:1.90e+00 | Acc: 0.34| F1: 0.34|: 100%|███████████████████████████████| 12/12 [00:00<00:00, 136.27it/s]\n",
      "Train 188 | Loss:1.49e+00 | Acc: 0.54| F1: 0.53|:  36%|███████████▍                    | 10/28 [00:00<00:00, 93.55it/s]"
     ]
    },
    {
     "name": "stdout",
     "output_type": "stream",
     "text": [
      "----------------------------[Epoch188 finished!]----------------------------\n"
     ]
    },
    {
     "name": "stderr",
     "output_type": "stream",
     "text": [
      "Train 188 | Loss:1.49e+00 | Acc: 0.53| F1: 0.52|: 100%|████████████████████████████████| 28/28 [00:00<00:00, 95.86it/s]\n",
      "Val   188 | Loss:1.90e+00 | Acc: 0.34| F1: 0.34|: 100%|███████████████████████████████| 12/12 [00:00<00:00, 149.67it/s]\n",
      "Train 189 | Loss:1.49e+00 | Acc: 0.54| F1: 0.53|:  36%|███████████▍                    | 10/28 [00:00<00:00, 93.77it/s]"
     ]
    },
    {
     "name": "stdout",
     "output_type": "stream",
     "text": [
      "----------------------------[Epoch189 finished!]----------------------------\n"
     ]
    },
    {
     "name": "stderr",
     "output_type": "stream",
     "text": [
      "Train 189 | Loss:1.49e+00 | Acc: 0.53| F1: 0.52|: 100%|████████████████████████████████| 28/28 [00:00<00:00, 91.07it/s]\n",
      "Val   189 | Loss:1.90e+00 | Acc: 0.34| F1: 0.34|: 100%|███████████████████████████████| 12/12 [00:00<00:00, 144.25it/s]\n",
      "Train 190 | Loss:1.49e+00 | Acc: 0.54| F1: 0.53|:  36%|███████████▍                    | 10/28 [00:00<00:00, 98.06it/s]"
     ]
    },
    {
     "name": "stdout",
     "output_type": "stream",
     "text": [
      "----------------------------[Epoch190 finished!]----------------------------\n"
     ]
    },
    {
     "name": "stderr",
     "output_type": "stream",
     "text": [
      "Train 190 | Loss:1.49e+00 | Acc: 0.53| F1: 0.52|: 100%|████████████████████████████████| 28/28 [00:00<00:00, 94.70it/s]\n",
      "Val   190 | Loss:1.90e+00 | Acc: 0.34| F1: 0.34|: 100%|███████████████████████████████| 12/12 [00:00<00:00, 153.32it/s]\n",
      "Train 191 | Loss:1.49e+00 | Acc: 0.54| F1: 0.53|:  36%|███████████▍                    | 10/28 [00:00<00:00, 98.12it/s]"
     ]
    },
    {
     "name": "stdout",
     "output_type": "stream",
     "text": [
      "----------------------------[Epoch191 finished!]----------------------------\n"
     ]
    },
    {
     "name": "stderr",
     "output_type": "stream",
     "text": [
      "Train 191 | Loss:1.49e+00 | Acc: 0.53| F1: 0.52|: 100%|████████████████████████████████| 28/28 [00:00<00:00, 98.10it/s]\n",
      "Val   191 | Loss:1.90e+00 | Acc: 0.34| F1: 0.34|: 100%|███████████████████████████████| 12/12 [00:00<00:00, 160.06it/s]\n",
      "Train 192 | Loss:1.48e+00 | Acc: 0.54| F1: 0.53|:  29%|█████████▍                       | 8/28 [00:00<00:00, 60.36it/s]"
     ]
    },
    {
     "name": "stdout",
     "output_type": "stream",
     "text": [
      "----------------------------[Epoch192 finished!]----------------------------\n"
     ]
    },
    {
     "name": "stderr",
     "output_type": "stream",
     "text": [
      "Train 192 | Loss:1.49e+00 | Acc: 0.53| F1: 0.52|: 100%|████████████████████████████████| 28/28 [00:00<00:00, 78.28it/s]\n",
      "Val   192 | Loss:1.90e+00 | Acc: 0.34| F1: 0.34|: 100%|███████████████████████████████| 12/12 [00:00<00:00, 141.99it/s]\n",
      "Train 193 | Loss:1.49e+00 | Acc: 0.54| F1: 0.53|:  32%|██████████▌                      | 9/28 [00:00<00:00, 88.04it/s]"
     ]
    },
    {
     "name": "stdout",
     "output_type": "stream",
     "text": [
      "----------------------------[Epoch193 finished!]----------------------------\n"
     ]
    },
    {
     "name": "stderr",
     "output_type": "stream",
     "text": [
      "Train 193 | Loss:1.49e+00 | Acc: 0.53| F1: 0.52|: 100%|████████████████████████████████| 28/28 [00:00<00:00, 92.49it/s]\n",
      "Val   193 | Loss:1.90e+00 | Acc: 0.34| F1: 0.34|: 100%|███████████████████████████████| 12/12 [00:00<00:00, 152.70it/s]\n",
      "Train 194 | Loss:1.49e+00 | Acc: 0.54| F1: 0.53|:  32%|██████████▌                      | 9/28 [00:00<00:00, 89.21it/s]"
     ]
    },
    {
     "name": "stdout",
     "output_type": "stream",
     "text": [
      "----------------------------[Epoch194 finished!]----------------------------\n"
     ]
    },
    {
     "name": "stderr",
     "output_type": "stream",
     "text": [
      "Train 194 | Loss:1.49e+00 | Acc: 0.53| F1: 0.52|: 100%|████████████████████████████████| 28/28 [00:00<00:00, 83.40it/s]\n",
      "Val   194 | Loss:1.90e+00 | Acc: 0.34| F1: 0.34|: 100%|███████████████████████████████| 12/12 [00:00<00:00, 147.67it/s]\n",
      "Train 195 | Loss:1.49e+00 | Acc: 0.54| F1: 0.53|:  36%|███████████▍                    | 10/28 [00:00<00:00, 96.24it/s]"
     ]
    },
    {
     "name": "stdout",
     "output_type": "stream",
     "text": [
      "----------------------------[Epoch195 finished!]----------------------------\n"
     ]
    },
    {
     "name": "stderr",
     "output_type": "stream",
     "text": [
      "Train 195 | Loss:1.49e+00 | Acc: 0.53| F1: 0.52|: 100%|████████████████████████████████| 28/28 [00:00<00:00, 98.45it/s]\n",
      "Val   195 | Loss:1.90e+00 | Acc: 0.34| F1: 0.34|: 100%|███████████████████████████████| 12/12 [00:00<00:00, 160.88it/s]\n",
      "Train 196 | Loss:1.49e+00 | Acc: 0.54| F1: 0.53|:  32%|██████████▌                      | 9/28 [00:00<00:00, 89.74it/s]"
     ]
    },
    {
     "name": "stdout",
     "output_type": "stream",
     "text": [
      "----------------------------[Epoch196 finished!]----------------------------\n"
     ]
    },
    {
     "name": "stderr",
     "output_type": "stream",
     "text": [
      "Train 196 | Loss:1.49e+00 | Acc: 0.53| F1: 0.52|: 100%|████████████████████████████████| 28/28 [00:00<00:00, 89.23it/s]\n",
      "Val   196 | Loss:1.90e+00 | Acc: 0.34| F1: 0.34|: 100%|███████████████████████████████| 12/12 [00:00<00:00, 153.31it/s]\n",
      "Train 197 | Loss:1.49e+00 | Acc: 0.54| F1: 0.53|:  32%|██████████▌                      | 9/28 [00:00<00:00, 85.65it/s]"
     ]
    },
    {
     "name": "stdout",
     "output_type": "stream",
     "text": [
      "----------------------------[Epoch197 finished!]----------------------------\n"
     ]
    },
    {
     "name": "stderr",
     "output_type": "stream",
     "text": [
      "Train 197 | Loss:1.49e+00 | Acc: 0.53| F1: 0.52|: 100%|████████████████████████████████| 28/28 [00:00<00:00, 93.40it/s]\n",
      "Val   197 | Loss:1.90e+00 | Acc: 0.34| F1: 0.34|: 100%|███████████████████████████████| 12/12 [00:00<00:00, 153.33it/s]\n",
      "Train 198 | Loss:1.49e+00 | Acc: 0.54| F1: 0.53|:  36%|███████████▍                    | 10/28 [00:00<00:00, 95.34it/s]"
     ]
    },
    {
     "name": "stdout",
     "output_type": "stream",
     "text": [
      "----------------------------[Epoch198 finished!]----------------------------\n"
     ]
    },
    {
     "name": "stderr",
     "output_type": "stream",
     "text": [
      "Train 198 | Loss:1.49e+00 | Acc: 0.53| F1: 0.52|: 100%|████████████████████████████████| 28/28 [00:00<00:00, 95.22it/s]\n",
      "Val   198 | Loss:1.90e+00 | Acc: 0.34| F1: 0.34|: 100%|███████████████████████████████| 12/12 [00:00<00:00, 145.91it/s]\n",
      "Train 199 | Loss:1.49e+00 | Acc: 0.53| F1: 0.53|:  36%|███████████▍                    | 10/28 [00:00<00:00, 98.41it/s]"
     ]
    },
    {
     "name": "stdout",
     "output_type": "stream",
     "text": [
      "----------------------------[Epoch199 finished!]----------------------------\n"
     ]
    },
    {
     "name": "stderr",
     "output_type": "stream",
     "text": [
      "Train 199 | Loss:1.49e+00 | Acc: 0.53| F1: 0.52|: 100%|████████████████████████████████| 28/28 [00:00<00:00, 94.03it/s]\n",
      "Val   199 | Loss:1.90e+00 | Acc: 0.34| F1: 0.34|: 100%|███████████████████████████████| 12/12 [00:00<00:00, 133.43it/s]"
     ]
    },
    {
     "name": "stdout",
     "output_type": "stream",
     "text": [
      "----------------------------[Epoch200 finished!]----------------------------\n"
     ]
    },
    {
     "name": "stderr",
     "output_type": "stream",
     "text": [
      "\n"
     ]
    }
   ],
   "source": [
    "#########################################\n",
    "##      Train and Validation loop      ##\n",
    "#########################################\n",
    "train_losses, val_losses = [], []\n",
    "train_accs, val_accs = [], []\n",
    "train_f1, val_f1 = [], []\n",
    "best_model = None\n",
    "best_f1 = 0\n",
    "\n",
    "for epoch in range(n_epochs):\n",
    "    # Train Phase\n",
    "    total_loss = 0\n",
    "    N = 0\n",
    "    confusion = np.zeros((10, 10))\n",
    "    with tqdm.tqdm(enumerate(train_sampler), total=len(train_sampler)) as pbar:\n",
    "        for i, (x, y) in pbar:\n",
    "            #################################\n",
    "            ##          Your Code          ##\n",
    "            #################################\n",
    "            mf = model._forward(x)\n",
    "            total_loss+=x.shape[0]*criterion._forward(mf, y )\n",
    "            criterion.backward(1)\n",
    "            model.backward(criterion.grads[\"x\"])\n",
    "            update_confusion_matrix(confusion , np.argmax(mf,axis=1) , y)\n",
    "            acc = sum(confusion.diagonal())/np.sum(confusion)\n",
    "            f1 = f1_score(confusion)\n",
    "            N+=x.shape[0]\n",
    "            optimizer.step()\n",
    "            pbar.set_description(f'Train {epoch} | Loss:{total_loss/N:.2e} | Acc: {acc:.2f}| F1: {f1:.2f}|')\n",
    "            \n",
    "    # save epoch metrics for train phase\n",
    "    train_losses.append(total_loss/N)\n",
    "    train_accs.append(acc)\n",
    "    train_f1.append(f1)\n",
    "    \n",
    "\n",
    "    # Validation Phase\n",
    "    total_loss = 0\n",
    "    N = 0\n",
    "    confusion = np.zeros((10, 10))\n",
    "    with tqdm.tqdm(enumerate(val_sampler), total=len(val_sampler)) as pbar:\n",
    "        for i, (x, y) in pbar:\n",
    "            #################################\n",
    "            ##          Your Code          ##\n",
    "            #################################\n",
    "            mf = model._forward(x)\n",
    "            total_loss+=x.shape[0]*criterion._forward(mf, y )\n",
    "            update_confusion_matrix(confusion , np.argmax(mf,axis=1) , y)\n",
    "            acc = sum(confusion.diagonal())/np.sum(confusion)\n",
    "            f1 = f1_score(confusion)\n",
    "            N+=x.shape[0]\n",
    "#             acc = None\n",
    "#             f1 = None\n",
    "            pbar.set_description(f'Val   {epoch} | Loss:{total_loss/N:.2e} | Acc: {acc:.2f}| F1: {f1:.2f}|')\n",
    "    \n",
    "    # save epoch metrics for validation phase\n",
    "    val_losses.append(total_loss/N)\n",
    "    val_accs.append(acc)\n",
    "    val_f1.append(f1)\n",
    "    \n",
    "    \n",
    "    #################################\n",
    "    ##       update best model     ##\n",
    "    ##          Your Code          ##\n",
    "    #################################\n",
    "    if best_f1 < f1 :\n",
    "        best_model =copy.deepcopy(model)\n",
    "        best_f1=f1\n",
    "\n",
    "    print(f'----------------------------[Epoch{epoch+1} finished!]----------------------------')"
   ]
  },
  {
   "cell_type": "code",
   "execution_count": 25,
   "metadata": {
    "pycharm": {
     "name": "#%%\n"
    }
   },
   "outputs": [
    {
     "data": {
      "image/png": "[encoded data removed]",
      "text/plain": [
       "<Figure size 1152x504 with 1 Axes>"
      ]
     },
     "metadata": {},
     "output_type": "display_data"
    },
    {
     "data": {
      "image/png": "[encoded data removed]",
      "text/plain": [
       "<Figure size 1152x504 with 1 Axes>"
      ]
     },
     "metadata": {},
     "output_type": "display_data"
    },
    {
     "data": {
      "image/png": "[encoded data removed]",
      "text/plain": [
       "<Figure size 1152x504 with 1 Axes>"
      ]
     },
     "metadata": {},
     "output_type": "display_data"
    },
    {
     "data": {
      "image/png": "[encoded data removed]",
      "text/plain": [
       "<Figure size 1152x504 with 1 Axes>"
      ]
     },
     "metadata": {},
     "output_type": "display_data"
    },
    {
     "data": {
      "image/png": "[encoded data removed]",
      "text/plain": [
       "<Figure size 1152x504 with 1 Axes>"
      ]
     },
     "metadata": {},
     "output_type": "display_data"
    },
    {
     "data": {
      "image/png": "[encoded data removed]",
      "text/plain": [
       "<Figure size 1152x504 with 1 Axes>"
      ]
     },
     "metadata": {},
     "output_type": "display_data"
    }
   ],
   "source": [
    "######################################################################\n",
    "##      Plot train and validation loss, accuracy and f1 graphs      ##\n",
    "######################################################################\n",
    "import seaborn as sns\n",
    "plt.figure(figsize=(16, 7))\n",
    "sns.set(style='dark',)\n",
    "ax = sns.lineplot(x=list(range(n_epochs)), y=list(val_losses))\n",
    "plt.xlabel(\"n_epochs\")\n",
    "plt.ylabel(\"Validation loss\")\n",
    "plt.figure(figsize=(16, 7))\n",
    "sns.set(style='dark',)\n",
    "ax = sns.lineplot(x=list(range(n_epochs)), y=list(train_losses))\n",
    "plt.xlabel(\"n_epochs\")\n",
    "plt.ylabel(\"train loss\")\n",
    "plt.show()\n",
    "\n",
    "plt.figure(figsize=(16, 7))\n",
    "sns.set(style='dark',)\n",
    "ax = sns.lineplot(x=list(range(n_epochs)), y=list(val_accs))\n",
    "plt.xlabel(\"n_epochs\")\n",
    "plt.ylabel(\"Validation accuracy\")\n",
    "\n",
    "plt.figure(figsize=(16, 7))\n",
    "sns.set(style='dark',)\n",
    "ax = sns.lineplot(x=list(range(n_epochs)), y=list(train_accs))\n",
    "plt.xlabel(\"n_epochs\")\n",
    "plt.ylabel(\"train accuracy\")\n",
    "plt.show()\n",
    "\n",
    "plt.figure(figsize=(16, 7))\n",
    "sns.set(style='dark',)\n",
    "ax = sns.lineplot(x=list(range(n_epochs)), y=list( val_f1))\n",
    "plt.xlabel(\"n_epochs\")\n",
    "plt.ylabel(\"f1_score\")\n",
    "\n",
    "\n",
    "\n",
    "plt.figure(figsize=(16, 7))\n",
    "sns.set(style='dark',)\n",
    "ax = sns.lineplot(x=list(range(n_epochs)), y=list( train_f1))\n",
    "plt.xlabel(\"n_epochs\")\n",
    "plt.ylabel(\"f1_score\")\n",
    "plt.show()"
   ]
  },
  {
   "cell_type": "code",
   "execution_count": 26,
   "metadata": {
    "pycharm": {
     "name": "#%%\n"
    }
   },
   "outputs": [
    {
     "name": "stderr",
     "output_type": "stream",
     "text": [
      "Test  | Loss:1.84e+00 | Acc: 0.38| F1: 0.38|: 100%|███████████████████████████████████| 10/10 [00:00<00:00, 137.69it/s]\n"
     ]
    }
   ],
   "source": [
    "############################################################\n",
    "##                  Test your best model                  ##\n",
    "##          Report loss, accuracy and f1 metrics          ##\n",
    "##      Also plot the confusion matrix for test data      ##\n",
    "############################################################\n",
    "total_loss = 0\n",
    "N = 0\n",
    "confusion = np.zeros((10, 10))\n",
    "with tqdm.tqdm(enumerate(test_sampler), total=len(test_sampler)) as pbar:\n",
    "    for i, (x, y) in pbar:\n",
    "        #################################\n",
    "        ##          Your Code          ##\n",
    "        #################################\n",
    "        mf = best_model._forward(x)\n",
    "        total_loss+=x.shape[0]*criterion._forward(mf, y )\n",
    "        update_confusion_matrix(confusion , np.argmax(mf,axis=1) , y)\n",
    "        acc = sum(confusion.diagonal())/np.sum(confusion)\n",
    "        f1 = f1_score(confusion)\n",
    "        N+=x.shape[0]\n",
    "        pbar.set_description(f'Test  | Loss:{total_loss/N:.2e} | Acc: {acc:.2f}| F1: {f1:.2f}|')"
   ]
  },
  {
   "cell_type": "markdown",
   "metadata": {},
   "source": [
    "## Weights Visualization (5 Points)\n",
    "\n",
    "For the last part we want to visualize weights matrix of the first layer."
   ]
  },
  {
   "cell_type": "code",
   "execution_count": 49,
   "metadata": {
    "pycharm": {
     "name": "#%%\n"
    }
   },
   "outputs": [
    {
     "data": {
      "image/png": "[encoded data removed]",
      "text/plain": [
       "<Figure size 3600x3600 with 5 Axes>"
      ]
     },
     "metadata": {},
     "output_type": "display_data"
    }
   ],
   "source": [
    "##########################################################\n",
    "##          Visualize n of first layer weights          ##\n",
    "##          First reshape them to (32, 32, 3)           ##\n",
    "##########################################################\n",
    "n = 5\n",
    "\n",
    "fig = plt.figure(figsize=(50,50))\n",
    "for i in range(n):\n",
    "    www=best_model.layers[0].params[\"W\"]\n",
    "    ww=www[i,:].reshape((32,32,3))\n",
    "    ww-=np.min(ww)\n",
    "    img_grid = fig.add_subplot(5, 5, i+1)\n",
    "    img_grid.imshow(ww)\n",
    "    img_grid.set_yticks([])\n",
    "    img_grid.set_xticks([])\n",
    "    img_grid.set_title(str(i))\n",
    "\n",
    "plt.show()\n"
   ]
  }
 ],
 "metadata": {
  "kernelspec": {
   "display_name": "Python 3",
   "language": "python",
   "name": "python3"
  },
  "language_info": {
   "codemirror_mode": {
    "name": "ipython",
    "version": 3
   },
   "file_extension": ".py",
   "mimetype": "text/x-python",
   "name": "python",
   "nbconvert_exporter": "python",
   "pygments_lexer": "ipython3",
   "version": "3.8.8"
  },
  "pycharm": {
   "stem_cell": {
    "cell_type": "raw",
    "metadata": {
     "collapsed": false
    },
    "source": []
   }
  }
 },
 "nbformat": 4,
 "nbformat_minor": 1
}
